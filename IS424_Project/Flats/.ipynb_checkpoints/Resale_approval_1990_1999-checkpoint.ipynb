{
 "cells": [
  {
   "cell_type": "code",
   "execution_count": 74,
   "metadata": {},
   "outputs": [],
   "source": [
    "# Import packages\n",
    "import numpy as np\n",
    "import pandas as pd\n",
    "\n",
    "from sklearn.preprocessing import StandardScaler # standard score aka z score\n",
    "from sklearn.preprocessing import LabelEncoder #Encode target labels with value between 0 and n_classes-1.\n",
    "from sklearn.preprocessing import LabelBinarizer\n",
    "# returns vector when there are two classes, likely means have to reduce dimension first then use....\n",
    "#https://www.youtube.com/watch?v=63IN-qnI2YI\n",
    "import matplotlib.pyplot as plt\n",
    "import seaborn as sns\n",
    "\n",
    "plt.style.use('ggplot')"
   ]
  },
  {
   "cell_type": "code",
   "execution_count": 75,
   "metadata": {},
   "outputs": [],
   "source": [
    "df = pd.read_csv('resale-flat-prices-based-on-approval-date-1990-1999.csv')"
   ]
  },
  {
   "cell_type": "code",
   "execution_count": 162,
   "metadata": {},
   "outputs": [
    {
     "data": {
      "text/html": [
       "<div>\n",
       "<style scoped>\n",
       "    .dataframe tbody tr th:only-of-type {\n",
       "        vertical-align: middle;\n",
       "    }\n",
       "\n",
       "    .dataframe tbody tr th {\n",
       "        vertical-align: top;\n",
       "    }\n",
       "\n",
       "    .dataframe thead th {\n",
       "        text-align: right;\n",
       "    }\n",
       "</style>\n",
       "<table border=\"1\" class=\"dataframe\">\n",
       "  <thead>\n",
       "    <tr style=\"text-align: right;\">\n",
       "      <th></th>\n",
       "      <th>month</th>\n",
       "      <th>town</th>\n",
       "      <th>flat_type</th>\n",
       "      <th>block</th>\n",
       "      <th>street_name</th>\n",
       "      <th>storey_range</th>\n",
       "      <th>floor_area_sqm</th>\n",
       "      <th>flat_model</th>\n",
       "      <th>lease_commence_date</th>\n",
       "      <th>resale_price</th>\n",
       "      <th>Year</th>\n",
       "      <th>Month</th>\n",
       "      <th>Day of Week</th>\n",
       "      <th>sqrt_resale_price</th>\n",
       "      <th>sqrt_floor_area_sqm</th>\n",
       "    </tr>\n",
       "  </thead>\n",
       "  <tbody>\n",
       "    <tr>\n",
       "      <th>104</th>\n",
       "      <td>1990-01-01</td>\n",
       "      <td>ANG MO KIO</td>\n",
       "      <td>4 ROOM</td>\n",
       "      <td>211</td>\n",
       "      <td>ANG MO KIO AVE 3</td>\n",
       "      <td>04 TO 06</td>\n",
       "      <td>81.0</td>\n",
       "      <td>NEW GENERATION</td>\n",
       "      <td>1977</td>\n",
       "      <td>80000</td>\n",
       "      <td>1990</td>\n",
       "      <td>1</td>\n",
       "      <td>Mon</td>\n",
       "      <td>282.842712</td>\n",
       "      <td>9.000000</td>\n",
       "    </tr>\n",
       "    <tr>\n",
       "      <th>105</th>\n",
       "      <td>1990-01-01</td>\n",
       "      <td>ANG MO KIO</td>\n",
       "      <td>4 ROOM</td>\n",
       "      <td>209</td>\n",
       "      <td>ANG MO KIO AVE 3</td>\n",
       "      <td>07 TO 09</td>\n",
       "      <td>91.0</td>\n",
       "      <td>NEW GENERATION</td>\n",
       "      <td>1977</td>\n",
       "      <td>72000</td>\n",
       "      <td>1990</td>\n",
       "      <td>1</td>\n",
       "      <td>Mon</td>\n",
       "      <td>268.328157</td>\n",
       "      <td>9.539392</td>\n",
       "    </tr>\n",
       "    <tr>\n",
       "      <th>106</th>\n",
       "      <td>1990-01-01</td>\n",
       "      <td>ANG MO KIO</td>\n",
       "      <td>4 ROOM</td>\n",
       "      <td>231</td>\n",
       "      <td>ANG MO KIO AVE 3</td>\n",
       "      <td>04 TO 06</td>\n",
       "      <td>92.0</td>\n",
       "      <td>NEW GENERATION</td>\n",
       "      <td>1977</td>\n",
       "      <td>72000</td>\n",
       "      <td>1990</td>\n",
       "      <td>1</td>\n",
       "      <td>Mon</td>\n",
       "      <td>268.328157</td>\n",
       "      <td>9.591663</td>\n",
       "    </tr>\n",
       "    <tr>\n",
       "      <th>107</th>\n",
       "      <td>1990-01-01</td>\n",
       "      <td>ANG MO KIO</td>\n",
       "      <td>4 ROOM</td>\n",
       "      <td>308</td>\n",
       "      <td>ANG MO KIO AVE 1</td>\n",
       "      <td>10 TO 12</td>\n",
       "      <td>92.0</td>\n",
       "      <td>NEW GENERATION</td>\n",
       "      <td>1976</td>\n",
       "      <td>86000</td>\n",
       "      <td>1990</td>\n",
       "      <td>1</td>\n",
       "      <td>Mon</td>\n",
       "      <td>293.257566</td>\n",
       "      <td>9.591663</td>\n",
       "    </tr>\n",
       "    <tr>\n",
       "      <th>108</th>\n",
       "      <td>1990-01-01</td>\n",
       "      <td>ANG MO KIO</td>\n",
       "      <td>4 ROOM</td>\n",
       "      <td>254</td>\n",
       "      <td>ANG MO KIO AVE 4</td>\n",
       "      <td>10 TO 12</td>\n",
       "      <td>97.0</td>\n",
       "      <td>NEW GENERATION</td>\n",
       "      <td>1977</td>\n",
       "      <td>72000</td>\n",
       "      <td>1990</td>\n",
       "      <td>1</td>\n",
       "      <td>Mon</td>\n",
       "      <td>268.328157</td>\n",
       "      <td>9.848858</td>\n",
       "    </tr>\n",
       "    <tr>\n",
       "      <th>...</th>\n",
       "      <td>...</td>\n",
       "      <td>...</td>\n",
       "      <td>...</td>\n",
       "      <td>...</td>\n",
       "      <td>...</td>\n",
       "      <td>...</td>\n",
       "      <td>...</td>\n",
       "      <td>...</td>\n",
       "      <td>...</td>\n",
       "      <td>...</td>\n",
       "      <td>...</td>\n",
       "      <td>...</td>\n",
       "      <td>...</td>\n",
       "      <td>...</td>\n",
       "      <td>...</td>\n",
       "    </tr>\n",
       "    <tr>\n",
       "      <th>287163</th>\n",
       "      <td>1999-12-01</td>\n",
       "      <td>YISHUN</td>\n",
       "      <td>4 ROOM</td>\n",
       "      <td>605</td>\n",
       "      <td>YISHUN ST 61</td>\n",
       "      <td>07 TO 09</td>\n",
       "      <td>84.0</td>\n",
       "      <td>SIMPLIFIED</td>\n",
       "      <td>1988</td>\n",
       "      <td>206500</td>\n",
       "      <td>1999</td>\n",
       "      <td>12</td>\n",
       "      <td>Wed</td>\n",
       "      <td>454.422711</td>\n",
       "      <td>9.165151</td>\n",
       "    </tr>\n",
       "    <tr>\n",
       "      <th>287164</th>\n",
       "      <td>1999-12-01</td>\n",
       "      <td>YISHUN</td>\n",
       "      <td>4 ROOM</td>\n",
       "      <td>607</td>\n",
       "      <td>YISHUN ST 61</td>\n",
       "      <td>01 TO 03</td>\n",
       "      <td>85.0</td>\n",
       "      <td>SIMPLIFIED</td>\n",
       "      <td>1987</td>\n",
       "      <td>200000</td>\n",
       "      <td>1999</td>\n",
       "      <td>12</td>\n",
       "      <td>Wed</td>\n",
       "      <td>447.213595</td>\n",
       "      <td>9.219544</td>\n",
       "    </tr>\n",
       "    <tr>\n",
       "      <th>287165</th>\n",
       "      <td>1999-12-01</td>\n",
       "      <td>YISHUN</td>\n",
       "      <td>4 ROOM</td>\n",
       "      <td>408</td>\n",
       "      <td>YISHUN AVE 6</td>\n",
       "      <td>07 TO 09</td>\n",
       "      <td>84.0</td>\n",
       "      <td>SIMPLIFIED</td>\n",
       "      <td>1988</td>\n",
       "      <td>187000</td>\n",
       "      <td>1999</td>\n",
       "      <td>12</td>\n",
       "      <td>Wed</td>\n",
       "      <td>432.434966</td>\n",
       "      <td>9.165151</td>\n",
       "    </tr>\n",
       "    <tr>\n",
       "      <th>287166</th>\n",
       "      <td>1999-12-01</td>\n",
       "      <td>YISHUN</td>\n",
       "      <td>4 ROOM</td>\n",
       "      <td>423</td>\n",
       "      <td>YISHUN AVE 11</td>\n",
       "      <td>07 TO 09</td>\n",
       "      <td>84.0</td>\n",
       "      <td>SIMPLIFIED</td>\n",
       "      <td>1988</td>\n",
       "      <td>193000</td>\n",
       "      <td>1999</td>\n",
       "      <td>12</td>\n",
       "      <td>Wed</td>\n",
       "      <td>439.317653</td>\n",
       "      <td>9.165151</td>\n",
       "    </tr>\n",
       "    <tr>\n",
       "      <th>287167</th>\n",
       "      <td>1999-12-01</td>\n",
       "      <td>YISHUN</td>\n",
       "      <td>4 ROOM</td>\n",
       "      <td>440</td>\n",
       "      <td>YISHUN AVE 11</td>\n",
       "      <td>01 TO 03</td>\n",
       "      <td>84.0</td>\n",
       "      <td>SIMPLIFIED</td>\n",
       "      <td>1988</td>\n",
       "      <td>161000</td>\n",
       "      <td>1999</td>\n",
       "      <td>12</td>\n",
       "      <td>Wed</td>\n",
       "      <td>401.248053</td>\n",
       "      <td>9.165151</td>\n",
       "    </tr>\n",
       "  </tbody>\n",
       "</table>\n",
       "<p>98521 rows × 15 columns</p>\n",
       "</div>"
      ],
      "text/plain": [
       "            month        town flat_type block       street_name storey_range  \\\n",
       "104    1990-01-01  ANG MO KIO    4 ROOM   211  ANG MO KIO AVE 3     04 TO 06   \n",
       "105    1990-01-01  ANG MO KIO    4 ROOM   209  ANG MO KIO AVE 3     07 TO 09   \n",
       "106    1990-01-01  ANG MO KIO    4 ROOM   231  ANG MO KIO AVE 3     04 TO 06   \n",
       "107    1990-01-01  ANG MO KIO    4 ROOM   308  ANG MO KIO AVE 1     10 TO 12   \n",
       "108    1990-01-01  ANG MO KIO    4 ROOM   254  ANG MO KIO AVE 4     10 TO 12   \n",
       "...           ...         ...       ...   ...               ...          ...   \n",
       "287163 1999-12-01      YISHUN    4 ROOM   605      YISHUN ST 61     07 TO 09   \n",
       "287164 1999-12-01      YISHUN    4 ROOM   607      YISHUN ST 61     01 TO 03   \n",
       "287165 1999-12-01      YISHUN    4 ROOM   408      YISHUN AVE 6     07 TO 09   \n",
       "287166 1999-12-01      YISHUN    4 ROOM   423     YISHUN AVE 11     07 TO 09   \n",
       "287167 1999-12-01      YISHUN    4 ROOM   440     YISHUN AVE 11     01 TO 03   \n",
       "\n",
       "        floor_area_sqm      flat_model  lease_commence_date  resale_price  \\\n",
       "104               81.0  NEW GENERATION                 1977         80000   \n",
       "105               91.0  NEW GENERATION                 1977         72000   \n",
       "106               92.0  NEW GENERATION                 1977         72000   \n",
       "107               92.0  NEW GENERATION                 1976         86000   \n",
       "108               97.0  NEW GENERATION                 1977         72000   \n",
       "...                ...             ...                  ...           ...   \n",
       "287163            84.0      SIMPLIFIED                 1988        206500   \n",
       "287164            85.0      SIMPLIFIED                 1987        200000   \n",
       "287165            84.0      SIMPLIFIED                 1988        187000   \n",
       "287166            84.0      SIMPLIFIED                 1988        193000   \n",
       "287167            84.0      SIMPLIFIED                 1988        161000   \n",
       "\n",
       "        Year  Month Day of Week  sqrt_resale_price  sqrt_floor_area_sqm  \n",
       "104     1990      1         Mon         282.842712             9.000000  \n",
       "105     1990      1         Mon         268.328157             9.539392  \n",
       "106     1990      1         Mon         268.328157             9.591663  \n",
       "107     1990      1         Mon         293.257566             9.591663  \n",
       "108     1990      1         Mon         268.328157             9.848858  \n",
       "...      ...    ...         ...                ...                  ...  \n",
       "287163  1999     12         Wed         454.422711             9.165151  \n",
       "287164  1999     12         Wed         447.213595             9.219544  \n",
       "287165  1999     12         Wed         432.434966             9.165151  \n",
       "287166  1999     12         Wed         439.317653             9.165151  \n",
       "287167  1999     12         Wed         401.248053             9.165151  \n",
       "\n",
       "[98521 rows x 15 columns]"
      ]
     },
     "execution_count": 162,
     "metadata": {},
     "output_type": "execute_result"
    }
   ],
   "source": [
    "df[df['flat_type'] == '4 ROOM']"
   ]
  },
  {
   "cell_type": "code",
   "execution_count": 77,
   "metadata": {},
   "outputs": [],
   "source": [
    "#df.dropna()"
   ]
  },
  {
   "cell_type": "code",
   "execution_count": 78,
   "metadata": {},
   "outputs": [
    {
     "data": {
      "text/plain": [
       "str"
      ]
     },
     "execution_count": 78,
     "metadata": {},
     "output_type": "execute_result"
    }
   ],
   "source": [
    "type(df['month'].iloc[0])"
   ]
  },
  {
   "cell_type": "code",
   "execution_count": 79,
   "metadata": {},
   "outputs": [
    {
     "data": {
      "text/plain": [
       "0   1990-01-01\n",
       "1   1990-01-01\n",
       "2   1990-01-01\n",
       "3   1990-01-01\n",
       "4   1990-01-01\n",
       "Name: month, dtype: datetime64[ns]"
      ]
     },
     "execution_count": 79,
     "metadata": {},
     "output_type": "execute_result"
    }
   ],
   "source": [
    "df['month']=pd.to_datetime(df['month'])\n",
    "df['month'].head()"
   ]
  },
  {
   "cell_type": "code",
   "execution_count": 80,
   "metadata": {},
   "outputs": [
    {
     "data": {
      "text/plain": [
       "0"
      ]
     },
     "execution_count": 80,
     "metadata": {},
     "output_type": "execute_result"
    }
   ],
   "source": [
    "time = df['month'].iloc[0]\n",
    "time.dayofweek"
   ]
  },
  {
   "cell_type": "code",
   "execution_count": 81,
   "metadata": {},
   "outputs": [],
   "source": [
    "df['Year'] = df['month'].apply(lambda x: x.year)\n",
    "df['Month'] = df['month'].apply(lambda y: y.month)\n",
    "df['Day of Week'] = df['month'].apply(lambda z: z.dayofweek)"
   ]
  },
  {
   "cell_type": "code",
   "execution_count": 82,
   "metadata": {},
   "outputs": [],
   "source": [
    "dmap = {0:'Mon',1:'Tue',2:'Wed',3:'Thu',4:'Fri',5:'Sat',6:'Sun'}\n",
    "df['Day of Week'] = df['Day of Week'].map(dmap)"
   ]
  },
  {
   "cell_type": "code",
   "execution_count": 83,
   "metadata": {},
   "outputs": [
    {
     "data": {
      "text/html": [
       "<div>\n",
       "<style scoped>\n",
       "    .dataframe tbody tr th:only-of-type {\n",
       "        vertical-align: middle;\n",
       "    }\n",
       "\n",
       "    .dataframe tbody tr th {\n",
       "        vertical-align: top;\n",
       "    }\n",
       "\n",
       "    .dataframe thead th {\n",
       "        text-align: right;\n",
       "    }\n",
       "</style>\n",
       "<table border=\"1\" class=\"dataframe\">\n",
       "  <thead>\n",
       "    <tr style=\"text-align: right;\">\n",
       "      <th></th>\n",
       "      <th>month</th>\n",
       "      <th>town</th>\n",
       "      <th>flat_type</th>\n",
       "      <th>block</th>\n",
       "      <th>street_name</th>\n",
       "      <th>storey_range</th>\n",
       "      <th>floor_area_sqm</th>\n",
       "      <th>flat_model</th>\n",
       "      <th>lease_commence_date</th>\n",
       "      <th>resale_price</th>\n",
       "      <th>Year</th>\n",
       "      <th>Month</th>\n",
       "      <th>Day of Week</th>\n",
       "    </tr>\n",
       "  </thead>\n",
       "  <tbody>\n",
       "    <tr>\n",
       "      <th>0</th>\n",
       "      <td>1990-01-01</td>\n",
       "      <td>ANG MO KIO</td>\n",
       "      <td>1 ROOM</td>\n",
       "      <td>309</td>\n",
       "      <td>ANG MO KIO AVE 1</td>\n",
       "      <td>10 TO 12</td>\n",
       "      <td>31.0</td>\n",
       "      <td>IMPROVED</td>\n",
       "      <td>1977</td>\n",
       "      <td>9000</td>\n",
       "      <td>1990</td>\n",
       "      <td>1</td>\n",
       "      <td>Mon</td>\n",
       "    </tr>\n",
       "    <tr>\n",
       "      <th>1</th>\n",
       "      <td>1990-01-01</td>\n",
       "      <td>ANG MO KIO</td>\n",
       "      <td>1 ROOM</td>\n",
       "      <td>309</td>\n",
       "      <td>ANG MO KIO AVE 1</td>\n",
       "      <td>04 TO 06</td>\n",
       "      <td>31.0</td>\n",
       "      <td>IMPROVED</td>\n",
       "      <td>1977</td>\n",
       "      <td>6000</td>\n",
       "      <td>1990</td>\n",
       "      <td>1</td>\n",
       "      <td>Mon</td>\n",
       "    </tr>\n",
       "    <tr>\n",
       "      <th>2</th>\n",
       "      <td>1990-01-01</td>\n",
       "      <td>ANG MO KIO</td>\n",
       "      <td>1 ROOM</td>\n",
       "      <td>309</td>\n",
       "      <td>ANG MO KIO AVE 1</td>\n",
       "      <td>10 TO 12</td>\n",
       "      <td>31.0</td>\n",
       "      <td>IMPROVED</td>\n",
       "      <td>1977</td>\n",
       "      <td>8000</td>\n",
       "      <td>1990</td>\n",
       "      <td>1</td>\n",
       "      <td>Mon</td>\n",
       "    </tr>\n",
       "    <tr>\n",
       "      <th>3</th>\n",
       "      <td>1990-01-01</td>\n",
       "      <td>ANG MO KIO</td>\n",
       "      <td>1 ROOM</td>\n",
       "      <td>309</td>\n",
       "      <td>ANG MO KIO AVE 1</td>\n",
       "      <td>07 TO 09</td>\n",
       "      <td>31.0</td>\n",
       "      <td>IMPROVED</td>\n",
       "      <td>1977</td>\n",
       "      <td>6000</td>\n",
       "      <td>1990</td>\n",
       "      <td>1</td>\n",
       "      <td>Mon</td>\n",
       "    </tr>\n",
       "    <tr>\n",
       "      <th>4</th>\n",
       "      <td>1990-01-01</td>\n",
       "      <td>ANG MO KIO</td>\n",
       "      <td>3 ROOM</td>\n",
       "      <td>216</td>\n",
       "      <td>ANG MO KIO AVE 1</td>\n",
       "      <td>04 TO 06</td>\n",
       "      <td>73.0</td>\n",
       "      <td>NEW GENERATION</td>\n",
       "      <td>1976</td>\n",
       "      <td>47200</td>\n",
       "      <td>1990</td>\n",
       "      <td>1</td>\n",
       "      <td>Mon</td>\n",
       "    </tr>\n",
       "    <tr>\n",
       "      <th>...</th>\n",
       "      <td>...</td>\n",
       "      <td>...</td>\n",
       "      <td>...</td>\n",
       "      <td>...</td>\n",
       "      <td>...</td>\n",
       "      <td>...</td>\n",
       "      <td>...</td>\n",
       "      <td>...</td>\n",
       "      <td>...</td>\n",
       "      <td>...</td>\n",
       "      <td>...</td>\n",
       "      <td>...</td>\n",
       "      <td>...</td>\n",
       "    </tr>\n",
       "    <tr>\n",
       "      <th>287195</th>\n",
       "      <td>1999-12-01</td>\n",
       "      <td>YISHUN</td>\n",
       "      <td>EXECUTIVE</td>\n",
       "      <td>611</td>\n",
       "      <td>YISHUN ST 61</td>\n",
       "      <td>10 TO 12</td>\n",
       "      <td>142.0</td>\n",
       "      <td>APARTMENT</td>\n",
       "      <td>1987</td>\n",
       "      <td>456000</td>\n",
       "      <td>1999</td>\n",
       "      <td>12</td>\n",
       "      <td>Wed</td>\n",
       "    </tr>\n",
       "    <tr>\n",
       "      <th>287196</th>\n",
       "      <td>1999-12-01</td>\n",
       "      <td>YISHUN</td>\n",
       "      <td>EXECUTIVE</td>\n",
       "      <td>324</td>\n",
       "      <td>YISHUN CTRL</td>\n",
       "      <td>01 TO 03</td>\n",
       "      <td>142.0</td>\n",
       "      <td>APARTMENT</td>\n",
       "      <td>1988</td>\n",
       "      <td>408000</td>\n",
       "      <td>1999</td>\n",
       "      <td>12</td>\n",
       "      <td>Wed</td>\n",
       "    </tr>\n",
       "    <tr>\n",
       "      <th>287197</th>\n",
       "      <td>1999-12-01</td>\n",
       "      <td>YISHUN</td>\n",
       "      <td>EXECUTIVE</td>\n",
       "      <td>392</td>\n",
       "      <td>YISHUN AVE 6</td>\n",
       "      <td>07 TO 09</td>\n",
       "      <td>146.0</td>\n",
       "      <td>MAISONETTE</td>\n",
       "      <td>1988</td>\n",
       "      <td>469000</td>\n",
       "      <td>1999</td>\n",
       "      <td>12</td>\n",
       "      <td>Wed</td>\n",
       "    </tr>\n",
       "    <tr>\n",
       "      <th>287198</th>\n",
       "      <td>1999-12-01</td>\n",
       "      <td>YISHUN</td>\n",
       "      <td>EXECUTIVE</td>\n",
       "      <td>356</td>\n",
       "      <td>YISHUN RING RD</td>\n",
       "      <td>04 TO 06</td>\n",
       "      <td>146.0</td>\n",
       "      <td>MAISONETTE</td>\n",
       "      <td>1988</td>\n",
       "      <td>440000</td>\n",
       "      <td>1999</td>\n",
       "      <td>12</td>\n",
       "      <td>Wed</td>\n",
       "    </tr>\n",
       "    <tr>\n",
       "      <th>287199</th>\n",
       "      <td>1999-12-01</td>\n",
       "      <td>YISHUN</td>\n",
       "      <td>EXECUTIVE</td>\n",
       "      <td>358</td>\n",
       "      <td>YISHUN RING RD</td>\n",
       "      <td>01 TO 03</td>\n",
       "      <td>145.0</td>\n",
       "      <td>MAISONETTE</td>\n",
       "      <td>1988</td>\n",
       "      <td>484000</td>\n",
       "      <td>1999</td>\n",
       "      <td>12</td>\n",
       "      <td>Wed</td>\n",
       "    </tr>\n",
       "  </tbody>\n",
       "</table>\n",
       "<p>287200 rows × 13 columns</p>\n",
       "</div>"
      ],
      "text/plain": [
       "            month        town  flat_type block       street_name storey_range  \\\n",
       "0      1990-01-01  ANG MO KIO     1 ROOM   309  ANG MO KIO AVE 1     10 TO 12   \n",
       "1      1990-01-01  ANG MO KIO     1 ROOM   309  ANG MO KIO AVE 1     04 TO 06   \n",
       "2      1990-01-01  ANG MO KIO     1 ROOM   309  ANG MO KIO AVE 1     10 TO 12   \n",
       "3      1990-01-01  ANG MO KIO     1 ROOM   309  ANG MO KIO AVE 1     07 TO 09   \n",
       "4      1990-01-01  ANG MO KIO     3 ROOM   216  ANG MO KIO AVE 1     04 TO 06   \n",
       "...           ...         ...        ...   ...               ...          ...   \n",
       "287195 1999-12-01      YISHUN  EXECUTIVE   611      YISHUN ST 61     10 TO 12   \n",
       "287196 1999-12-01      YISHUN  EXECUTIVE   324       YISHUN CTRL     01 TO 03   \n",
       "287197 1999-12-01      YISHUN  EXECUTIVE   392      YISHUN AVE 6     07 TO 09   \n",
       "287198 1999-12-01      YISHUN  EXECUTIVE   356    YISHUN RING RD     04 TO 06   \n",
       "287199 1999-12-01      YISHUN  EXECUTIVE   358    YISHUN RING RD     01 TO 03   \n",
       "\n",
       "        floor_area_sqm      flat_model  lease_commence_date  resale_price  \\\n",
       "0                 31.0        IMPROVED                 1977          9000   \n",
       "1                 31.0        IMPROVED                 1977          6000   \n",
       "2                 31.0        IMPROVED                 1977          8000   \n",
       "3                 31.0        IMPROVED                 1977          6000   \n",
       "4                 73.0  NEW GENERATION                 1976         47200   \n",
       "...                ...             ...                  ...           ...   \n",
       "287195           142.0       APARTMENT                 1987        456000   \n",
       "287196           142.0       APARTMENT                 1988        408000   \n",
       "287197           146.0      MAISONETTE                 1988        469000   \n",
       "287198           146.0      MAISONETTE                 1988        440000   \n",
       "287199           145.0      MAISONETTE                 1988        484000   \n",
       "\n",
       "        Year  Month Day of Week  \n",
       "0       1990      1         Mon  \n",
       "1       1990      1         Mon  \n",
       "2       1990      1         Mon  \n",
       "3       1990      1         Mon  \n",
       "4       1990      1         Mon  \n",
       "...      ...    ...         ...  \n",
       "287195  1999     12         Wed  \n",
       "287196  1999     12         Wed  \n",
       "287197  1999     12         Wed  \n",
       "287198  1999     12         Wed  \n",
       "287199  1999     12         Wed  \n",
       "\n",
       "[287200 rows x 13 columns]"
      ]
     },
     "execution_count": 83,
     "metadata": {},
     "output_type": "execute_result"
    }
   ],
   "source": [
    "df"
   ]
  },
  {
   "cell_type": "code",
   "execution_count": 84,
   "metadata": {},
   "outputs": [
    {
     "data": {
      "text/plain": [
       "Text(0.5, 1.0, 'resale volume for 1990-1999 by day')"
      ]
     },
     "execution_count": 84,
     "metadata": {},
     "output_type": "execute_result"
    },
    {
     "data": {
      "image/png": "[encoded data removed]",
      "text/plain": [
       "<Figure size 432x288 with 1 Axes>"
      ]
     },
     "metadata": {},
     "output_type": "display_data"
    }
   ],
   "source": [
    "sns.countplot(x='Day of Week',data=df,hue='flat_type')\n",
    "plt.legend(bbox_to_anchor=(1.05, 1), loc=2, borderaxespad=0.)\n",
    "plt.title('resale volume for 1990-1999 by day')"
   ]
  },
  {
   "cell_type": "code",
   "execution_count": 85,
   "metadata": {},
   "outputs": [
    {
     "data": {
      "text/plain": [
       "Text(0.5, 1.0, 'resale volume for 1990-1999 by day')"
      ]
     },
     "execution_count": 85,
     "metadata": {},
     "output_type": "execute_result"
    },
    {
     "data": {
      "image/png": "[encoded data removed]",
      "text/plain": [
       "<Figure size 432x288 with 1 Axes>"
      ]
     },
     "metadata": {},
     "output_type": "display_data"
    }
   ],
   "source": [
    "sns.countplot(x='Year',data=df,hue='flat_type')\n",
    "plt.legend(bbox_to_anchor=(1.05, 1), loc=2, borderaxespad=0.)\n",
    "plt.title('resale volume for 1990-1999 by day')"
   ]
  },
  {
   "cell_type": "code",
   "execution_count": 86,
   "metadata": {},
   "outputs": [
    {
     "data": {
      "text/html": [
       "<div>\n",
       "<style scoped>\n",
       "    .dataframe tbody tr th:only-of-type {\n",
       "        vertical-align: middle;\n",
       "    }\n",
       "\n",
       "    .dataframe tbody tr th {\n",
       "        vertical-align: top;\n",
       "    }\n",
       "\n",
       "    .dataframe thead th {\n",
       "        text-align: right;\n",
       "    }\n",
       "</style>\n",
       "<table border=\"1\" class=\"dataframe\">\n",
       "  <thead>\n",
       "    <tr style=\"text-align: right;\">\n",
       "      <th></th>\n",
       "      <th>floor_area_sqm</th>\n",
       "      <th>lease_commence_date</th>\n",
       "      <th>resale_price</th>\n",
       "      <th>Year</th>\n",
       "      <th>Month</th>\n",
       "    </tr>\n",
       "  </thead>\n",
       "  <tbody>\n",
       "    <tr>\n",
       "      <th>count</th>\n",
       "      <td>287200.000000</td>\n",
       "      <td>287200.000000</td>\n",
       "      <td>287200.000000</td>\n",
       "      <td>287200.000000</td>\n",
       "      <td>287200.000000</td>\n",
       "    </tr>\n",
       "    <tr>\n",
       "      <th>mean</th>\n",
       "      <td>93.351439</td>\n",
       "      <td>1983.206741</td>\n",
       "      <td>219541.850313</td>\n",
       "      <td>1995.915066</td>\n",
       "      <td>6.606536</td>\n",
       "    </tr>\n",
       "    <tr>\n",
       "      <th>std</th>\n",
       "      <td>27.361839</td>\n",
       "      <td>6.085734</td>\n",
       "      <td>128144.384286</td>\n",
       "      <td>2.674011</td>\n",
       "      <td>3.434131</td>\n",
       "    </tr>\n",
       "    <tr>\n",
       "      <th>min</th>\n",
       "      <td>28.000000</td>\n",
       "      <td>1967.000000</td>\n",
       "      <td>5000.000000</td>\n",
       "      <td>1990.000000</td>\n",
       "      <td>1.000000</td>\n",
       "    </tr>\n",
       "    <tr>\n",
       "      <th>25%</th>\n",
       "      <td>68.000000</td>\n",
       "      <td>1979.000000</td>\n",
       "      <td>127000.000000</td>\n",
       "      <td>1994.000000</td>\n",
       "      <td>4.000000</td>\n",
       "    </tr>\n",
       "    <tr>\n",
       "      <th>50%</th>\n",
       "      <td>91.000000</td>\n",
       "      <td>1984.000000</td>\n",
       "      <td>195000.000000</td>\n",
       "      <td>1996.000000</td>\n",
       "      <td>7.000000</td>\n",
       "    </tr>\n",
       "    <tr>\n",
       "      <th>75%</th>\n",
       "      <td>113.000000</td>\n",
       "      <td>1987.000000</td>\n",
       "      <td>298000.000000</td>\n",
       "      <td>1998.000000</td>\n",
       "      <td>10.000000</td>\n",
       "    </tr>\n",
       "    <tr>\n",
       "      <th>max</th>\n",
       "      <td>307.000000</td>\n",
       "      <td>1997.000000</td>\n",
       "      <td>900000.000000</td>\n",
       "      <td>1999.000000</td>\n",
       "      <td>12.000000</td>\n",
       "    </tr>\n",
       "  </tbody>\n",
       "</table>\n",
       "</div>"
      ],
      "text/plain": [
       "       floor_area_sqm  lease_commence_date   resale_price           Year  \\\n",
       "count   287200.000000        287200.000000  287200.000000  287200.000000   \n",
       "mean        93.351439          1983.206741  219541.850313    1995.915066   \n",
       "std         27.361839             6.085734  128144.384286       2.674011   \n",
       "min         28.000000          1967.000000    5000.000000    1990.000000   \n",
       "25%         68.000000          1979.000000  127000.000000    1994.000000   \n",
       "50%         91.000000          1984.000000  195000.000000    1996.000000   \n",
       "75%        113.000000          1987.000000  298000.000000    1998.000000   \n",
       "max        307.000000          1997.000000  900000.000000    1999.000000   \n",
       "\n",
       "               Month  \n",
       "count  287200.000000  \n",
       "mean        6.606536  \n",
       "std         3.434131  \n",
       "min         1.000000  \n",
       "25%         4.000000  \n",
       "50%         7.000000  \n",
       "75%        10.000000  \n",
       "max        12.000000  "
      ]
     },
     "execution_count": 86,
     "metadata": {},
     "output_type": "execute_result"
    }
   ],
   "source": [
    "df.describe()"
   ]
  },
  {
   "cell_type": "code",
   "execution_count": 87,
   "metadata": {},
   "outputs": [
    {
     "data": {
      "text/plain": [
       "<AxesSubplot:>"
      ]
     },
     "execution_count": 87,
     "metadata": {},
     "output_type": "execute_result"
    },
    {
     "data": {
      "image/png": "[encoded data removed]",
      "text/plain": [
       "<Figure size 432x288 with 2 Axes>"
      ]
     },
     "metadata": {},
     "output_type": "display_data"
    }
   ],
   "source": [
    "a = df.corr()\n",
    "sns.heatmap(a,annot = True)"
   ]
  },
  {
   "cell_type": "code",
   "execution_count": 88,
   "metadata": {},
   "outputs": [
    {
     "data": {
      "text/html": [
       "<div>\n",
       "<style scoped>\n",
       "    .dataframe tbody tr th:only-of-type {\n",
       "        vertical-align: middle;\n",
       "    }\n",
       "\n",
       "    .dataframe tbody tr th {\n",
       "        vertical-align: top;\n",
       "    }\n",
       "\n",
       "    .dataframe thead th {\n",
       "        text-align: right;\n",
       "    }\n",
       "</style>\n",
       "<table border=\"1\" class=\"dataframe\">\n",
       "  <thead>\n",
       "    <tr style=\"text-align: right;\">\n",
       "      <th></th>\n",
       "      <th>floor_area_sqm</th>\n",
       "      <th>lease_commence_date</th>\n",
       "      <th>resale_price</th>\n",
       "      <th>Year</th>\n",
       "      <th>Month</th>\n",
       "    </tr>\n",
       "  </thead>\n",
       "  <tbody>\n",
       "    <tr>\n",
       "      <th>floor_area_sqm</th>\n",
       "      <td>1.000000</td>\n",
       "      <td>0.578498</td>\n",
       "      <td>0.797008</td>\n",
       "      <td>0.139423</td>\n",
       "      <td>0.004093</td>\n",
       "    </tr>\n",
       "    <tr>\n",
       "      <th>lease_commence_date</th>\n",
       "      <td>0.578498</td>\n",
       "      <td>1.000000</td>\n",
       "      <td>0.505054</td>\n",
       "      <td>0.252881</td>\n",
       "      <td>0.017654</td>\n",
       "    </tr>\n",
       "    <tr>\n",
       "      <th>resale_price</th>\n",
       "      <td>0.797008</td>\n",
       "      <td>0.505054</td>\n",
       "      <td>1.000000</td>\n",
       "      <td>0.491466</td>\n",
       "      <td>0.032373</td>\n",
       "    </tr>\n",
       "    <tr>\n",
       "      <th>Year</th>\n",
       "      <td>0.139423</td>\n",
       "      <td>0.252881</td>\n",
       "      <td>0.491466</td>\n",
       "      <td>1.000000</td>\n",
       "      <td>-0.042002</td>\n",
       "    </tr>\n",
       "    <tr>\n",
       "      <th>Month</th>\n",
       "      <td>0.004093</td>\n",
       "      <td>0.017654</td>\n",
       "      <td>0.032373</td>\n",
       "      <td>-0.042002</td>\n",
       "      <td>1.000000</td>\n",
       "    </tr>\n",
       "  </tbody>\n",
       "</table>\n",
       "</div>"
      ],
      "text/plain": [
       "                     floor_area_sqm  lease_commence_date  resale_price  \\\n",
       "floor_area_sqm             1.000000             0.578498      0.797008   \n",
       "lease_commence_date        0.578498             1.000000      0.505054   \n",
       "resale_price               0.797008             0.505054      1.000000   \n",
       "Year                       0.139423             0.252881      0.491466   \n",
       "Month                      0.004093             0.017654      0.032373   \n",
       "\n",
       "                         Year     Month  \n",
       "floor_area_sqm       0.139423  0.004093  \n",
       "lease_commence_date  0.252881  0.017654  \n",
       "resale_price         0.491466  0.032373  \n",
       "Year                 1.000000 -0.042002  \n",
       "Month               -0.042002  1.000000  "
      ]
     },
     "execution_count": 88,
     "metadata": {},
     "output_type": "execute_result"
    }
   ],
   "source": [
    "a"
   ]
  },
  {
   "cell_type": "code",
   "execution_count": 89,
   "metadata": {},
   "outputs": [
    {
     "data": {
      "text/plain": [
       "<matplotlib.collections.PathCollection at 0x14109f1d518>"
      ]
     },
     "execution_count": 89,
     "metadata": {},
     "output_type": "execute_result"
    },
    {
     "data": {
      "image/png": "[encoded data removed]",
      "text/plain": [
       "<Figure size 432x288 with 1 Axes>"
      ]
     },
     "metadata": {},
     "output_type": "display_data"
    }
   ],
   "source": [
    "plt.scatter(df['floor_area_sqm'],df['resale_price'])"
   ]
  },
  {
   "cell_type": "code",
   "execution_count": 90,
   "metadata": {},
   "outputs": [
    {
     "data": {
      "text/plain": [
       "<function matplotlib.pyplot.tight_layout(*, pad=1.08, h_pad=None, w_pad=None, rect=None)>"
      ]
     },
     "execution_count": 90,
     "metadata": {},
     "output_type": "execute_result"
    },
    {
     "data": {
      "image/png": "[encoded data removed]",
      "text/plain": [
       "<Figure size 720x720 with 6 Axes>"
      ]
     },
     "metadata": {},
     "output_type": "display_data"
    }
   ],
   "source": [
    "df.hist(figsize = (10, 10))\n",
    "plt.tight_layout"
   ]
  },
  {
   "cell_type": "markdown",
   "metadata": {},
   "source": [
    "1. If skewness is less than -1 or greater than 1, the distribution is skewed, but may or may not be considered high depending on the values.\n",
    "\n",
    "2. If skewness is between -1 and -0.5 or between 0.5 and 1, the distribution is moderately skewed.\n",
    "\n",
    "3. If skewness is between -0.5 and 0.5, the distribution is approximately symmetrical."
   ]
  },
  {
   "cell_type": "code",
   "execution_count": 91,
   "metadata": {},
   "outputs": [
    {
     "data": {
      "text/plain": [
       "floor_area_sqm         0.532423\n",
       "lease_commence_date   -0.354458\n",
       "resale_price           0.753530\n",
       "Year                  -0.626341\n",
       "Month                 -0.045162\n",
       "dtype: float64"
      ]
     },
     "execution_count": 91,
     "metadata": {},
     "output_type": "execute_result"
    }
   ],
   "source": [
    "df.skew()\n",
    "#probably need log resale_price"
   ]
  },
  {
   "cell_type": "code",
   "execution_count": 92,
   "metadata": {},
   "outputs": [
    {
     "name": "stdout",
     "output_type": "stream",
     "text": [
      "\n",
      "skewness after transformation:\n",
      "\n",
      "floor_area_sqm         0.532423\n",
      "lease_commence_date   -0.354458\n",
      "resale_price           0.753530\n",
      "Year                  -0.626341\n",
      "Month                 -0.045162\n",
      "sqrt_resale_price      0.077342\n",
      "sqrt_floor_area_sqm    0.256756\n",
      "dtype: float64\n"
     ]
    }
   ],
   "source": [
    "df['sqrt_resale_price'] = np.sqrt(df['resale_price'])\n",
    "df['sqrt_floor_area_sqm'] = np.sqrt(df['floor_area_sqm'])\n",
    "#Let's check skew values with transformation\n",
    "print(\"\\nskewness after transformation:\\n\")\n",
    "print(df.skew())"
   ]
  },
  {
   "cell_type": "code",
   "execution_count": 94,
   "metadata": {},
   "outputs": [
    {
     "data": {
      "text/plain": [
       "<AxesSubplot:xlabel='sqrt_resale_price'>"
      ]
     },
     "execution_count": 94,
     "metadata": {},
     "output_type": "execute_result"
    },
    {
     "data": {
      "image/png": "[encoded data removed]",
      "text/plain": [
       "<Figure size 432x288 with 2 Axes>"
      ]
     },
     "metadata": {},
     "output_type": "display_data"
    }
   ],
   "source": [
    "fig, ax = plt.subplots(1, 2) #to create 1 row 2 plot \n",
    "sns.distplot(df['resale_price'], kde = False, ax = ax[0])\n",
    "sns.distplot(df['sqrt_resale_price'],  kde = False, ax = ax[1])"
   ]
  },
  {
   "cell_type": "code",
   "execution_count": 95,
   "metadata": {},
   "outputs": [
    {
     "data": {
      "text/plain": [
       "<AxesSubplot:xlabel='sqrt_floor_area_sqm'>"
      ]
     },
     "execution_count": 95,
     "metadata": {},
     "output_type": "execute_result"
    },
    {
     "data": {
      "image/png": "[encoded data removed]",
      "text/plain": [
       "<Figure size 432x288 with 2 Axes>"
      ]
     },
     "metadata": {},
     "output_type": "display_data"
    }
   ],
   "source": [
    "fig, ax = plt.subplots(1, 2) #to create 1 row 2 plot \n",
    "sns.distplot(df['floor_area_sqm'], kde = False, ax = ax[0])\n",
    "sns.distplot(df['sqrt_floor_area_sqm'],  kde = False, ax = ax[1])"
   ]
  },
  {
   "cell_type": "code",
   "execution_count": 96,
   "metadata": {},
   "outputs": [
    {
     "data": {
      "text/html": [
       "<div>\n",
       "<style scoped>\n",
       "    .dataframe tbody tr th:only-of-type {\n",
       "        vertical-align: middle;\n",
       "    }\n",
       "\n",
       "    .dataframe tbody tr th {\n",
       "        vertical-align: top;\n",
       "    }\n",
       "\n",
       "    .dataframe thead th {\n",
       "        text-align: right;\n",
       "    }\n",
       "</style>\n",
       "<table border=\"1\" class=\"dataframe\">\n",
       "  <thead>\n",
       "    <tr style=\"text-align: right;\">\n",
       "      <th></th>\n",
       "      <th>month</th>\n",
       "      <th>town</th>\n",
       "      <th>flat_type</th>\n",
       "      <th>block</th>\n",
       "      <th>street_name</th>\n",
       "      <th>storey_range</th>\n",
       "      <th>flat_model</th>\n",
       "      <th>lease_commence_date</th>\n",
       "      <th>Year</th>\n",
       "      <th>Month</th>\n",
       "      <th>Day of Week</th>\n",
       "      <th>sqrt_resale_price</th>\n",
       "      <th>sqrt_floor_area_sqm</th>\n",
       "    </tr>\n",
       "  </thead>\n",
       "  <tbody>\n",
       "    <tr>\n",
       "      <th>0</th>\n",
       "      <td>1990-01-01</td>\n",
       "      <td>ANG MO KIO</td>\n",
       "      <td>1 ROOM</td>\n",
       "      <td>309</td>\n",
       "      <td>ANG MO KIO AVE 1</td>\n",
       "      <td>10 TO 12</td>\n",
       "      <td>IMPROVED</td>\n",
       "      <td>1977</td>\n",
       "      <td>1990</td>\n",
       "      <td>1</td>\n",
       "      <td>Mon</td>\n",
       "      <td>94.868330</td>\n",
       "      <td>5.567764</td>\n",
       "    </tr>\n",
       "    <tr>\n",
       "      <th>1</th>\n",
       "      <td>1990-01-01</td>\n",
       "      <td>ANG MO KIO</td>\n",
       "      <td>1 ROOM</td>\n",
       "      <td>309</td>\n",
       "      <td>ANG MO KIO AVE 1</td>\n",
       "      <td>04 TO 06</td>\n",
       "      <td>IMPROVED</td>\n",
       "      <td>1977</td>\n",
       "      <td>1990</td>\n",
       "      <td>1</td>\n",
       "      <td>Mon</td>\n",
       "      <td>77.459667</td>\n",
       "      <td>5.567764</td>\n",
       "    </tr>\n",
       "    <tr>\n",
       "      <th>2</th>\n",
       "      <td>1990-01-01</td>\n",
       "      <td>ANG MO KIO</td>\n",
       "      <td>1 ROOM</td>\n",
       "      <td>309</td>\n",
       "      <td>ANG MO KIO AVE 1</td>\n",
       "      <td>10 TO 12</td>\n",
       "      <td>IMPROVED</td>\n",
       "      <td>1977</td>\n",
       "      <td>1990</td>\n",
       "      <td>1</td>\n",
       "      <td>Mon</td>\n",
       "      <td>89.442719</td>\n",
       "      <td>5.567764</td>\n",
       "    </tr>\n",
       "    <tr>\n",
       "      <th>3</th>\n",
       "      <td>1990-01-01</td>\n",
       "      <td>ANG MO KIO</td>\n",
       "      <td>1 ROOM</td>\n",
       "      <td>309</td>\n",
       "      <td>ANG MO KIO AVE 1</td>\n",
       "      <td>07 TO 09</td>\n",
       "      <td>IMPROVED</td>\n",
       "      <td>1977</td>\n",
       "      <td>1990</td>\n",
       "      <td>1</td>\n",
       "      <td>Mon</td>\n",
       "      <td>77.459667</td>\n",
       "      <td>5.567764</td>\n",
       "    </tr>\n",
       "    <tr>\n",
       "      <th>4</th>\n",
       "      <td>1990-01-01</td>\n",
       "      <td>ANG MO KIO</td>\n",
       "      <td>3 ROOM</td>\n",
       "      <td>216</td>\n",
       "      <td>ANG MO KIO AVE 1</td>\n",
       "      <td>04 TO 06</td>\n",
       "      <td>NEW GENERATION</td>\n",
       "      <td>1976</td>\n",
       "      <td>1990</td>\n",
       "      <td>1</td>\n",
       "      <td>Mon</td>\n",
       "      <td>217.255610</td>\n",
       "      <td>8.544004</td>\n",
       "    </tr>\n",
       "  </tbody>\n",
       "</table>\n",
       "</div>"
      ],
      "text/plain": [
       "       month        town flat_type block       street_name storey_range  \\\n",
       "0 1990-01-01  ANG MO KIO    1 ROOM   309  ANG MO KIO AVE 1     10 TO 12   \n",
       "1 1990-01-01  ANG MO KIO    1 ROOM   309  ANG MO KIO AVE 1     04 TO 06   \n",
       "2 1990-01-01  ANG MO KIO    1 ROOM   309  ANG MO KIO AVE 1     10 TO 12   \n",
       "3 1990-01-01  ANG MO KIO    1 ROOM   309  ANG MO KIO AVE 1     07 TO 09   \n",
       "4 1990-01-01  ANG MO KIO    3 ROOM   216  ANG MO KIO AVE 1     04 TO 06   \n",
       "\n",
       "       flat_model  lease_commence_date  Year  Month Day of Week  \\\n",
       "0        IMPROVED                 1977  1990      1         Mon   \n",
       "1        IMPROVED                 1977  1990      1         Mon   \n",
       "2        IMPROVED                 1977  1990      1         Mon   \n",
       "3        IMPROVED                 1977  1990      1         Mon   \n",
       "4  NEW GENERATION                 1976  1990      1         Mon   \n",
       "\n",
       "   sqrt_resale_price  sqrt_floor_area_sqm  \n",
       "0          94.868330             5.567764  \n",
       "1          77.459667             5.567764  \n",
       "2          89.442719             5.567764  \n",
       "3          77.459667             5.567764  \n",
       "4         217.255610             8.544004  "
      ]
     },
     "execution_count": 96,
     "metadata": {},
     "output_type": "execute_result"
    }
   ],
   "source": [
    "#copied to df1 while dropping transformed columns\n",
    "df1 = df.drop(['resale_price', 'floor_area_sqm'], axis = 1)\n",
    "df1.head()"
   ]
  },
  {
   "cell_type": "code",
   "execution_count": null,
   "metadata": {},
   "outputs": [],
   "source": [
    "#conduct multi-class classification to predict flat_type using\n",
    "#sqrt_resale_price & sqrt_floor_area_sqm"
   ]
  },
  {
   "cell_type": "code",
   "execution_count": 98,
   "metadata": {},
   "outputs": [
    {
     "data": {
      "text/plain": [
       "flat_type\n",
       "1 ROOM                 827\n",
       "2 ROOM                4140\n",
       "3 ROOM              113106\n",
       "4 ROOM               98521\n",
       "5 ROOM               48206\n",
       "EXECUTIVE            22121\n",
       "MULTI GENERATION       279\n",
       "dtype: int64"
      ]
     },
     "execution_count": 98,
     "metadata": {},
     "output_type": "execute_result"
    }
   ],
   "source": [
    "df.groupby('flat_type').size()"
   ]
  },
  {
   "cell_type": "code",
   "execution_count": 99,
   "metadata": {},
   "outputs": [
    {
     "name": "stderr",
     "output_type": "stream",
     "text": [
      "C:\\Users\\liuyo\\Anaconda3\\lib\\site-packages\\IPython\\core\\pylabtools.py:132: UserWarning: Creating legend with loc=\"best\" can be slow with large amounts of data.\n",
      "  fig.canvas.print_figure(bytes_io, **kw)\n"
     ]
    },
    {
     "data": {
      "image/png": "[encoded data removed]",
      "text/plain": [
       "<Figure size 432x288 with 1 Axes>"
      ]
     },
     "metadata": {},
     "output_type": "display_data"
    }
   ],
   "source": [
    "inv_name_dict = {'1 ROOM':1,'2 ROOM':2,\n",
    "                 '3 ROOM':3,'4 ROOM':5,\n",
    "                 '5 ROOM':5,'EXECUTIVE':6,\n",
    "                 'MULTI GENERATION':7}\n",
    "colors = [inv_name_dict[item] for item in df['flat_type']]\n",
    "\n",
    "scatter = plt.scatter(df['sqrt_resale_price'],df['sqrt_floor_area_sqm'], c = colors)\\\n",
    "\n",
    "plt.xlabel('sqrt_resale_price')\n",
    "plt.ylabel('sqrt_floor_area_sqm')\n",
    "\n",
    "plt.legend(handles = scatter.legend_elements()[0], labels = inv_name_dict.keys())\n",
    "plt.show()"
   ]
  },
  {
   "cell_type": "code",
   "execution_count": 100,
   "metadata": {},
   "outputs": [],
   "source": [
    "#Time to predict :D"
   ]
  },
  {
   "cell_type": "code",
   "execution_count": 110,
   "metadata": {},
   "outputs": [],
   "source": [
    "x = df[['sqrt_resale_price','sqrt_floor_area_sqm']]\n",
    "y = df['flat_type']"
   ]
  },
  {
   "cell_type": "code",
   "execution_count": 113,
   "metadata": {},
   "outputs": [],
   "source": [
    "from sklearn.model_selection import train_test_split\n",
    "x_train, x_test, y_train, y_test = train_test_split(x, y, test_size = 0.3,\n",
    "random_state = 1, stratify = y)\n",
    "#y_train.value_counts()"
   ]
  },
  {
   "cell_type": "code",
   "execution_count": 112,
   "metadata": {},
   "outputs": [],
   "source": [
    "#y_test.value_counts()"
   ]
  },
  {
   "cell_type": "code",
   "execution_count": 115,
   "metadata": {},
   "outputs": [
    {
     "data": {
      "text/plain": [
       "KNeighborsClassifier()"
      ]
     },
     "execution_count": 115,
     "metadata": {},
     "output_type": "execute_result"
    }
   ],
   "source": [
    "from sklearn.neighbors import KNeighborsClassifier\n",
    "# i choose 5 cause it'll take too long to iterate and find for my pc's sake\n",
    "knn = KNeighborsClassifier(n_neighbors = 5)\n",
    "knn.fit(x_train, y_train)"
   ]
  },
  {
   "cell_type": "code",
   "execution_count": 117,
   "metadata": {},
   "outputs": [
    {
     "data": {
      "text/plain": [
       "array(['3 ROOM', '3 ROOM', '4 ROOM', '3 ROOM', '4 ROOM'], dtype=object)"
      ]
     },
     "execution_count": 117,
     "metadata": {},
     "output_type": "execute_result"
    }
   ],
   "source": [
    "pred = knn.predict(x_train)\n",
    "pred[:5]"
   ]
  },
  {
   "cell_type": "code",
   "execution_count": 118,
   "metadata": {},
   "outputs": [
    {
     "data": {
      "text/plain": [
       "array([[0. , 0. , 0.6, ..., 0. , 0. , 0. ],\n",
       "       [0. , 0. , 0.8, ..., 0. , 0. , 0. ],\n",
       "       [0. , 0. , 1. , ..., 0. , 0. , 0. ],\n",
       "       ...,\n",
       "       [0. , 0. , 1. , ..., 0. , 0. , 0. ],\n",
       "       [0. , 0. , 0. , ..., 0. , 0. , 0. ],\n",
       "       [0. , 0. , 0. , ..., 0. , 0. , 0. ]])"
      ]
     },
     "execution_count": 118,
     "metadata": {},
     "output_type": "execute_result"
    }
   ],
   "source": [
    "#y_pred_prob = knn.predict_proba(x_test)\n",
    "#y_pred_prob"
   ]
  },
  {
   "cell_type": "code",
   "execution_count": 127,
   "metadata": {},
   "outputs": [],
   "source": [
    "y_pred = knn.predict(x_test)"
   ]
  },
  {
   "cell_type": "code",
   "execution_count": 129,
   "metadata": {},
   "outputs": [],
   "source": [
    "a = sum(y_pred == y_test.values)\n"
   ]
  },
  {
   "cell_type": "code",
   "execution_count": 130,
   "metadata": {},
   "outputs": [],
   "source": [
    "b = y_test.size"
   ]
  },
  {
   "cell_type": "code",
   "execution_count": 148,
   "metadata": {},
   "outputs": [
    {
     "data": {
      "text/plain": [
       "0.9729805013927577"
      ]
     },
     "execution_count": 148,
     "metadata": {},
     "output_type": "execute_result"
    }
   ],
   "source": [
    "#accuracy\n",
    "a/b"
   ]
  },
  {
   "cell_type": "code",
   "execution_count": 133,
   "metadata": {
    "scrolled": true
   },
   "outputs": [
    {
     "data": {
      "text/plain": [
       "array([[  224,    22,     2,     0,     0,     0,     0],\n",
       "       [    0,  1137,   105,     0,     0,     0,     0],\n",
       "       [    0,    28, 33090,   778,    16,    19,     1],\n",
       "       [    0,     0,   537, 28778,   241,     0,     0],\n",
       "       [    0,     0,     0,   136, 14060,   266,     0],\n",
       "       [    0,     0,     0,     0,    87,  6542,     7],\n",
       "       [    0,     0,     0,     0,    10,    73,     1]], dtype=int64)"
      ]
     },
     "execution_count": 133,
     "metadata": {},
     "output_type": "execute_result"
    }
   ],
   "source": [
    "#confusion matrix since unequal no. of observation in each flat_type\n",
    "from sklearn.metrics import confusion_matrix\n",
    "confusion_matrix(y_test, y_pred)\n",
    "#y-axis(true) =1 ROOM, 2 ROOM, 3 ROOM, 4 ROOM, 5 ROOM, EXECUTIVE, M.G.\n",
    "#x-axis(predict) = 1 ROOM, 2 ROOM, 3 ROOM, 4 ROOM, 5 ROOM, EXECUTIVE, M.G."
   ]
  },
  {
   "cell_type": "code",
   "execution_count": 139,
   "metadata": {},
   "outputs": [
    {
     "data": {
      "image/png": "[encoded data removed]",
      "text/plain": [
       "<Figure size 1080x1080 with 2 Axes>"
      ]
     },
     "metadata": {},
     "output_type": "display_data"
    }
   ],
   "source": [
    "from sklearn.metrics import plot_confusion_matrix\n",
    "\n",
    "fig, ax = plt.subplots(figsize=(15, 15))\n",
    "\n",
    "plot_confusion_matrix(knn, x_test, y_test, ax=ax);"
   ]
  },
  {
   "cell_type": "code",
   "execution_count": null,
   "metadata": {},
   "outputs": [],
   "source": [
    "# 3 room tend to be confused with 4 room.\n",
    "# 4 room tend to be confused with 3 room and 5 room.\n",
    "# 5 room tend to be confused with 4 room and executive. "
   ]
  },
  {
   "cell_type": "code",
   "execution_count": 156,
   "metadata": {},
   "outputs": [
    {
     "data": {
      "text/plain": [
       "0.9627402506963788"
      ]
     },
     "execution_count": 156,
     "metadata": {},
     "output_type": "execute_result"
    }
   ],
   "source": [
    "#K-fold Cross Validation\n",
    "#data is divided into k parts, cross_val_score is ran k times, each time\n",
    "#one of the k subset data will be used as test set, the others are combined\n",
    "#and used as training data. Accuracy is averaged over k trials\n",
    "# cv = k\n",
    "from sklearn.model_selection import cross_val_score\n",
    "\n",
    "knn_cv = KNeighborsClassifier(n_neighbors = 3)\n",
    "cv_scores1 = cross_val_score(knn_cv, x, y, cv = 10)\n",
    "cv_scores1.mean()"
   ]
  },
  {
   "cell_type": "code",
   "execution_count": 157,
   "metadata": {},
   "outputs": [
    {
     "data": {
      "text/plain": [
       "0.9620369080779945"
      ]
     },
     "execution_count": 157,
     "metadata": {},
     "output_type": "execute_result"
    }
   ],
   "source": [
    "from sklearn.model_selection import cross_val_score\n",
    "\n",
    "knn_cv = KNeighborsClassifier(n_neighbors = 5)\n",
    "cv_scores = cross_val_score(knn_cv, x, y, cv = 10)\n",
    "cv_scores.mean()"
   ]
  },
  {
   "cell_type": "code",
   "execution_count": null,
   "metadata": {},
   "outputs": [],
   "source": [
    "#Using Knn,its pretty accurate in determining flat_type\n",
    "#based on resale price and floor_area_sqm.\n",
    "\n",
    "#but what other components of the dataset can we use?\n",
    "#We cant use pca, as pca is for numerical data and we only have 2 columns\n",
    "#we can do decision tree, but prof haven't go through the lab.\n"
   ]
  },
  {
   "cell_type": "code",
   "execution_count": 158,
   "metadata": {},
   "outputs": [
    {
     "data": {
      "text/plain": [
       "GridSearchCV(cv=10, estimator=KNeighborsClassifier(),\n",
       "             param_grid={'n_neighbors': array([2, 3, 4, 5, 6, 7, 8, 9])})"
      ]
     },
     "execution_count": 158,
     "metadata": {},
     "output_type": "execute_result"
    }
   ],
   "source": [
    "#finding the best k, considering I assumed it as 5\n",
    "from sklearn.model_selection import GridSearchCV\n",
    "knn2 = KNeighborsClassifier()\n",
    "param_grid = {'n_neighbors':np.arange(2,10)}\n",
    "knn_gscv = GridSearchCV(knn2, param_grid, cv=10)\n",
    "knn_gscv.fit(x,y)"
   ]
  },
  {
   "cell_type": "code",
   "execution_count": 160,
   "metadata": {},
   "outputs": [
    {
     "data": {
      "text/plain": [
       "{'n_neighbors': 3}"
      ]
     },
     "execution_count": 160,
     "metadata": {},
     "output_type": "execute_result"
    }
   ],
   "source": [
    "knn_gscv.best_params_"
   ]
  },
  {
   "cell_type": "code",
   "execution_count": 166,
   "metadata": {},
   "outputs": [
    {
     "data": {
      "text/plain": [
       "array(['EXECUTIVE'], dtype=object)"
      ]
     },
     "execution_count": 166,
     "metadata": {},
     "output_type": "execute_result"
    }
   ],
   "source": [
    "#Lets test if it'll predict it accurately\n",
    "Fresh_data = np.array([454.422711, 9.165151]) #sqrt price, sqrt area_sqm\n",
    "Fresh_data = Fresh_data.reshape(1, -1)\n",
    "knn.predict(Fresh_data)\n"
   ]
  },
  {
   "cell_type": "code",
   "execution_count": null,
   "metadata": {},
   "outputs": [],
   "source": []
  }
 ],
 "metadata": {
  "kernelspec": {
   "display_name": "Python 3",
   "language": "python",
   "name": "python3"
  },
  "language_info": {
   "codemirror_mode": {
    "name": "ipython",
    "version": 3
   },
   "file_extension": ".py",
   "mimetype": "text/x-python",
   "name": "python",
   "nbconvert_exporter": "python",
   "pygments_lexer": "ipython3",
   "version": "3.6.10"
  }
 },
 "nbformat": 4,
 "nbformat_minor": 4
}
