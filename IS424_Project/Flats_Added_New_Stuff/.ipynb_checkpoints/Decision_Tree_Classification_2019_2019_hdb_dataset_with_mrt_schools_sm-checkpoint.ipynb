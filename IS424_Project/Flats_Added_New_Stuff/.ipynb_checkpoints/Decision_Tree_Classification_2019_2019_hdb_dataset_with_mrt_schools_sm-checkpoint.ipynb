{
 "cells": [
  {
   "cell_type": "code",
   "execution_count": 61,
   "metadata": {},
   "outputs": [],
   "source": [
    "# Import packages\n",
    "import numpy as np\n",
    "import pandas as pd\n",
    "import matplotlib.pyplot as plt\n",
    "import seaborn as sns\n",
    "\n",
    "#Libraries for data pre-processing\n",
    "from sklearn import preprocessing\n",
    "from sklearn.preprocessing import StandardScaler # standard score aka z score\n",
    "from sklearn.preprocessing import LabelEncoder #Encode target labels with value between 0 and n_classes-1.\n",
    "from sklearn.preprocessing import LabelBinarizer\n",
    "\n",
    "plt.style.use('ggplot')\n",
    "\n",
    "#Libraries for data pre-processing\n",
    "from sklearn.model_selection import train_test_split\n",
    "from sklearn.metrics import confusion_matrix\n",
    "from sklearn.metrics import accuracy_score\n",
    "from sklearn.metrics import f1_score\n",
    "from sklearn.metrics import precision_score\n",
    "from sklearn.metrics import recall_score\n",
    "\n",
    "#For Decision Tree implementation\n",
    "from scipy.stats import entropy\n",
    "from sklearn.tree import DecisionTreeClassifier\n",
    "from sklearn import tree\n",
    "\n",
    "#For KNN implementation\n",
    "from sklearn.neighbors import KNeighborsClassifier\n",
    "\n",
    "#For Bagging implementation\n",
    "from sklearn.ensemble import BaggingClassifier\n",
    "\n",
    "#For AdaBoost implementation\n",
    "from sklearn.ensemble import AdaBoostClassifier\n",
    "from sklearn.naive_bayes import GaussianNB\n",
    "\n",
    "import matplotlib\n",
    "import warnings\n",
    "from scipy.stats import skew\n",
    "from scipy import stats\n",
    "from scipy.stats.stats import pearsonr\n",
    "from scipy.stats import norm\n",
    "from collections import Counter\n",
    "from sklearn import metrics\n",
    "from sklearn.linear_model import LinearRegression,LassoCV, Ridge, LassoLarsCV,ElasticNetCV\n",
    "from sklearn.model_selection import GridSearchCV, cross_val_score, learning_curve\n",
    "from sklearn.ensemble import RandomForestRegressor, AdaBoostRegressor, ExtraTreesRegressor, GradientBoostingRegressor\n",
    "from sklearn.preprocessing import StandardScaler, Normalizer, RobustScaler\n",
    "warnings.filterwarnings('ignore')\n",
    "sns.set(style='white', context='notebook', palette='deep')\n",
    "%config InlineBackend.figure_format = 'retina' #set 'png' here when working on notebook\n",
    "%matplotlib inline"
   ]
  },
  {
   "cell_type": "code",
   "execution_count": 62,
   "metadata": {},
   "outputs": [
    {
     "data": {
      "text/html": [
       "<div>\n",
       "<style scoped>\n",
       "    .dataframe tbody tr th:only-of-type {\n",
       "        vertical-align: middle;\n",
       "    }\n",
       "\n",
       "    .dataframe tbody tr th {\n",
       "        vertical-align: top;\n",
       "    }\n",
       "\n",
       "    .dataframe thead th {\n",
       "        text-align: right;\n",
       "    }\n",
       "</style>\n",
       "<table border=\"1\" class=\"dataframe\">\n",
       "  <thead>\n",
       "    <tr style=\"text-align: right;\">\n",
       "      <th></th>\n",
       "      <th>town</th>\n",
       "      <th>flat_type</th>\n",
       "      <th>storey_range</th>\n",
       "      <th>floor_area_sqm</th>\n",
       "      <th>flat_model</th>\n",
       "      <th>lease_commence_date</th>\n",
       "      <th>remaining_lease</th>\n",
       "      <th>resale_price</th>\n",
       "      <th>Postal</th>\n",
       "      <th>full_address</th>\n",
       "      <th>nearest_mrt_distance(km)</th>\n",
       "      <th>nearest_primary_school(km)</th>\n",
       "      <th>nearest_secondary_school(km)</th>\n",
       "      <th>nearest_JC/MI(km)</th>\n",
       "      <th>nearest_mixed_level(km)</th>\n",
       "      <th>nearest_sm_distance(km)</th>\n",
       "    </tr>\n",
       "  </thead>\n",
       "  <tbody>\n",
       "    <tr>\n",
       "      <th>1234</th>\n",
       "      <td>TAMPINES</td>\n",
       "      <td>5 ROOM</td>\n",
       "      <td>01 TO 03</td>\n",
       "      <td>124.0</td>\n",
       "      <td>Improved</td>\n",
       "      <td>1997</td>\n",
       "      <td>77 years 08 months</td>\n",
       "      <td>510000.0</td>\n",
       "      <td>520729</td>\n",
       "      <td>729 TAMPINES STREET 71 TAMPINES COURTVIEW SING...</td>\n",
       "      <td>1.000866</td>\n",
       "      <td>0.181932</td>\n",
       "      <td>0.352189</td>\n",
       "      <td>2.276706</td>\n",
       "      <td>4.202670</td>\n",
       "      <td>0.120294</td>\n",
       "    </tr>\n",
       "    <tr>\n",
       "      <th>9779</th>\n",
       "      <td>SENGKANG</td>\n",
       "      <td>4 ROOM</td>\n",
       "      <td>07 TO 09</td>\n",
       "      <td>91.0</td>\n",
       "      <td>Model A</td>\n",
       "      <td>2005</td>\n",
       "      <td>85 years 06 months</td>\n",
       "      <td>370000.0</td>\n",
       "      <td>540154</td>\n",
       "      <td>154 RIVERVALE CRESCENT RIVERVALE GREEN SINGAPO...</td>\n",
       "      <td>0.116741</td>\n",
       "      <td>0.370838</td>\n",
       "      <td>0.489051</td>\n",
       "      <td>3.758770</td>\n",
       "      <td>6.375109</td>\n",
       "      <td>0.314978</td>\n",
       "    </tr>\n",
       "    <tr>\n",
       "      <th>3368</th>\n",
       "      <td>CHOA CHU KANG</td>\n",
       "      <td>5 ROOM</td>\n",
       "      <td>10 TO 12</td>\n",
       "      <td>137.0</td>\n",
       "      <td>Model A</td>\n",
       "      <td>1994</td>\n",
       "      <td>74 years 08 months</td>\n",
       "      <td>425000.0</td>\n",
       "      <td>680508</td>\n",
       "      <td>508 CHOA CHU KANG STREET 51 HDB-CHOA CHU KANG ...</td>\n",
       "      <td>0.449722</td>\n",
       "      <td>0.768099</td>\n",
       "      <td>0.195068</td>\n",
       "      <td>1.429371</td>\n",
       "      <td>6.106071</td>\n",
       "      <td>0.440874</td>\n",
       "    </tr>\n",
       "    <tr>\n",
       "      <th>10226</th>\n",
       "      <td>WOODLANDS</td>\n",
       "      <td>5 ROOM</td>\n",
       "      <td>01 TO 03</td>\n",
       "      <td>124.0</td>\n",
       "      <td>Improved</td>\n",
       "      <td>1996</td>\n",
       "      <td>75 years 10 months</td>\n",
       "      <td>370000.0</td>\n",
       "      <td>730870</td>\n",
       "      <td>870 WOODLANDS STREET 81 HDB-WOODLANDS SINGAPOR...</td>\n",
       "      <td>0.759705</td>\n",
       "      <td>0.153712</td>\n",
       "      <td>0.257751</td>\n",
       "      <td>5.003554</td>\n",
       "      <td>1.877229</td>\n",
       "      <td>0.236233</td>\n",
       "    </tr>\n",
       "    <tr>\n",
       "      <th>11570</th>\n",
       "      <td>PUNGGOL</td>\n",
       "      <td>4 ROOM</td>\n",
       "      <td>10 TO 12</td>\n",
       "      <td>90.0</td>\n",
       "      <td>Model A</td>\n",
       "      <td>2002</td>\n",
       "      <td>82 years 02 months</td>\n",
       "      <td>375000.0</td>\n",
       "      <td>821101</td>\n",
       "      <td>101A PUNGGOL FIELD HDB-PUNGGOL SINGAPORE 821101</td>\n",
       "      <td>0.147709</td>\n",
       "      <td>0.308130</td>\n",
       "      <td>0.490077</td>\n",
       "      <td>4.227389</td>\n",
       "      <td>6.994954</td>\n",
       "      <td>0.362359</td>\n",
       "    </tr>\n",
       "  </tbody>\n",
       "</table>\n",
       "</div>"
      ],
      "text/plain": [
       "                town flat_type storey_range  floor_area_sqm flat_model  \\\n",
       "1234        TAMPINES    5 ROOM     01 TO 03           124.0   Improved   \n",
       "9779        SENGKANG    4 ROOM     07 TO 09            91.0    Model A   \n",
       "3368   CHOA CHU KANG    5 ROOM     10 TO 12           137.0    Model A   \n",
       "10226      WOODLANDS    5 ROOM     01 TO 03           124.0   Improved   \n",
       "11570        PUNGGOL    4 ROOM     10 TO 12            90.0    Model A   \n",
       "\n",
       "       lease_commence_date     remaining_lease  resale_price  Postal  \\\n",
       "1234                  1997  77 years 08 months      510000.0  520729   \n",
       "9779                  2005  85 years 06 months      370000.0  540154   \n",
       "3368                  1994  74 years 08 months      425000.0  680508   \n",
       "10226                 1996  75 years 10 months      370000.0  730870   \n",
       "11570                 2002  82 years 02 months      375000.0  821101   \n",
       "\n",
       "                                            full_address  \\\n",
       "1234   729 TAMPINES STREET 71 TAMPINES COURTVIEW SING...   \n",
       "9779   154 RIVERVALE CRESCENT RIVERVALE GREEN SINGAPO...   \n",
       "3368   508 CHOA CHU KANG STREET 51 HDB-CHOA CHU KANG ...   \n",
       "10226  870 WOODLANDS STREET 81 HDB-WOODLANDS SINGAPOR...   \n",
       "11570    101A PUNGGOL FIELD HDB-PUNGGOL SINGAPORE 821101   \n",
       "\n",
       "       nearest_mrt_distance(km)  nearest_primary_school(km)  \\\n",
       "1234                   1.000866                    0.181932   \n",
       "9779                   0.116741                    0.370838   \n",
       "3368                   0.449722                    0.768099   \n",
       "10226                  0.759705                    0.153712   \n",
       "11570                  0.147709                    0.308130   \n",
       "\n",
       "       nearest_secondary_school(km)  nearest_JC/MI(km)  \\\n",
       "1234                       0.352189           2.276706   \n",
       "9779                       0.489051           3.758770   \n",
       "3368                       0.195068           1.429371   \n",
       "10226                      0.257751           5.003554   \n",
       "11570                      0.490077           4.227389   \n",
       "\n",
       "       nearest_mixed_level(km)  nearest_sm_distance(km)  \n",
       "1234                  4.202670                 0.120294  \n",
       "9779                  6.375109                 0.314978  \n",
       "3368                  6.106071                 0.440874  \n",
       "10226                 1.877229                 0.236233  \n",
       "11570                 6.994954                 0.362359  "
      ]
     },
     "execution_count": 62,
     "metadata": {},
     "output_type": "execute_result"
    }
   ],
   "source": [
    "df = pd.read_csv('2019_hdb_dataset_with_mrt_schools_sm.csv')\n",
    "df = df.drop(columns = ['Unnamed: 0','Latitude','Longtitude','Year','address','nearest_mrt','nearest_primary_school','nearest_secondary_school','nearest_JC/MI','nearest_mixed_level','nearest_sm'])\n",
    "df.sample(5)"
   ]
  },
  {
   "cell_type": "code",
   "execution_count": 63,
   "metadata": {
    "scrolled": true
   },
   "outputs": [],
   "source": [
    "# df.info()"
   ]
  },
  {
   "cell_type": "code",
   "execution_count": 64,
   "metadata": {},
   "outputs": [],
   "source": [
    "df['town'].unique()\n",
    "df['town_region'] = df['town'].map({'ANG MO KIO':'North_East',\n",
    "                             'BEDOK': 'East',\n",
    "                             'BISHAN':'Central',\n",
    "                             'BUKIT BATOK':'West',\n",
    "                             'BUKIT MERAH':'Central',                 \n",
    "                             'BUKIT PANJANG':'West',\n",
    "                             'BUKIT TIMAH':'Central',\n",
    "                             'CENTRAL AREA':'Central',\n",
    "                             'CHOA CHU KANG':'West',\n",
    "                             'CLEMENTI':'West',\n",
    "                             'GEYLANG':'Central',\n",
    "                             'HOUGANG':'North_East',\n",
    "                             'JURONG EAST':'West',\n",
    "                             'JURONG WEST':'West',\n",
    "                             'KALLANG/WHAMPOA':'Central',\n",
    "                             'MARINE PARADE':'Central',\n",
    "                             'PASIR RIS': 'East',\n",
    "                             'PUNGGOL':'North_East',\n",
    "                             'QUEENSTOWN':'Central',\n",
    "                             'SEMBAWANG': 'North',\n",
    "                             'SENGKANG':'North_East',\n",
    "                             'SERANGOON':'North_East',\n",
    "                             'TAMPINES': 'East',\n",
    "                             'TOA PAYOH':'Central',\n",
    "                             'WOODLANDS': 'North',\n",
    "                             'YISHUN': 'North'})\n",
    "# df['town_region_encoded'] = df['town_region'].map({'West':1,'North':2, 'North_East':3,'East':4,'Central':5})\n",
    "df = df.drop(columns = ['town'])"
   ]
  },
  {
   "cell_type": "code",
   "execution_count": 65,
   "metadata": {},
   "outputs": [],
   "source": [
    "# df['storey_range'].unique()\n",
    "# df['storey_range_encoded'] = df['storey_range'].map({\n",
    "#                                         '10 TO 12':1,\n",
    "#                                         '01 TO 03':2,\n",
    "#                                         '04 TO 06':3,\n",
    "#                                         '07 TO 09':4,\n",
    "#                                         '13 TO 15':5,\n",
    "#                                         '19 TO 21':6,\n",
    "#                                         '22 TO 24':7,\n",
    "#                                         '16 TO 18':8,\n",
    "#                                         '34 TO 36':9,\n",
    "#                                         '28 TO 30':10,\n",
    "#                                         '37 TO 39':11,\n",
    "#                                         '49 TO 51':12,\n",
    "#                                         '25 TO 27':13,\n",
    "#                                         '40 TO 42':14,\n",
    "#                                         '31 TO 33':15,\n",
    "#                                         '46 TO 48':16,\n",
    "#                                         '43 TO 45':17})"
   ]
  },
  {
   "cell_type": "markdown",
   "metadata": {},
   "source": [
    "### how school priority are assigned based on hdb\n",
    "1. Singapore Citizens (SC) living within 1km of the school.\n",
    "2. SCs living between 1km and 2km of the school.\n",
    "3. SCs living outside 2km of the school.\n",
    "\n",
    "### How mrt determines price of hdb based on distance\n",
    "Properties within 0.5km of an MRT asked for a 15% premium over those in the general surrounding or neighbouring location.\n",
    "\n",
    "- Golden range for school is <=2km\n",
    "- Golden range for mrt <= 0.5km\n",
    "- Golden range for supermakerts <=0.5km \n",
    "\n",
    "### Super market was assume to be nearby if <=1km. "
   ]
  },
  {
   "cell_type": "code",
   "execution_count": 66,
   "metadata": {},
   "outputs": [],
   "source": [
    "df['Is_Mrt_Nearby?'] = ['Yes' if i <= 0.5 else 'No' for i in df['nearest_mrt_distance(km)']]\n",
    "df['Is_PrimarySchool_Nearby?'] = ['Yes' if i <= 2 else 'No' for i in df['nearest_primary_school(km)']]\n",
    "df['Is_SecondarySchool_Nearby?'] = ['Yes' if i <=2 else 'No' for i in df['nearest_secondary_school(km)']]\n",
    "df['Is_MixedLevel_Nearby?'] = ['Yes' if i <= 2 else 'No' for i in df['nearest_JC/MI(km)']]\n",
    "df['Is_JC/MI_Nearby?'] = ['Yes' if i <= 2 else 'No' for i in df['nearest_mixed_level(km)']]\n",
    "df['Is_sm_Nearby?'] = ['Yes' if i <= 1 else 'No' for i in df['nearest_sm_distance(km)']]\n",
    "df = df.drop(columns = ['nearest_mrt_distance(km)',\n",
    "                        'nearest_primary_school(km)',\n",
    "                        'nearest_secondary_school(km)',\n",
    "                        'nearest_JC/MI(km)',\n",
    "                        'nearest_mixed_level(km)',\n",
    "                        'nearest_sm_distance(km)'])"
   ]
  },
  {
   "cell_type": "code",
   "execution_count": 67,
   "metadata": {},
   "outputs": [
    {
     "data": {
      "text/html": [
       "<div>\n",
       "<style scoped>\n",
       "    .dataframe tbody tr th:only-of-type {\n",
       "        vertical-align: middle;\n",
       "    }\n",
       "\n",
       "    .dataframe tbody tr th {\n",
       "        vertical-align: top;\n",
       "    }\n",
       "\n",
       "    .dataframe thead th {\n",
       "        text-align: right;\n",
       "    }\n",
       "</style>\n",
       "<table border=\"1\" class=\"dataframe\">\n",
       "  <thead>\n",
       "    <tr style=\"text-align: right;\">\n",
       "      <th></th>\n",
       "      <th>flat_type</th>\n",
       "      <th>storey_range</th>\n",
       "      <th>floor_area_sqm</th>\n",
       "      <th>flat_model</th>\n",
       "      <th>lease_commence_date</th>\n",
       "      <th>remaining_lease</th>\n",
       "      <th>resale_price</th>\n",
       "      <th>Postal</th>\n",
       "      <th>full_address</th>\n",
       "      <th>town_region</th>\n",
       "      <th>Is_Mrt_Nearby?</th>\n",
       "      <th>Is_PrimarySchool_Nearby?</th>\n",
       "      <th>Is_SecondarySchool_Nearby?</th>\n",
       "      <th>Is_MixedLevel_Nearby?</th>\n",
       "      <th>Is_JC/MI_Nearby?</th>\n",
       "      <th>Is_sm_Nearby?</th>\n",
       "    </tr>\n",
       "  </thead>\n",
       "  <tbody>\n",
       "    <tr>\n",
       "      <th>0</th>\n",
       "      <td>3 ROOM</td>\n",
       "      <td>01 TO 03</td>\n",
       "      <td>68.0</td>\n",
       "      <td>New Generation</td>\n",
       "      <td>1981</td>\n",
       "      <td>61 years 01 month</td>\n",
       "      <td>270000.0</td>\n",
       "      <td>560330</td>\n",
       "      <td>330 ANG MO KIO AVENUE 1 TECK GHEE VIEW SINGAPO...</td>\n",
       "      <td>North_East</td>\n",
       "      <td>No</td>\n",
       "      <td>Yes</td>\n",
       "      <td>Yes</td>\n",
       "      <td>Yes</td>\n",
       "      <td>Yes</td>\n",
       "      <td>Yes</td>\n",
       "    </tr>\n",
       "    <tr>\n",
       "      <th>1</th>\n",
       "      <td>3 ROOM</td>\n",
       "      <td>04 TO 06</td>\n",
       "      <td>73.0</td>\n",
       "      <td>New Generation</td>\n",
       "      <td>1976</td>\n",
       "      <td>56 years 04 months</td>\n",
       "      <td>295000.0</td>\n",
       "      <td>560215</td>\n",
       "      <td>215 ANG MO KIO AVENUE 1 ANG MO KIO 22 SINGAPOR...</td>\n",
       "      <td>North_East</td>\n",
       "      <td>No</td>\n",
       "      <td>Yes</td>\n",
       "      <td>Yes</td>\n",
       "      <td>Yes</td>\n",
       "      <td>Yes</td>\n",
       "      <td>Yes</td>\n",
       "    </tr>\n",
       "    <tr>\n",
       "      <th>2</th>\n",
       "      <td>3 ROOM</td>\n",
       "      <td>07 TO 09</td>\n",
       "      <td>67.0</td>\n",
       "      <td>New Generation</td>\n",
       "      <td>1978</td>\n",
       "      <td>58 years 01 month</td>\n",
       "      <td>270000.0</td>\n",
       "      <td>560225</td>\n",
       "      <td>225 ANG MO KIO AVENUE 1 HDB-ANG MO KIO SINGAPO...</td>\n",
       "      <td>North_East</td>\n",
       "      <td>No</td>\n",
       "      <td>Yes</td>\n",
       "      <td>Yes</td>\n",
       "      <td>Yes</td>\n",
       "      <td>Yes</td>\n",
       "      <td>Yes</td>\n",
       "    </tr>\n",
       "    <tr>\n",
       "      <th>3</th>\n",
       "      <td>3 ROOM</td>\n",
       "      <td>01 TO 03</td>\n",
       "      <td>67.0</td>\n",
       "      <td>New Generation</td>\n",
       "      <td>1978</td>\n",
       "      <td>58 years</td>\n",
       "      <td>230000.0</td>\n",
       "      <td>560225</td>\n",
       "      <td>225 ANG MO KIO AVENUE 1 HDB-ANG MO KIO SINGAPO...</td>\n",
       "      <td>North_East</td>\n",
       "      <td>No</td>\n",
       "      <td>Yes</td>\n",
       "      <td>Yes</td>\n",
       "      <td>Yes</td>\n",
       "      <td>Yes</td>\n",
       "      <td>Yes</td>\n",
       "    </tr>\n",
       "    <tr>\n",
       "      <th>4</th>\n",
       "      <td>3 ROOM</td>\n",
       "      <td>01 TO 03</td>\n",
       "      <td>68.0</td>\n",
       "      <td>New Generation</td>\n",
       "      <td>1981</td>\n",
       "      <td>61 years</td>\n",
       "      <td>262500.0</td>\n",
       "      <td>560333</td>\n",
       "      <td>333 ANG MO KIO AVENUE 1 TECK GHEE VIEW SINGAPO...</td>\n",
       "      <td>North_East</td>\n",
       "      <td>No</td>\n",
       "      <td>Yes</td>\n",
       "      <td>Yes</td>\n",
       "      <td>Yes</td>\n",
       "      <td>Yes</td>\n",
       "      <td>Yes</td>\n",
       "    </tr>\n",
       "    <tr>\n",
       "      <th>...</th>\n",
       "      <td>...</td>\n",
       "      <td>...</td>\n",
       "      <td>...</td>\n",
       "      <td>...</td>\n",
       "      <td>...</td>\n",
       "      <td>...</td>\n",
       "      <td>...</td>\n",
       "      <td>...</td>\n",
       "      <td>...</td>\n",
       "      <td>...</td>\n",
       "      <td>...</td>\n",
       "      <td>...</td>\n",
       "      <td>...</td>\n",
       "      <td>...</td>\n",
       "      <td>...</td>\n",
       "      <td>...</td>\n",
       "    </tr>\n",
       "    <tr>\n",
       "      <th>22181</th>\n",
       "      <td>EXECUTIVE</td>\n",
       "      <td>04 TO 06</td>\n",
       "      <td>142.0</td>\n",
       "      <td>Apartment</td>\n",
       "      <td>1988</td>\n",
       "      <td>67 years 07 months</td>\n",
       "      <td>580000.0</td>\n",
       "      <td>760326</td>\n",
       "      <td>326 YISHUN RING ROAD YISHUN RIVERGREEN SINGAPO...</td>\n",
       "      <td>North</td>\n",
       "      <td>No</td>\n",
       "      <td>Yes</td>\n",
       "      <td>Yes</td>\n",
       "      <td>Yes</td>\n",
       "      <td>No</td>\n",
       "      <td>Yes</td>\n",
       "    </tr>\n",
       "    <tr>\n",
       "      <th>22182</th>\n",
       "      <td>EXECUTIVE</td>\n",
       "      <td>07 TO 09</td>\n",
       "      <td>146.0</td>\n",
       "      <td>Maisonette</td>\n",
       "      <td>1988</td>\n",
       "      <td>67 years 07 months</td>\n",
       "      <td>565000.0</td>\n",
       "      <td>760326</td>\n",
       "      <td>326 YISHUN RING ROAD YISHUN RIVERGREEN SINGAPO...</td>\n",
       "      <td>North</td>\n",
       "      <td>No</td>\n",
       "      <td>Yes</td>\n",
       "      <td>Yes</td>\n",
       "      <td>Yes</td>\n",
       "      <td>No</td>\n",
       "      <td>Yes</td>\n",
       "    </tr>\n",
       "    <tr>\n",
       "      <th>22183</th>\n",
       "      <td>EXECUTIVE</td>\n",
       "      <td>01 TO 03</td>\n",
       "      <td>164.0</td>\n",
       "      <td>Apartment</td>\n",
       "      <td>1992</td>\n",
       "      <td>71 years 06 months</td>\n",
       "      <td>633000.0</td>\n",
       "      <td>760608</td>\n",
       "      <td>608 YISHUN STREET 61 NEE SOON CENTRAL MEADOWS ...</td>\n",
       "      <td>North</td>\n",
       "      <td>Yes</td>\n",
       "      <td>Yes</td>\n",
       "      <td>Yes</td>\n",
       "      <td>Yes</td>\n",
       "      <td>No</td>\n",
       "      <td>Yes</td>\n",
       "    </tr>\n",
       "    <tr>\n",
       "      <th>22184</th>\n",
       "      <td>EXECUTIVE</td>\n",
       "      <td>10 TO 12</td>\n",
       "      <td>164.0</td>\n",
       "      <td>Apartment</td>\n",
       "      <td>1992</td>\n",
       "      <td>71 years 06 months</td>\n",
       "      <td>788888.0</td>\n",
       "      <td>760604</td>\n",
       "      <td>604 YISHUN STREET 61 NEE SOON CENTRAL MEADOWS ...</td>\n",
       "      <td>North</td>\n",
       "      <td>No</td>\n",
       "      <td>Yes</td>\n",
       "      <td>Yes</td>\n",
       "      <td>Yes</td>\n",
       "      <td>No</td>\n",
       "      <td>Yes</td>\n",
       "    </tr>\n",
       "    <tr>\n",
       "      <th>22185</th>\n",
       "      <td>EXECUTIVE</td>\n",
       "      <td>07 TO 09</td>\n",
       "      <td>145.0</td>\n",
       "      <td>Maisonette</td>\n",
       "      <td>1987</td>\n",
       "      <td>67 years 01 month</td>\n",
       "      <td>618000.0</td>\n",
       "      <td>760877</td>\n",
       "      <td>877 YISHUN STREET 81 HDB-YISHUN SINGAPORE 760877</td>\n",
       "      <td>North</td>\n",
       "      <td>Yes</td>\n",
       "      <td>Yes</td>\n",
       "      <td>Yes</td>\n",
       "      <td>Yes</td>\n",
       "      <td>No</td>\n",
       "      <td>Yes</td>\n",
       "    </tr>\n",
       "  </tbody>\n",
       "</table>\n",
       "<p>22186 rows × 16 columns</p>\n",
       "</div>"
      ],
      "text/plain": [
       "       flat_type storey_range  floor_area_sqm      flat_model  \\\n",
       "0         3 ROOM     01 TO 03            68.0  New Generation   \n",
       "1         3 ROOM     04 TO 06            73.0  New Generation   \n",
       "2         3 ROOM     07 TO 09            67.0  New Generation   \n",
       "3         3 ROOM     01 TO 03            67.0  New Generation   \n",
       "4         3 ROOM     01 TO 03            68.0  New Generation   \n",
       "...          ...          ...             ...             ...   \n",
       "22181  EXECUTIVE     04 TO 06           142.0       Apartment   \n",
       "22182  EXECUTIVE     07 TO 09           146.0      Maisonette   \n",
       "22183  EXECUTIVE     01 TO 03           164.0       Apartment   \n",
       "22184  EXECUTIVE     10 TO 12           164.0       Apartment   \n",
       "22185  EXECUTIVE     07 TO 09           145.0      Maisonette   \n",
       "\n",
       "       lease_commence_date     remaining_lease  resale_price  Postal  \\\n",
       "0                     1981   61 years 01 month      270000.0  560330   \n",
       "1                     1976  56 years 04 months      295000.0  560215   \n",
       "2                     1978   58 years 01 month      270000.0  560225   \n",
       "3                     1978            58 years      230000.0  560225   \n",
       "4                     1981            61 years      262500.0  560333   \n",
       "...                    ...                 ...           ...     ...   \n",
       "22181                 1988  67 years 07 months      580000.0  760326   \n",
       "22182                 1988  67 years 07 months      565000.0  760326   \n",
       "22183                 1992  71 years 06 months      633000.0  760608   \n",
       "22184                 1992  71 years 06 months      788888.0  760604   \n",
       "22185                 1987   67 years 01 month      618000.0  760877   \n",
       "\n",
       "                                            full_address town_region  \\\n",
       "0      330 ANG MO KIO AVENUE 1 TECK GHEE VIEW SINGAPO...  North_East   \n",
       "1      215 ANG MO KIO AVENUE 1 ANG MO KIO 22 SINGAPOR...  North_East   \n",
       "2      225 ANG MO KIO AVENUE 1 HDB-ANG MO KIO SINGAPO...  North_East   \n",
       "3      225 ANG MO KIO AVENUE 1 HDB-ANG MO KIO SINGAPO...  North_East   \n",
       "4      333 ANG MO KIO AVENUE 1 TECK GHEE VIEW SINGAPO...  North_East   \n",
       "...                                                  ...         ...   \n",
       "22181  326 YISHUN RING ROAD YISHUN RIVERGREEN SINGAPO...       North   \n",
       "22182  326 YISHUN RING ROAD YISHUN RIVERGREEN SINGAPO...       North   \n",
       "22183  608 YISHUN STREET 61 NEE SOON CENTRAL MEADOWS ...       North   \n",
       "22184  604 YISHUN STREET 61 NEE SOON CENTRAL MEADOWS ...       North   \n",
       "22185   877 YISHUN STREET 81 HDB-YISHUN SINGAPORE 760877       North   \n",
       "\n",
       "      Is_Mrt_Nearby? Is_PrimarySchool_Nearby? Is_SecondarySchool_Nearby?  \\\n",
       "0                 No                      Yes                        Yes   \n",
       "1                 No                      Yes                        Yes   \n",
       "2                 No                      Yes                        Yes   \n",
       "3                 No                      Yes                        Yes   \n",
       "4                 No                      Yes                        Yes   \n",
       "...              ...                      ...                        ...   \n",
       "22181             No                      Yes                        Yes   \n",
       "22182             No                      Yes                        Yes   \n",
       "22183            Yes                      Yes                        Yes   \n",
       "22184             No                      Yes                        Yes   \n",
       "22185            Yes                      Yes                        Yes   \n",
       "\n",
       "      Is_MixedLevel_Nearby? Is_JC/MI_Nearby? Is_sm_Nearby?  \n",
       "0                       Yes              Yes           Yes  \n",
       "1                       Yes              Yes           Yes  \n",
       "2                       Yes              Yes           Yes  \n",
       "3                       Yes              Yes           Yes  \n",
       "4                       Yes              Yes           Yes  \n",
       "...                     ...              ...           ...  \n",
       "22181                   Yes               No           Yes  \n",
       "22182                   Yes               No           Yes  \n",
       "22183                   Yes               No           Yes  \n",
       "22184                   Yes               No           Yes  \n",
       "22185                   Yes               No           Yes  \n",
       "\n",
       "[22186 rows x 16 columns]"
      ]
     },
     "execution_count": 67,
     "metadata": {},
     "output_type": "execute_result"
    }
   ],
   "source": [
    "df"
   ]
  },
  {
   "cell_type": "markdown",
   "metadata": {},
   "source": [
    "# 2. Baseline Model (Decision Tree)\n",
    "A simple/initial model that you compare your later/more complex models against. It is basically the benchmark for your problem statement."
   ]
  },
  {
   "cell_type": "markdown",
   "metadata": {},
   "source": [
    "#### Label Encoder for ordinal data columns"
   ]
  },
  {
   "cell_type": "code",
   "execution_count": 68,
   "metadata": {},
   "outputs": [],
   "source": [
    "#technically town, flat_type, streets_name and flat_model have a \"tier\" of sort, some town are better areas to live,\n",
    "#some flat_type are better,\n",
    "for column in df.columns:\n",
    "    if (df[column].dtype == type(object)) and (column != 'flat_type'):\n",
    "        #Create the label encoder\n",
    "        le = preprocessing.LabelEncoder()\n",
    "        #Convert the non numeric data to numeric\n",
    "        df[column] = le.fit_transform(df[column])"
   ]
  },
  {
   "cell_type": "code",
   "execution_count": 69,
   "metadata": {},
   "outputs": [
    {
     "data": {
      "text/html": [
       "<div>\n",
       "<style scoped>\n",
       "    .dataframe tbody tr th:only-of-type {\n",
       "        vertical-align: middle;\n",
       "    }\n",
       "\n",
       "    .dataframe tbody tr th {\n",
       "        vertical-align: top;\n",
       "    }\n",
       "\n",
       "    .dataframe thead th {\n",
       "        text-align: right;\n",
       "    }\n",
       "</style>\n",
       "<table border=\"1\" class=\"dataframe\">\n",
       "  <thead>\n",
       "    <tr style=\"text-align: right;\">\n",
       "      <th></th>\n",
       "      <th>flat_type</th>\n",
       "      <th>storey_range</th>\n",
       "      <th>floor_area_sqm</th>\n",
       "      <th>flat_model</th>\n",
       "      <th>lease_commence_date</th>\n",
       "      <th>remaining_lease</th>\n",
       "      <th>resale_price</th>\n",
       "      <th>Postal</th>\n",
       "      <th>full_address</th>\n",
       "      <th>town_region</th>\n",
       "      <th>Is_Mrt_Nearby?</th>\n",
       "      <th>Is_PrimarySchool_Nearby?</th>\n",
       "      <th>Is_SecondarySchool_Nearby?</th>\n",
       "      <th>Is_MixedLevel_Nearby?</th>\n",
       "      <th>Is_JC/MI_Nearby?</th>\n",
       "      <th>Is_sm_Nearby?</th>\n",
       "    </tr>\n",
       "  </thead>\n",
       "  <tbody>\n",
       "    <tr>\n",
       "      <th>11368</th>\n",
       "      <td>5 ROOM</td>\n",
       "      <td>1</td>\n",
       "      <td>123.0</td>\n",
       "      <td>3</td>\n",
       "      <td>1989</td>\n",
       "      <td>272</td>\n",
       "      <td>380000.0</td>\n",
       "      <td>4597</td>\n",
       "      <td>7236</td>\n",
       "      <td>4</td>\n",
       "      <td>0</td>\n",
       "      <td>1</td>\n",
       "      <td>1</td>\n",
       "      <td>0</td>\n",
       "      <td>1</td>\n",
       "      <td>1</td>\n",
       "    </tr>\n",
       "    <tr>\n",
       "      <th>2517</th>\n",
       "      <td>3 ROOM</td>\n",
       "      <td>1</td>\n",
       "      <td>64.0</td>\n",
       "      <td>14</td>\n",
       "      <td>1985</td>\n",
       "      <td>234</td>\n",
       "      <td>345000.0</td>\n",
       "      <td>3402</td>\n",
       "      <td>1718</td>\n",
       "      <td>3</td>\n",
       "      <td>0</td>\n",
       "      <td>1</td>\n",
       "      <td>1</td>\n",
       "      <td>1</td>\n",
       "      <td>1</td>\n",
       "      <td>1</td>\n",
       "    </tr>\n",
       "    <tr>\n",
       "      <th>17318</th>\n",
       "      <td>3 ROOM</td>\n",
       "      <td>2</td>\n",
       "      <td>65.0</td>\n",
       "      <td>3</td>\n",
       "      <td>1975</td>\n",
       "      <td>98</td>\n",
       "      <td>358000.0</td>\n",
       "      <td>1298</td>\n",
       "      <td>6717</td>\n",
       "      <td>0</td>\n",
       "      <td>0</td>\n",
       "      <td>1</td>\n",
       "      <td>1</td>\n",
       "      <td>1</td>\n",
       "      <td>0</td>\n",
       "      <td>1</td>\n",
       "    </tr>\n",
       "    <tr>\n",
       "      <th>14752</th>\n",
       "      <td>2 ROOM</td>\n",
       "      <td>0</td>\n",
       "      <td>47.0</td>\n",
       "      <td>6</td>\n",
       "      <td>2013</td>\n",
       "      <td>567</td>\n",
       "      <td>208000.0</td>\n",
       "      <td>5363</td>\n",
       "      <td>5702</td>\n",
       "      <td>4</td>\n",
       "      <td>1</td>\n",
       "      <td>1</td>\n",
       "      <td>1</td>\n",
       "      <td>1</td>\n",
       "      <td>0</td>\n",
       "      <td>1</td>\n",
       "    </tr>\n",
       "    <tr>\n",
       "      <th>14253</th>\n",
       "      <td>4 ROOM</td>\n",
       "      <td>0</td>\n",
       "      <td>92.0</td>\n",
       "      <td>6</td>\n",
       "      <td>2015</td>\n",
       "      <td>589</td>\n",
       "      <td>370000.0</td>\n",
       "      <td>6939</td>\n",
       "      <td>4094</td>\n",
       "      <td>2</td>\n",
       "      <td>0</td>\n",
       "      <td>1</td>\n",
       "      <td>1</td>\n",
       "      <td>1</td>\n",
       "      <td>0</td>\n",
       "      <td>1</td>\n",
       "    </tr>\n",
       "  </tbody>\n",
       "</table>\n",
       "</div>"
      ],
      "text/plain": [
       "      flat_type  storey_range  floor_area_sqm  flat_model  \\\n",
       "11368    5 ROOM             1           123.0           3   \n",
       "2517     3 ROOM             1            64.0          14   \n",
       "17318    3 ROOM             2            65.0           3   \n",
       "14752    2 ROOM             0            47.0           6   \n",
       "14253    4 ROOM             0            92.0           6   \n",
       "\n",
       "       lease_commence_date  remaining_lease  resale_price  Postal  \\\n",
       "11368                 1989              272      380000.0    4597   \n",
       "2517                  1985              234      345000.0    3402   \n",
       "17318                 1975               98      358000.0    1298   \n",
       "14752                 2013              567      208000.0    5363   \n",
       "14253                 2015              589      370000.0    6939   \n",
       "\n",
       "       full_address  town_region  Is_Mrt_Nearby?  Is_PrimarySchool_Nearby?  \\\n",
       "11368          7236            4               0                         1   \n",
       "2517           1718            3               0                         1   \n",
       "17318          6717            0               0                         1   \n",
       "14752          5702            4               1                         1   \n",
       "14253          4094            2               0                         1   \n",
       "\n",
       "       Is_SecondarySchool_Nearby?  Is_MixedLevel_Nearby?  Is_JC/MI_Nearby?  \\\n",
       "11368                           1                      0                 1   \n",
       "2517                            1                      1                 1   \n",
       "17318                           1                      1                 0   \n",
       "14752                           1                      1                 0   \n",
       "14253                           1                      1                 0   \n",
       "\n",
       "       Is_sm_Nearby?  \n",
       "11368              1  \n",
       "2517               1  \n",
       "17318              1  \n",
       "14752              1  \n",
       "14253              1  "
      ]
     },
     "execution_count": 69,
     "metadata": {},
     "output_type": "execute_result"
    }
   ],
   "source": [
    "# Randomly sample 5 records with .sample(5)\n",
    "df.sample(5)"
   ]
  },
  {
   "cell_type": "code",
   "execution_count": 70,
   "metadata": {},
   "outputs": [],
   "source": [
    "df = df.drop(columns = ['Postal','full_address'])"
   ]
  },
  {
   "cell_type": "code",
   "execution_count": 73,
   "metadata": {},
   "outputs": [
    {
     "name": "stdout",
     "output_type": "stream",
     "text": [
      "<class 'pandas.core.frame.DataFrame'>\n",
      "RangeIndex: 22186 entries, 0 to 22185\n",
      "Data columns (total 14 columns):\n",
      " #   Column                      Non-Null Count  Dtype  \n",
      "---  ------                      --------------  -----  \n",
      " 0   flat_type                   22186 non-null  object \n",
      " 1   storey_range                22186 non-null  int32  \n",
      " 2   floor_area_sqm              22186 non-null  float64\n",
      " 3   flat_model                  22186 non-null  int32  \n",
      " 4   lease_commence_date         22186 non-null  int64  \n",
      " 5   remaining_lease             22186 non-null  int32  \n",
      " 6   resale_price                22186 non-null  float64\n",
      " 7   town_region                 22186 non-null  int32  \n",
      " 8   Is_Mrt_Nearby?              22186 non-null  int32  \n",
      " 9   Is_PrimarySchool_Nearby?    22186 non-null  int32  \n",
      " 10  Is_SecondarySchool_Nearby?  22186 non-null  int32  \n",
      " 11  Is_MixedLevel_Nearby?       22186 non-null  int32  \n",
      " 12  Is_JC/MI_Nearby?            22186 non-null  int32  \n",
      " 13  Is_sm_Nearby?               22186 non-null  int32  \n",
      "dtypes: float64(2), int32(10), int64(1), object(1)\n",
      "memory usage: 1.5+ MB\n"
     ]
    }
   ],
   "source": [
    "df.info()"
   ]
  },
  {
   "cell_type": "markdown",
   "metadata": {},
   "source": [
    "#### One Hot Encoder for nominal data columns"
   ]
  },
  {
   "cell_type": "code",
   "execution_count": 7,
   "metadata": {},
   "outputs": [],
   "source": [
    "# #OneHotEncoder categorical nominal data column \"town\",\"flat_type\",\"street_name\",\"flat_model\",\"Day of Week\"\n",
    "# cols = [\"town\",\"street_name\",\"flat_model\"]\n",
    "# for i in cols:\n",
    "#     labelbinarizer = LabelBinarizer()\n",
    "#     x = labelbinarizer.fit_transform(df[i])\n",
    "#     encoded_df = pd.DataFrame(x, columns=labelbinarizer.classes_)\n",
    "#     df = pd.concat([df, encoded_df], axis=1)"
   ]
  },
  {
   "cell_type": "markdown",
   "metadata": {},
   "source": [
    "### Building Decision Tree Model"
   ]
  },
  {
   "cell_type": "code",
   "execution_count": 71,
   "metadata": {},
   "outputs": [
    {
     "data": {
      "text/plain": [
       "array(['3 ROOM', '4 ROOM', '5 ROOM', 'EXECUTIVE', '1 ROOM', '2 ROOM',\n",
       "       'MULTI-GENERATION'], dtype=object)"
      ]
     },
     "execution_count": 71,
     "metadata": {},
     "output_type": "execute_result"
    }
   ],
   "source": [
    "df['flat_type'].unique()"
   ]
  },
  {
   "cell_type": "code",
   "execution_count": 74,
   "metadata": {},
   "outputs": [],
   "source": [
    "#split dataset in features and target variable\n",
    "feature_cols = df.drop(columns = ['flat_type'])\n",
    "X = feature_cols\n",
    "#y = df[['flat_type']]\n",
    "y = df['flat_type']"
   ]
  },
  {
   "cell_type": "code",
   "execution_count": 75,
   "metadata": {},
   "outputs": [],
   "source": [
    "# Split dataset into training set and test set\n",
    "X_train, X_test, y_train, y_test = train_test_split(X, y, test_size=0.2, random_state=1) # 80% training and 20% test"
   ]
  },
  {
   "cell_type": "code",
   "execution_count": 76,
   "metadata": {},
   "outputs": [
    {
     "data": {
      "text/plain": [
       "DecisionTreeClassifier(random_state=0)"
      ]
     },
     "execution_count": 76,
     "metadata": {},
     "output_type": "execute_result"
    }
   ],
   "source": [
    "# initialise Decision Tree\n",
    "#Using gini currently, can also use entropy or miclassification error.\n",
    "clf = DecisionTreeClassifier(criterion='gini',random_state=0) \n",
    "\n",
    "# train model\n",
    "clf.fit(X_train, y_train)"
   ]
  },
  {
   "cell_type": "code",
   "execution_count": 77,
   "metadata": {},
   "outputs": [
    {
     "data": {
      "text/html": [
       "<div>\n",
       "<style scoped>\n",
       "    .dataframe tbody tr th:only-of-type {\n",
       "        vertical-align: middle;\n",
       "    }\n",
       "\n",
       "    .dataframe tbody tr th {\n",
       "        vertical-align: top;\n",
       "    }\n",
       "\n",
       "    .dataframe thead th {\n",
       "        text-align: right;\n",
       "    }\n",
       "</style>\n",
       "<table border=\"1\" class=\"dataframe\">\n",
       "  <thead>\n",
       "    <tr style=\"text-align: right;\">\n",
       "      <th></th>\n",
       "      <th>Actual</th>\n",
       "      <th>Predicted</th>\n",
       "    </tr>\n",
       "  </thead>\n",
       "  <tbody>\n",
       "    <tr>\n",
       "      <th>3631</th>\n",
       "      <td>4 ROOM</td>\n",
       "      <td>4 ROOM</td>\n",
       "    </tr>\n",
       "    <tr>\n",
       "      <th>11664</th>\n",
       "      <td>4 ROOM</td>\n",
       "      <td>4 ROOM</td>\n",
       "    </tr>\n",
       "    <tr>\n",
       "      <th>8002</th>\n",
       "      <td>3 ROOM</td>\n",
       "      <td>3 ROOM</td>\n",
       "    </tr>\n",
       "    <tr>\n",
       "      <th>9409</th>\n",
       "      <td>3 ROOM</td>\n",
       "      <td>3 ROOM</td>\n",
       "    </tr>\n",
       "    <tr>\n",
       "      <th>7777</th>\n",
       "      <td>EXECUTIVE</td>\n",
       "      <td>EXECUTIVE</td>\n",
       "    </tr>\n",
       "    <tr>\n",
       "      <th>...</th>\n",
       "      <td>...</td>\n",
       "      <td>...</td>\n",
       "    </tr>\n",
       "    <tr>\n",
       "      <th>18465</th>\n",
       "      <td>4 ROOM</td>\n",
       "      <td>4 ROOM</td>\n",
       "    </tr>\n",
       "    <tr>\n",
       "      <th>3406</th>\n",
       "      <td>4 ROOM</td>\n",
       "      <td>4 ROOM</td>\n",
       "    </tr>\n",
       "    <tr>\n",
       "      <th>18757</th>\n",
       "      <td>3 ROOM</td>\n",
       "      <td>3 ROOM</td>\n",
       "    </tr>\n",
       "    <tr>\n",
       "      <th>8010</th>\n",
       "      <td>3 ROOM</td>\n",
       "      <td>3 ROOM</td>\n",
       "    </tr>\n",
       "    <tr>\n",
       "      <th>6710</th>\n",
       "      <td>5 ROOM</td>\n",
       "      <td>5 ROOM</td>\n",
       "    </tr>\n",
       "  </tbody>\n",
       "</table>\n",
       "<p>100 rows × 2 columns</p>\n",
       "</div>"
      ],
      "text/plain": [
       "          Actual  Predicted\n",
       "3631      4 ROOM     4 ROOM\n",
       "11664     4 ROOM     4 ROOM\n",
       "8002      3 ROOM     3 ROOM\n",
       "9409      3 ROOM     3 ROOM\n",
       "7777   EXECUTIVE  EXECUTIVE\n",
       "...          ...        ...\n",
       "18465     4 ROOM     4 ROOM\n",
       "3406      4 ROOM     4 ROOM\n",
       "18757     3 ROOM     3 ROOM\n",
       "8010      3 ROOM     3 ROOM\n",
       "6710      5 ROOM     5 ROOM\n",
       "\n",
       "[100 rows x 2 columns]"
      ]
     },
     "execution_count": 77,
     "metadata": {},
     "output_type": "execute_result"
    }
   ],
   "source": [
    "# get predictions and compare results\n",
    "predictions = clf.predict(X_test)\n",
    "results_df = pd.DataFrame({'Actual': y_test, 'Predicted': predictions})\n",
    "results_df.sample(100)"
   ]
  },
  {
   "cell_type": "code",
   "execution_count": 78,
   "metadata": {},
   "outputs": [
    {
     "name": "stdout",
     "output_type": "stream",
     "text": [
      "Accuracy: 0.9975214060387562\n"
     ]
    }
   ],
   "source": [
    "# Accuracy\n",
    "accuracy = accuracy_score(y_test,predictions)\n",
    "print(\"Accuracy:\",accuracy)"
   ]
  },
  {
   "cell_type": "code",
   "execution_count": 79,
   "metadata": {},
   "outputs": [
    {
     "data": {
      "image/png": "[encoded data removed]",
      "text/plain": [
       "<Figure size 720x720 with 2 Axes>"
      ]
     },
     "metadata": {
      "image/png": {
       "height": 572,
       "width": 618
      },
      "needs_background": "light"
     },
     "output_type": "display_data"
    }
   ],
   "source": [
    "from sklearn.metrics import plot_confusion_matrix\n",
    "\n",
    "fig, ax = plt.subplots(figsize=(10, 10))\n",
    "\n",
    "chart = plot_confusion_matrix(clf, X_test, y_test, ax=ax, xticks_rotation = 45);"
   ]
  },
  {
   "cell_type": "code",
   "execution_count": 80,
   "metadata": {},
   "outputs": [
    {
     "name": "stdout",
     "output_type": "stream",
     "text": [
      "Precision_micro: 0.9975214060387562\n",
      "Recall_micro: 0.9975214060387562\n",
      "F-measure_micro: 0.9975214060387562\n",
      "Precision1_macro: 0.997241894705365\n",
      "Recall1_macro: 0.9974540208648058\n",
      "F-measure1_macro: 0.997347623411087\n",
      "Precision2_weighted: 0.9975228930875937\n",
      "Recall2_weighted: 0.9975214060387562\n",
      "F-measure2_weighted: 0.9975216213316023\n"
     ]
    }
   ],
   "source": [
    "# Precision = (True Positive)/(Total Predicted Positive)\n",
    "# To determine if costs of False Positive is high.\n",
    "precision = metrics.precision_score(y_test, predictions, average='micro')\n",
    "precision1 = metrics.precision_score(y_test, predictions, average='macro')\n",
    "precision2 = metrics.precision_score(y_test, predictions, average='weighted')\n",
    "\n",
    "#Recall = (True Positive)/(Total Actual Positive)\n",
    "# calculates the no. of Actual Positives our model capture through labeling it as Positive\n",
    "recall = metrics.recall_score(y_test, predictions, average='micro')\n",
    "recall1 = metrics.recall_score(y_test, predictions, average='macro')\n",
    "recall2 = metrics.recall_score(y_test, predictions, average='weighted')\n",
    "\n",
    "#F1-score = 2* (precision*recall)/(precision + recall)\n",
    "# F1 Score is needed when you want to seek a balance between Precision and Recall.\n",
    "f_measure = metrics.f1_score(y_test, predictions, average='micro')\n",
    "f_measure1 = metrics.f1_score(y_test, predictions, average='macro')\n",
    "f_measure2 = metrics.f1_score(y_test, predictions, average='weighted')\n",
    "\n",
    "# https://towardsdatascience.com/accuracy-precision-recall-or-f1-331fb37c5cb9\n",
    "print(\"Precision_micro:\",precision)\n",
    "print(\"Recall_micro:\",recall)\n",
    "print(\"F-measure_micro:\",f_measure)\n",
    "\n",
    "print(\"Precision1_macro:\",precision1)\n",
    "print(\"Recall1_macro:\",recall1)\n",
    "print(\"F-measure1_macro:\",f_measure1)\n",
    "\n",
    "print(\"Precision2_weighted:\",precision2)\n",
    "print(\"Recall2_weighted:\",recall2)\n",
    "print(\"F-measure2_weighted:\",f_measure2)"
   ]
  },
  {
   "cell_type": "code",
   "execution_count": null,
   "metadata": {},
   "outputs": [],
   "source": []
  },
  {
   "cell_type": "code",
   "execution_count": 81,
   "metadata": {},
   "outputs": [],
   "source": [
    "###################################################################################################################################\n"
   ]
  },
  {
   "cell_type": "code",
   "execution_count": 82,
   "metadata": {},
   "outputs": [],
   "source": [
    "X_train, X_test, y_train, y_test = train_test_split(X, y, test_size=0.50, random_state=0)\n"
   ]
  },
  {
   "cell_type": "code",
   "execution_count": 83,
   "metadata": {},
   "outputs": [
    {
     "data": {
      "text/plain": [
       "KNeighborsClassifier(n_neighbors=3)"
      ]
     },
     "execution_count": 83,
     "metadata": {},
     "output_type": "execute_result"
    }
   ],
   "source": [
    "#Create the kNN classifier and set the number of neighbors to be 3. Note that you can tune this number of neighbors\n",
    "model = KNeighborsClassifier(n_neighbors=3)\n",
    "\n",
    "#Fit the training feature Xs and training label Ys\n",
    "model.fit(X_train,y_train)"
   ]
  },
  {
   "cell_type": "code",
   "execution_count": 84,
   "metadata": {},
   "outputs": [],
   "source": [
    "y_pred = model.predict(X_test)"
   ]
  },
  {
   "cell_type": "code",
   "execution_count": 85,
   "metadata": {},
   "outputs": [
    {
     "name": "stdout",
     "output_type": "stream",
     "text": [
      "[[   5    1    2    0    0    0    0]\n",
      " [   0  120   36    0    0    0    0]\n",
      " [   3   67 2297  259   22    8    0]\n",
      " [   0    6  299 3816  590  113    2]\n",
      " [   0    0   31  512 1927  269    3]\n",
      " [   0    0    5   47  155  491    2]\n",
      " [   0    0    0    0    1    3    1]]\n",
      "accuracy:  0.7804020553502209\n",
      "f1-Score:  0.7804020553502209\n",
      "precision:  0.7804020553502209\n",
      "recall:  0.7804020553502209\n"
     ]
    }
   ],
   "source": [
    "# Find the confusion matrix of the result\n",
    "cm = confusion_matrix(y_pred, y_test)\n",
    "print(cm)\n",
    "\n",
    "# Find the accuracy and F1 score of the result\n",
    "asr = accuracy_score(y_pred, y_test)\n",
    "f1 = f1_score(y_pred, y_test,average='micro')\n",
    "\n",
    "# testing out different scores.\n",
    "f2 = precision_score(y_pred, y_test,average='micro')\n",
    "f3 = recall_score(y_pred, y_test,average='micro')\n",
    "\n",
    "# testing out differet form of accuracy.\n",
    "# https://scikit-learn.org/stable/modules/generated/sklearn.metrics.precision_score.html\n",
    "# f2 = f1_score(y_pred, y_test,average='macro')\n",
    "# f3 = f1_score(y_pred, y_test,average='weighted')\n",
    "\n",
    "#The best f1_score is 1 and the worst value is 0.\n",
    "\n",
    "print('accuracy: ',asr)\n",
    "print('f1-Score: ',f1)\n",
    "print('precision: ',f2)\n",
    "print('recall: ',f3)"
   ]
  },
  {
   "cell_type": "markdown",
   "metadata": {},
   "source": [
    "## Bagging (with Decision Tree)\n",
    "\n",
    "Refer to the following links on for detail explanation on the implementation:"
   ]
  },
  {
   "cell_type": "code",
   "execution_count": 86,
   "metadata": {},
   "outputs": [
    {
     "data": {
      "text/plain": [
       "BaggingClassifier(n_estimators=50)"
      ]
     },
     "execution_count": 86,
     "metadata": {},
     "output_type": "execute_result"
    }
   ],
   "source": [
    "#Create the Bagging classifier. Default base classifiers is Decision Tree. \n",
    "# - n_estimator is the number of base classifiers (i.e. weak learners)\n",
    "model = BaggingClassifier(n_estimators=50)\n",
    "\n",
    "#Fit the training feature Xs and training label Ys\n",
    "model.fit(X_train, y_train)"
   ]
  },
  {
   "cell_type": "code",
   "execution_count": 87,
   "metadata": {},
   "outputs": [],
   "source": [
    "#Use the trained model to predict the test data\n",
    "y_pred = model.predict(X_test)"
   ]
  },
  {
   "cell_type": "code",
   "execution_count": 88,
   "metadata": {},
   "outputs": [
    {
     "name": "stdout",
     "output_type": "stream",
     "text": [
      "[[   8    0    0    0    0    0    0]\n",
      " [   0  193    0    0    0    0    0]\n",
      " [   0    1 2654    9    1    0    0]\n",
      " [   0    0   15 4624    0    0    0]\n",
      " [   0    0    0    1 2691    2    0]\n",
      " [   0    0    0    0    3  882    0]\n",
      " [   0    0    1    0    0    0    8]]\n",
      "Accuracy:  0.9970251509961237\n",
      "F1-Score_micro:  0.9970251509961237\n",
      "precision_micro:  0.9970251509961237\n",
      "recall_micro:  0.9970251509961237\n",
      "F1-Score_maro:  0.9895300251064734\n",
      "precision_macro:  0.9975640307262622\n",
      "recall_macro:  0.9824320624872686\n",
      "F1-Score_weighted:  0.9970230802097363\n",
      "precision_weighted:  0.9970272738806629\n",
      "recall_weighted:  0.9970251509961237\n"
     ]
    }
   ],
   "source": [
    "# Find the confusion matrix of the result\n",
    "cm = confusion_matrix(y_pred, y_test)\n",
    "print(cm)\n",
    "\n",
    "# Find the accuracy and F1 score of the result\n",
    "asr = accuracy_score(y_pred, y_test)\n",
    "f1 = f1_score(y_pred, y_test,average='micro')\n",
    "f1_macro = f1_score(y_pred, y_test,average='macro')\n",
    "f1_weighted = f1_score(y_pred, y_test,average='weighted')\n",
    "\n",
    "\n",
    "# testing out differet form of accuracy.\n",
    "# https://scikit-learn.org/stable/modules/generated/sklearn.metrics.precision_score.html\n",
    "# f2 = f1_score(y_pred, y_test,average='macro')\n",
    "# f3 = f1_score(y_pred, y_test,average='weighted')\n",
    "f2 = precision_score(y_pred, y_test,average='micro')\n",
    "f2_macro = precision_score(y_pred, y_test,average='macro')\n",
    "f2_weighted = precision_score(y_pred, y_test,average='weighted')\n",
    "\n",
    "f3 = recall_score(y_pred, y_test,average='micro')\n",
    "f3_macro = recall_score(y_pred, y_test,average='macro')\n",
    "f3_weighted = recall_score(y_pred, y_test,average='weighted')\n",
    "\n",
    "#The best f1_score is 1 and the worst value is 0.\n",
    "\n",
    "print('Accuracy: ',asr)\n",
    "print('F1-Score_micro: ',f1)\n",
    "print('precision_micro: ',f2)\n",
    "print('recall_micro: ',f3)\n",
    "print('F1-Score_maro: ',f1_macro)\n",
    "print('precision_macro: ',f2_macro)\n",
    "print('recall_macro: ',f3_macro)\n",
    "print('F1-Score_weighted: ',f1_weighted)\n",
    "print('precision_weighted: ',f2_weighted)\n",
    "print('recall_weighted: ',f3_weighted)"
   ]
  },
  {
   "cell_type": "code",
   "execution_count": 89,
   "metadata": {},
   "outputs": [
    {
     "data": {
      "text/html": [
       "<div>\n",
       "<style scoped>\n",
       "    .dataframe tbody tr th:only-of-type {\n",
       "        vertical-align: middle;\n",
       "    }\n",
       "\n",
       "    .dataframe tbody tr th {\n",
       "        vertical-align: top;\n",
       "    }\n",
       "\n",
       "    .dataframe thead th {\n",
       "        text-align: right;\n",
       "    }\n",
       "</style>\n",
       "<table border=\"1\" class=\"dataframe\">\n",
       "  <thead>\n",
       "    <tr style=\"text-align: right;\">\n",
       "      <th></th>\n",
       "      <th>Actual</th>\n",
       "      <th>Predicted</th>\n",
       "    </tr>\n",
       "  </thead>\n",
       "  <tbody>\n",
       "    <tr>\n",
       "      <th>13336</th>\n",
       "      <td>5 ROOM</td>\n",
       "      <td>5 ROOM</td>\n",
       "    </tr>\n",
       "    <tr>\n",
       "      <th>6116</th>\n",
       "      <td>4 ROOM</td>\n",
       "      <td>4 ROOM</td>\n",
       "    </tr>\n",
       "    <tr>\n",
       "      <th>22039</th>\n",
       "      <td>3 ROOM</td>\n",
       "      <td>3 ROOM</td>\n",
       "    </tr>\n",
       "    <tr>\n",
       "      <th>17667</th>\n",
       "      <td>4 ROOM</td>\n",
       "      <td>4 ROOM</td>\n",
       "    </tr>\n",
       "    <tr>\n",
       "      <th>11879</th>\n",
       "      <td>5 ROOM</td>\n",
       "      <td>5 ROOM</td>\n",
       "    </tr>\n",
       "    <tr>\n",
       "      <th>20169</th>\n",
       "      <td>EXECUTIVE</td>\n",
       "      <td>EXECUTIVE</td>\n",
       "    </tr>\n",
       "    <tr>\n",
       "      <th>14004</th>\n",
       "      <td>3 ROOM</td>\n",
       "      <td>3 ROOM</td>\n",
       "    </tr>\n",
       "    <tr>\n",
       "      <th>21959</th>\n",
       "      <td>5 ROOM</td>\n",
       "      <td>5 ROOM</td>\n",
       "    </tr>\n",
       "    <tr>\n",
       "      <th>21997</th>\n",
       "      <td>EXECUTIVE</td>\n",
       "      <td>EXECUTIVE</td>\n",
       "    </tr>\n",
       "    <tr>\n",
       "      <th>12908</th>\n",
       "      <td>EXECUTIVE</td>\n",
       "      <td>EXECUTIVE</td>\n",
       "    </tr>\n",
       "  </tbody>\n",
       "</table>\n",
       "</div>"
      ],
      "text/plain": [
       "          Actual  Predicted\n",
       "13336     5 ROOM     5 ROOM\n",
       "6116      4 ROOM     4 ROOM\n",
       "22039     3 ROOM     3 ROOM\n",
       "17667     4 ROOM     4 ROOM\n",
       "11879     5 ROOM     5 ROOM\n",
       "20169  EXECUTIVE  EXECUTIVE\n",
       "14004     3 ROOM     3 ROOM\n",
       "21959     5 ROOM     5 ROOM\n",
       "21997  EXECUTIVE  EXECUTIVE\n",
       "12908  EXECUTIVE  EXECUTIVE"
      ]
     },
     "execution_count": 89,
     "metadata": {},
     "output_type": "execute_result"
    }
   ],
   "source": [
    "# get predictions and compare results\n",
    "predictions = model.predict(X_test)\n",
    "results_df = pd.DataFrame({'Actual': y_test, 'Predicted': predictions})\n",
    "results_df.sample(10)"
   ]
  },
  {
   "cell_type": "code",
   "execution_count": 90,
   "metadata": {},
   "outputs": [
    {
     "data": {
      "image/png": "[encoded data removed]",
      "text/plain": [
       "<Figure size 720x720 with 2 Axes>"
      ]
     },
     "metadata": {
      "image/png": {
       "height": 617,
       "width": 682
      },
      "needs_background": "light"
     },
     "output_type": "display_data"
    }
   ],
   "source": [
    "from sklearn.metrics import plot_confusion_matrix\n",
    "\n",
    "fig, ax = plt.subplots(figsize=(10, 10))\n",
    "\n",
    "chart = plot_confusion_matrix(model, X_test, y_test, ax=ax, xticks_rotation = 45);"
   ]
  },
  {
   "cell_type": "markdown",
   "metadata": {},
   "source": [
    "## Bagging (with kNN)"
   ]
  },
  {
   "cell_type": "code",
   "execution_count": 91,
   "metadata": {},
   "outputs": [
    {
     "data": {
      "text/plain": [
       "BaggingClassifier(base_estimator=KNeighborsClassifier(), n_estimators=50)"
      ]
     },
     "execution_count": 91,
     "metadata": {},
     "output_type": "execute_result"
    }
   ],
   "source": [
    "#Create the kNN base classifier\n",
    "knn = KNeighborsClassifier(n_neighbors=5)\n",
    "\n",
    "#Create the Bagging classifier. Default base classifiers is Decision Tree. \n",
    "# - n_estimator is the number of base classifiers (i.e. weak learners)\n",
    "model = BaggingClassifier(n_estimators=50, base_estimator=knn)\n",
    "\n",
    "#Fit the training feature Xs and training label Ys\n",
    "model.fit(X_train, y_train)"
   ]
  },
  {
   "cell_type": "code",
   "execution_count": 92,
   "metadata": {},
   "outputs": [
    {
     "name": "stdout",
     "output_type": "stream",
     "text": [
      "[[   8    0    0    0    0    0    0]\n",
      " [   0  193    0    0    0    0    0]\n",
      " [   0    1 2654    9    1    0    0]\n",
      " [   0    0   15 4624    0    0    0]\n",
      " [   0    0    0    1 2691    2    0]\n",
      " [   0    0    0    0    3  882    0]\n",
      " [   0    0    1    0    0    0    8]]\n",
      "accuracy:  0.9970251509961237\n",
      "f1-Score:  0.9970251509961237\n",
      "precision:  0.9970251509961237\n",
      "recall:  0.9970251509961237\n"
     ]
    }
   ],
   "source": [
    "# Find the confusion matrix of the result\n",
    "cm = confusion_matrix(y_pred, y_test)\n",
    "print(cm)\n",
    "\n",
    "# Find the accuracy and F1 score of the result\n",
    "asr = accuracy_score(y_pred, y_test)\n",
    "f1 = f1_score(y_pred, y_test,average='micro')\n",
    "\n",
    "# testing out differet form of accuracy.\n",
    "# https://scikit-learn.org/stable/modules/generated/sklearn.metrics.precision_score.html\n",
    "# f2 = f1_score(y_pred, y_test,average='macro')\n",
    "# f3 = f1_score(y_pred, y_test,average='weighted')\n",
    "f2 = precision_score(y_pred, y_test,pos_label='positive',average='micro')\n",
    "f3 = recall_score(y_pred, y_test,pos_label='positive',average='micro')\n",
    "#The best f1_score is 1 and the worst value is 0.\n",
    "\n",
    "print('accuracy: ',asr)\n",
    "print('f1-Score: ',f1)\n",
    "print('precision: ',f2)\n",
    "print('recall: ',f3)"
   ]
  },
  {
   "cell_type": "markdown",
   "metadata": {},
   "source": [
    "## AdaBoost (with Decision Tree)\n"
   ]
  },
  {
   "cell_type": "code",
   "execution_count": 93,
   "metadata": {},
   "outputs": [],
   "source": [
    "#Create the AdaBoost classifier. Default base classifiers is Decision Tree. \n",
    "# - n_estimator is the number of base classifiers (i.e. weak learners)\n",
    "# - learning_rate controls the weight adjustments of each base classifiers. Default is 1\n",
    "modelA = AdaBoostClassifier(n_estimators=50,learning_rate=0.1)\n",
    "\n",
    "#Fit the training feature Xs and training label Ys\n",
    "modelA.fit(X_train, y_train)\n",
    "\n",
    "#Use the trained modelA to predict the test data\n",
    "y_pred = modelA.predict(X_test)"
   ]
  },
  {
   "cell_type": "code",
   "execution_count": 94,
   "metadata": {},
   "outputs": [
    {
     "name": "stdout",
     "output_type": "stream",
     "text": [
      "[[   0    0    0    0    0    0    0]\n",
      " [   0    0    0    0    0    0    0]\n",
      " [   8  193  391    6    0    0    0]\n",
      " [   0    1 2277 4545   23    0    0]\n",
      " [   0    0    2   83 2672  839    3]\n",
      " [   0    0    0    0    0   45    5]\n",
      " [   0    0    0    0    0    0    0]]\n",
      "Accuracy:  0.6898945280807717\n",
      "F1-Score_micro:  0.6898945280807717\n",
      "precision_micro:  0.6898945280807717\n",
      "recall_micro:  0.6898945280807717\n",
      "F1-Score_maro:  0.28236061067297386\n",
      "precision_macro:  0.3099438189231471\n",
      "recall_macro:  0.42288084708493623\n",
      "F1-Score_weighted:  0.7774662990815204\n",
      "precision_weighted:  0.9350869126474227\n",
      "recall_weighted:  0.6898945280807717\n"
     ]
    }
   ],
   "source": [
    "# Find the confusion matrix of the result\n",
    "cm = confusion_matrix(y_pred, y_test)\n",
    "print(cm)\n",
    "\n",
    "# Find the accuracy and F1 score of the result\n",
    "# Find the accuracy and F1 score of the result\n",
    "asr = accuracy_score(y_pred, y_test)\n",
    "f1 = f1_score(y_pred, y_test,average='micro')\n",
    "f1_macro = f1_score(y_pred, y_test,average='macro')\n",
    "f1_weighted = f1_score(y_pred, y_test,average='weighted')\n",
    "\n",
    "\n",
    "# testing out differet form of accuracy.\n",
    "# https://scikit-learn.org/stable/modules/generated/sklearn.metrics.precision_score.html\n",
    "# f2 = f1_score(y_pred, y_test,average='macro')\n",
    "# f3 = f1_score(y_pred, y_test,average='weighted')\n",
    "f2 = precision_score(y_pred, y_test,average='micro')\n",
    "f2_macro = precision_score(y_pred, y_test,average='macro')\n",
    "f2_weighted = precision_score(y_pred, y_test,average='weighted')\n",
    "\n",
    "f3 = recall_score(y_pred, y_test,average='micro')\n",
    "f3_macro = recall_score(y_pred, y_test,average='macro')\n",
    "f3_weighted = recall_score(y_pred, y_test,average='weighted')\n",
    "\n",
    "#The best f1_score is 1 and the worst value is 0.\n",
    "\n",
    "print('Accuracy: ',asr)\n",
    "print('F1-Score_micro: ',f1)\n",
    "print('precision_micro: ',f2)\n",
    "print('recall_micro: ',f3)\n",
    "print('F1-Score_maro: ',f1_macro)\n",
    "print('precision_macro: ',f2_macro)\n",
    "print('recall_macro: ',f3_macro)\n",
    "print('F1-Score_weighted: ',f1_weighted)\n",
    "print('precision_weighted: ',f2_weighted)\n",
    "print('recall_weighted: ',f3_weighted)"
   ]
  },
  {
   "cell_type": "code",
   "execution_count": 95,
   "metadata": {},
   "outputs": [
    {
     "data": {
      "image/png": "[encoded data removed]",
      "text/plain": [
       "<Figure size 720x720 with 2 Axes>"
      ]
     },
     "metadata": {
      "image/png": {
       "height": 617,
       "width": 682
      },
      "needs_background": "light"
     },
     "output_type": "display_data"
    }
   ],
   "source": [
    "from sklearn.metrics import plot_confusion_matrix\n",
    "\n",
    "fig, ax = plt.subplots(figsize=(10, 10))\n",
    "\n",
    "chart = plot_confusion_matrix(modelA, X_test, y_test, ax=ax, xticks_rotation = 45);"
   ]
  },
  {
   "cell_type": "markdown",
   "metadata": {},
   "source": [
    "## AdaBoost (with Gaussian Navie Bayes)\n",
    "Refer to the following links on for detail explanation on the implementation:"
   ]
  },
  {
   "cell_type": "code",
   "execution_count": 96,
   "metadata": {},
   "outputs": [
    {
     "data": {
      "text/plain": [
       "GaussianNB()"
      ]
     },
     "execution_count": 96,
     "metadata": {},
     "output_type": "execute_result"
    }
   ],
   "source": [
    "model = GaussianNB()\n",
    "#Fit the training feature Xs and training label Ys\n",
    "model.fit(X_train, y_train)"
   ]
  },
  {
   "cell_type": "code",
   "execution_count": 97,
   "metadata": {},
   "outputs": [
    {
     "name": "stdout",
     "output_type": "stream",
     "text": [
      "[[   8    0    0    0    0    0    0]\n",
      " [   0  182    0    0    0    0    0]\n",
      " [   0   12 2578  136    0    0    0]\n",
      " [   0    0   90 4328   96    0    0]\n",
      " [   0    0    1  170 2484  154    0]\n",
      " [   0    0    1    0  115  730    3]\n",
      " [   0    0    0    0    0    0    5]]\n",
      "accuracy:  0.929865681060128\n",
      "f1-Score:  0.929865681060128\n",
      "precision:  0.9120203174643736\n",
      "recall:  0.9298409013950721\n"
     ]
    }
   ],
   "source": [
    "#Use the trained model to predict the test data\n",
    "y_pred = model.predict(X_test)\n",
    "# Find the confusion matrix of the result\n",
    "cm = confusion_matrix(y_pred, y_test)\n",
    "print(cm)\n",
    "\n",
    "# Find the accuracy and F1 score of the result\n",
    "asr = accuracy_score(y_pred, y_test)\n",
    "f1 = f1_score(y_pred, y_test,average='micro')\n",
    "\n",
    "# testing out differet form of accuracy.\n",
    "# https://scikit-learn.org/stable/modules/generated/sklearn.metrics.precision_score.html\n",
    "f2 = f1_score(y_pred, y_test,average='macro')\n",
    "f3 = f1_score(y_pred, y_test,average='weighted')\n",
    "\n",
    "#The best f1_score is 1 and the worst value is 0.\n",
    "\n",
    "print('accuracy: ',asr)\n",
    "print('f1-Score: ',f1)\n",
    "print('precision: ',f2)\n",
    "print('recall: ',f3)"
   ]
  },
  {
   "cell_type": "code",
   "execution_count": 98,
   "metadata": {},
   "outputs": [
    {
     "data": {
      "text/plain": [
       "AdaBoostClassifier(base_estimator=GaussianNB(), learning_rate=1)"
      ]
     },
     "execution_count": 98,
     "metadata": {},
     "output_type": "execute_result"
    }
   ],
   "source": [
    "nb = GaussianNB()\n",
    "\n",
    "model = AdaBoostClassifier(n_estimators=50,learning_rate=1, base_estimator=nb)\n",
    "#model = BaggingClassifier(n_estimators=50, base_estimator=knn)\n",
    "\n",
    "\n",
    "#Fit the training feature Xs and training label Ys\n",
    "model.fit(X_train, y_train)"
   ]
  },
  {
   "cell_type": "code",
   "execution_count": 99,
   "metadata": {},
   "outputs": [
    {
     "name": "stdout",
     "output_type": "stream",
     "text": [
      "[[   5    0    0    0    0    0    0]\n",
      " [   2   36   20    0    0    0    0]\n",
      " [   1  158 2634  997   21    0    0]\n",
      " [   0    0   14 2950  695    1    0]\n",
      " [   0    0    1  687 1975  474    0]\n",
      " [   0    0    1    0    4  409    7]\n",
      " [   0    0    0    0    0    0    1]]\n",
      "asr:  0.7220769854863427\n",
      "f1:  0.7220769854863427\n",
      "f2:  0.5864971430799938\n",
      "f3:  0.7311373325537028\n"
     ]
    }
   ],
   "source": [
    "#Use the trained model to predict the test data\n",
    "y_pred = model.predict(X_test)\n",
    "# Find the confusion matrix of the result\n",
    "cm = confusion_matrix(y_pred, y_test)\n",
    "print(cm)\n",
    "\n",
    "# Find the accuracy and F1 score of the result\n",
    "asr = accuracy_score(y_pred, y_test)\n",
    "f1 = f1_score(y_pred, y_test,average='micro')\n",
    "\n",
    "# testing out differet form of accuracy.\n",
    "# https://scikit-learn.org/stable/modules/generated/sklearn.metrics.precision_score.html\n",
    "f2 = f1_score(y_pred, y_test,average='macro')\n",
    "f3 = f1_score(y_pred, y_test,average='weighted')\n",
    "\n",
    "#The best f1_score is 1 and the worst value is 0.\n",
    "\n",
    "print('asr: ',asr)\n",
    "print('f1: ',f1)\n",
    "print('f2: ',f2)\n",
    "print('f3: ',f3)"
   ]
  },
  {
   "cell_type": "markdown",
   "metadata": {},
   "source": [
    "# Random Forest"
   ]
  },
  {
   "cell_type": "code",
   "execution_count": 100,
   "metadata": {},
   "outputs": [
    {
     "data": {
      "text/plain": [
       "array([[   8,    0,    0,    0,    0,    0,    0],\n",
       "       [   0,  192,    2,    0,    0,    0,    0],\n",
       "       [   0,    0, 2654,   16,    0,    0,    0],\n",
       "       [   0,    0,    8, 4621,    5,    0,    0],\n",
       "       [   0,    0,    0,    1, 2692,    2,    0],\n",
       "       [   0,    0,    0,    0,    1,  883,    0],\n",
       "       [   0,    0,    0,    0,    0,    0,    8]], dtype=int64)"
      ]
     },
     "execution_count": 100,
     "metadata": {},
     "output_type": "execute_result"
    }
   ],
   "source": [
    "from sklearn.ensemble import RandomForestClassifier\n",
    "\n",
    "# clf = RandomForestClassifier(max_depth = 2, n_estimators=100, random_state=424, criterion ='entropy')\n",
    "clf = RandomForestClassifier(n_estimators=100, random_state=0, criterion ='entropy')\n",
    "\n",
    "clf.fit(X_train,y_train)\n",
    "\n",
    "# get predictions \n",
    "predictions = clf.predict(X_test)\n",
    "\n",
    "# compare results\n",
    "pd.DataFrame({'Actual': y_test, 'Predicted': predictions}).sample(10)\n",
    "\n",
    "conf_matrix = confusion_matrix(y_test, predictions)\n",
    "conf_matrix"
   ]
  },
  {
   "cell_type": "code",
   "execution_count": 101,
   "metadata": {},
   "outputs": [
    {
     "data": {
      "image/png": "[encoded data removed]",
      "text/plain": [
       "<Figure size 720x720 with 2 Axes>"
      ]
     },
     "metadata": {
      "image/png": {
       "height": 617,
       "width": 682
      },
      "needs_background": "light"
     },
     "output_type": "display_data"
    }
   ],
   "source": [
    "from sklearn.metrics import plot_confusion_matrix\n",
    "\n",
    "fig, ax = plt.subplots(figsize=(10, 10))\n",
    "\n",
    "chart = plot_confusion_matrix(clf, X_test, y_test, ax=ax, xticks_rotation = 45);"
   ]
  },
  {
   "cell_type": "code",
   "execution_count": 102,
   "metadata": {},
   "outputs": [
    {
     "name": "stdout",
     "output_type": "stream",
     "text": [
      "accuracy:  0.7220769854863427\n",
      "f1-Score:  0.7220769854863427\n",
      "precision:  0.5864971430799938\n",
      "recall:  0.7311373325537028\n"
     ]
    }
   ],
   "source": [
    "# Find the accuracy and F1 score of the result\n",
    "asr = accuracy_score(y_pred, y_test)\n",
    "f1 = f1_score(y_pred, y_test,average='micro')\n",
    "\n",
    "# testing out differet form of accuracy.\n",
    "# https://scikit-learn.org/stable/modules/generated/sklearn.metrics.precision_score.html\n",
    "f2 = f1_score(y_pred, y_test,average='macro')\n",
    "f3 = f1_score(y_pred, y_test,average='weighted')\n",
    "\n",
    "#The best f1_score is 1 and the worst value is 0.\n",
    "\n",
    "print('accuracy: ',asr)\n",
    "print('f1-Score: ',f1)\n",
    "print('precision: ',f2)\n",
    "print('recall: ',f3)"
   ]
  },
  {
   "cell_type": "code",
   "execution_count": null,
   "metadata": {},
   "outputs": [],
   "source": []
  }
 ],
 "metadata": {
  "kernelspec": {
   "display_name": "Python 3",
   "language": "python",
   "name": "python3"
  },
  "language_info": {
   "codemirror_mode": {
    "name": "ipython",
    "version": 3
   },
   "file_extension": ".py",
   "mimetype": "text/x-python",
   "name": "python",
   "nbconvert_exporter": "python",
   "pygments_lexer": "ipython3",
   "version": "3.8.3"
  }
 },
 "nbformat": 4,
 "nbformat_minor": 4
}
