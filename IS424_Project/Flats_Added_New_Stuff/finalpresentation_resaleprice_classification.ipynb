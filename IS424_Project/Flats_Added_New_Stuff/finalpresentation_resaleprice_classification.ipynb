{
  "nbformat": 4,
  "nbformat_minor": 0,
  "metadata": {
    "kernelspec": {
      "display_name": "Python 3",
      "language": "python",
      "name": "python3"
    },
    "colab": {
      "name": "Classification for LitReview1_OriData.ipynb",
      "provenance": [],
      "collapsed_sections": [],
      "toc_visible": true
    }
  },
  "cells": [
    {
      "cell_type": "code",
      "metadata": {
        "id": "36ApjOkOCNxI"
      },
      "source": [
        "import pandas as pd\n",
        "import numpy as np\n",
        "import seaborn as sns\n",
        "import warnings\n",
        "warnings.filterwarnings('ignore')\n",
        "sns.set(style='white', context='notebook', palette='deep')"
      ],
      "execution_count": 1,
      "outputs": []
    },
    {
      "cell_type": "code",
      "metadata": {
        "id": "BZIm5foaCiPo",
        "outputId": "3545b5c2-c8fe-47c0-c83f-a724f441b6b0",
        "colab": {
          "base_uri": "https://localhost:8080/"
        }
      },
      "source": [
        "from google.colab import drive\n",
        "drive.mount('/content/drive')"
      ],
      "execution_count": 2,
      "outputs": [
        {
          "output_type": "stream",
          "text": [
            "Drive already mounted at /content/drive; to attempt to forcibly remount, call drive.mount(\"/content/drive\", force_remount=True).\n"
          ],
          "name": "stdout"
        }
      ]
    },
    {
      "cell_type": "markdown",
      "metadata": {
        "id": "SYrv021YCNxS"
      },
      "source": [
        "# Exploratory Data Analysis"
      ]
    },
    {
      "cell_type": "code",
      "metadata": {
        "id": "0VXA4m6rCNxT",
        "outputId": "2295a07a-876b-4cf3-9028-6a3437bbdfe8",
        "colab": {
          "base_uri": "https://localhost:8080/",
          "height": 194
        }
      },
      "source": [
        "# Retrieve records from 2019 only\n",
        "df = pd.read_csv('/content/drive/My Drive/resale-flat-prices-based-on-registration-date-from-jan-2017-onwards.csv')\n",
        "df['month']=pd.to_datetime(df['month'])\n",
        "df['Year'] = df['month'].apply(lambda x: x.year)\n",
        "df['Month'] = df['month'].apply(lambda y: y.month)\n",
        "df = df[df['Year'] == 2019]\n",
        "df = df.drop(columns = ['month','Year'])\n",
        "df.reset_index(inplace=True)\n",
        "df.drop('index', axis=1, inplace=True)\n",
        "df.head()"
      ],
      "execution_count": 3,
      "outputs": [
        {
          "output_type": "execute_result",
          "data": {
            "text/html": [
              "<div>\n",
              "<style scoped>\n",
              "    .dataframe tbody tr th:only-of-type {\n",
              "        vertical-align: middle;\n",
              "    }\n",
              "\n",
              "    .dataframe tbody tr th {\n",
              "        vertical-align: top;\n",
              "    }\n",
              "\n",
              "    .dataframe thead th {\n",
              "        text-align: right;\n",
              "    }\n",
              "</style>\n",
              "<table border=\"1\" class=\"dataframe\">\n",
              "  <thead>\n",
              "    <tr style=\"text-align: right;\">\n",
              "      <th></th>\n",
              "      <th>town</th>\n",
              "      <th>flat_type</th>\n",
              "      <th>block</th>\n",
              "      <th>street_name</th>\n",
              "      <th>storey_range</th>\n",
              "      <th>floor_area_sqm</th>\n",
              "      <th>flat_model</th>\n",
              "      <th>lease_commence_date</th>\n",
              "      <th>remaining_lease</th>\n",
              "      <th>resale_price</th>\n",
              "      <th>Month</th>\n",
              "    </tr>\n",
              "  </thead>\n",
              "  <tbody>\n",
              "    <tr>\n",
              "      <th>0</th>\n",
              "      <td>ANG MO KIO</td>\n",
              "      <td>3 ROOM</td>\n",
              "      <td>330</td>\n",
              "      <td>ANG MO KIO AVE 1</td>\n",
              "      <td>01 TO 03</td>\n",
              "      <td>68.0</td>\n",
              "      <td>New Generation</td>\n",
              "      <td>1981</td>\n",
              "      <td>61 years 01 month</td>\n",
              "      <td>270000.0</td>\n",
              "      <td>1</td>\n",
              "    </tr>\n",
              "    <tr>\n",
              "      <th>1</th>\n",
              "      <td>ANG MO KIO</td>\n",
              "      <td>3 ROOM</td>\n",
              "      <td>215</td>\n",
              "      <td>ANG MO KIO AVE 1</td>\n",
              "      <td>04 TO 06</td>\n",
              "      <td>73.0</td>\n",
              "      <td>New Generation</td>\n",
              "      <td>1976</td>\n",
              "      <td>56 years 04 months</td>\n",
              "      <td>295000.0</td>\n",
              "      <td>1</td>\n",
              "    </tr>\n",
              "    <tr>\n",
              "      <th>2</th>\n",
              "      <td>ANG MO KIO</td>\n",
              "      <td>3 ROOM</td>\n",
              "      <td>225</td>\n",
              "      <td>ANG MO KIO AVE 1</td>\n",
              "      <td>07 TO 09</td>\n",
              "      <td>67.0</td>\n",
              "      <td>New Generation</td>\n",
              "      <td>1978</td>\n",
              "      <td>58 years 01 month</td>\n",
              "      <td>270000.0</td>\n",
              "      <td>1</td>\n",
              "    </tr>\n",
              "    <tr>\n",
              "      <th>3</th>\n",
              "      <td>ANG MO KIO</td>\n",
              "      <td>3 ROOM</td>\n",
              "      <td>225</td>\n",
              "      <td>ANG MO KIO AVE 1</td>\n",
              "      <td>01 TO 03</td>\n",
              "      <td>67.0</td>\n",
              "      <td>New Generation</td>\n",
              "      <td>1978</td>\n",
              "      <td>58 years</td>\n",
              "      <td>230000.0</td>\n",
              "      <td>1</td>\n",
              "    </tr>\n",
              "    <tr>\n",
              "      <th>4</th>\n",
              "      <td>ANG MO KIO</td>\n",
              "      <td>3 ROOM</td>\n",
              "      <td>333</td>\n",
              "      <td>ANG MO KIO AVE 1</td>\n",
              "      <td>01 TO 03</td>\n",
              "      <td>68.0</td>\n",
              "      <td>New Generation</td>\n",
              "      <td>1981</td>\n",
              "      <td>61 years</td>\n",
              "      <td>262500.0</td>\n",
              "      <td>1</td>\n",
              "    </tr>\n",
              "  </tbody>\n",
              "</table>\n",
              "</div>"
            ],
            "text/plain": [
              "         town flat_type block  ...     remaining_lease resale_price  Month\n",
              "0  ANG MO KIO    3 ROOM   330  ...   61 years 01 month     270000.0      1\n",
              "1  ANG MO KIO    3 ROOM   215  ...  56 years 04 months     295000.0      1\n",
              "2  ANG MO KIO    3 ROOM   225  ...   58 years 01 month     270000.0      1\n",
              "3  ANG MO KIO    3 ROOM   225  ...            58 years     230000.0      1\n",
              "4  ANG MO KIO    3 ROOM   333  ...            61 years     262500.0      1\n",
              "\n",
              "[5 rows x 11 columns]"
            ]
          },
          "metadata": {
            "tags": []
          },
          "execution_count": 3
        }
      ]
    },
    {
      "cell_type": "code",
      "metadata": {
        "id": "6Tqkf8v9Menu",
        "outputId": "5bd9491f-38bd-4131-91cd-449f5d5faeed",
        "colab": {
          "base_uri": "https://localhost:8080/"
        }
      },
      "source": [
        "df.shape\n",
        "# 22186 rows × 11 columns"
      ],
      "execution_count": 4,
      "outputs": [
        {
          "output_type": "execute_result",
          "data": {
            "text/plain": [
              "(22186, 11)"
            ]
          },
          "metadata": {
            "tags": []
          },
          "execution_count": 4
        }
      ]
    },
    {
      "cell_type": "code",
      "metadata": {
        "id": "pyPfnwI3CE1E",
        "outputId": "400a4681-b4b7-4f1f-fc16-d01b67d9522a",
        "colab": {
          "base_uri": "https://localhost:8080/",
          "height": 194
        }
      },
      "source": [
        "df['resale_price'] = pd.cut(df['resale_price'], 4, labels=[1, 2, 3, 4])\n",
        "'''\n",
        "class   range                     observations\n",
        "1        (148945.0, 413750.0]     11893\n",
        "2        (413750.0, 677500.0]     8445\n",
        "3        (677500.0, 941250.0]     1703\n",
        "4        (941250.0, 1205000.0]    142\n",
        "\n",
        "Data imbalance: Too many observations in class 1\n",
        "'''\n",
        "df.head()"
      ],
      "execution_count": 5,
      "outputs": [
        {
          "output_type": "execute_result",
          "data": {
            "text/html": [
              "<div>\n",
              "<style scoped>\n",
              "    .dataframe tbody tr th:only-of-type {\n",
              "        vertical-align: middle;\n",
              "    }\n",
              "\n",
              "    .dataframe tbody tr th {\n",
              "        vertical-align: top;\n",
              "    }\n",
              "\n",
              "    .dataframe thead th {\n",
              "        text-align: right;\n",
              "    }\n",
              "</style>\n",
              "<table border=\"1\" class=\"dataframe\">\n",
              "  <thead>\n",
              "    <tr style=\"text-align: right;\">\n",
              "      <th></th>\n",
              "      <th>town</th>\n",
              "      <th>flat_type</th>\n",
              "      <th>block</th>\n",
              "      <th>street_name</th>\n",
              "      <th>storey_range</th>\n",
              "      <th>floor_area_sqm</th>\n",
              "      <th>flat_model</th>\n",
              "      <th>lease_commence_date</th>\n",
              "      <th>remaining_lease</th>\n",
              "      <th>resale_price</th>\n",
              "      <th>Month</th>\n",
              "    </tr>\n",
              "  </thead>\n",
              "  <tbody>\n",
              "    <tr>\n",
              "      <th>0</th>\n",
              "      <td>ANG MO KIO</td>\n",
              "      <td>3 ROOM</td>\n",
              "      <td>330</td>\n",
              "      <td>ANG MO KIO AVE 1</td>\n",
              "      <td>01 TO 03</td>\n",
              "      <td>68.0</td>\n",
              "      <td>New Generation</td>\n",
              "      <td>1981</td>\n",
              "      <td>61 years 01 month</td>\n",
              "      <td>1</td>\n",
              "      <td>1</td>\n",
              "    </tr>\n",
              "    <tr>\n",
              "      <th>1</th>\n",
              "      <td>ANG MO KIO</td>\n",
              "      <td>3 ROOM</td>\n",
              "      <td>215</td>\n",
              "      <td>ANG MO KIO AVE 1</td>\n",
              "      <td>04 TO 06</td>\n",
              "      <td>73.0</td>\n",
              "      <td>New Generation</td>\n",
              "      <td>1976</td>\n",
              "      <td>56 years 04 months</td>\n",
              "      <td>1</td>\n",
              "      <td>1</td>\n",
              "    </tr>\n",
              "    <tr>\n",
              "      <th>2</th>\n",
              "      <td>ANG MO KIO</td>\n",
              "      <td>3 ROOM</td>\n",
              "      <td>225</td>\n",
              "      <td>ANG MO KIO AVE 1</td>\n",
              "      <td>07 TO 09</td>\n",
              "      <td>67.0</td>\n",
              "      <td>New Generation</td>\n",
              "      <td>1978</td>\n",
              "      <td>58 years 01 month</td>\n",
              "      <td>1</td>\n",
              "      <td>1</td>\n",
              "    </tr>\n",
              "    <tr>\n",
              "      <th>3</th>\n",
              "      <td>ANG MO KIO</td>\n",
              "      <td>3 ROOM</td>\n",
              "      <td>225</td>\n",
              "      <td>ANG MO KIO AVE 1</td>\n",
              "      <td>01 TO 03</td>\n",
              "      <td>67.0</td>\n",
              "      <td>New Generation</td>\n",
              "      <td>1978</td>\n",
              "      <td>58 years</td>\n",
              "      <td>1</td>\n",
              "      <td>1</td>\n",
              "    </tr>\n",
              "    <tr>\n",
              "      <th>4</th>\n",
              "      <td>ANG MO KIO</td>\n",
              "      <td>3 ROOM</td>\n",
              "      <td>333</td>\n",
              "      <td>ANG MO KIO AVE 1</td>\n",
              "      <td>01 TO 03</td>\n",
              "      <td>68.0</td>\n",
              "      <td>New Generation</td>\n",
              "      <td>1981</td>\n",
              "      <td>61 years</td>\n",
              "      <td>1</td>\n",
              "      <td>1</td>\n",
              "    </tr>\n",
              "  </tbody>\n",
              "</table>\n",
              "</div>"
            ],
            "text/plain": [
              "         town flat_type block  ...     remaining_lease resale_price  Month\n",
              "0  ANG MO KIO    3 ROOM   330  ...   61 years 01 month            1      1\n",
              "1  ANG MO KIO    3 ROOM   215  ...  56 years 04 months            1      1\n",
              "2  ANG MO KIO    3 ROOM   225  ...   58 years 01 month            1      1\n",
              "3  ANG MO KIO    3 ROOM   225  ...            58 years            1      1\n",
              "4  ANG MO KIO    3 ROOM   333  ...            61 years            1      1\n",
              "\n",
              "[5 rows x 11 columns]"
            ]
          },
          "metadata": {
            "tags": []
          },
          "execution_count": 5
        }
      ]
    },
    {
      "cell_type": "code",
      "metadata": {
        "id": "CdvMrk-xLGXE",
        "outputId": "ff11478a-cbbe-469d-e883-192bdecbbdff",
        "colab": {
          "base_uri": "https://localhost:8080/",
          "height": 194
        }
      },
      "source": [
        "from sklearn import preprocessing\n",
        "for column in df.columns:\n",
        "    if df[column].dtype == type(object) and column != 'Postal':\n",
        "        le = preprocessing.LabelEncoder()\n",
        "        df[column] = le.fit_transform(df[column])\n",
        "df.head()"
      ],
      "execution_count": 6,
      "outputs": [
        {
          "output_type": "execute_result",
          "data": {
            "text/html": [
              "<div>\n",
              "<style scoped>\n",
              "    .dataframe tbody tr th:only-of-type {\n",
              "        vertical-align: middle;\n",
              "    }\n",
              "\n",
              "    .dataframe tbody tr th {\n",
              "        vertical-align: top;\n",
              "    }\n",
              "\n",
              "    .dataframe thead th {\n",
              "        text-align: right;\n",
              "    }\n",
              "</style>\n",
              "<table border=\"1\" class=\"dataframe\">\n",
              "  <thead>\n",
              "    <tr style=\"text-align: right;\">\n",
              "      <th></th>\n",
              "      <th>town</th>\n",
              "      <th>flat_type</th>\n",
              "      <th>block</th>\n",
              "      <th>street_name</th>\n",
              "      <th>storey_range</th>\n",
              "      <th>floor_area_sqm</th>\n",
              "      <th>flat_model</th>\n",
              "      <th>lease_commence_date</th>\n",
              "      <th>remaining_lease</th>\n",
              "      <th>resale_price</th>\n",
              "      <th>Month</th>\n",
              "    </tr>\n",
              "  </thead>\n",
              "  <tbody>\n",
              "    <tr>\n",
              "      <th>0</th>\n",
              "      <td>0</td>\n",
              "      <td>2</td>\n",
              "      <td>800</td>\n",
              "      <td>11</td>\n",
              "      <td>0</td>\n",
              "      <td>68.0</td>\n",
              "      <td>10</td>\n",
              "      <td>1981</td>\n",
              "      <td>180</td>\n",
              "      <td>1</td>\n",
              "      <td>1</td>\n",
              "    </tr>\n",
              "    <tr>\n",
              "      <th>1</th>\n",
              "      <td>0</td>\n",
              "      <td>2</td>\n",
              "      <td>386</td>\n",
              "      <td>11</td>\n",
              "      <td>1</td>\n",
              "      <td>73.0</td>\n",
              "      <td>10</td>\n",
              "      <td>1976</td>\n",
              "      <td>123</td>\n",
              "      <td>1</td>\n",
              "      <td>1</td>\n",
              "    </tr>\n",
              "    <tr>\n",
              "      <th>2</th>\n",
              "      <td>0</td>\n",
              "      <td>2</td>\n",
              "      <td>413</td>\n",
              "      <td>11</td>\n",
              "      <td>2</td>\n",
              "      <td>67.0</td>\n",
              "      <td>10</td>\n",
              "      <td>1978</td>\n",
              "      <td>144</td>\n",
              "      <td>1</td>\n",
              "      <td>1</td>\n",
              "    </tr>\n",
              "    <tr>\n",
              "      <th>3</th>\n",
              "      <td>0</td>\n",
              "      <td>2</td>\n",
              "      <td>413</td>\n",
              "      <td>11</td>\n",
              "      <td>0</td>\n",
              "      <td>67.0</td>\n",
              "      <td>10</td>\n",
              "      <td>1978</td>\n",
              "      <td>143</td>\n",
              "      <td>1</td>\n",
              "      <td>1</td>\n",
              "    </tr>\n",
              "    <tr>\n",
              "      <th>4</th>\n",
              "      <td>0</td>\n",
              "      <td>2</td>\n",
              "      <td>811</td>\n",
              "      <td>11</td>\n",
              "      <td>0</td>\n",
              "      <td>68.0</td>\n",
              "      <td>10</td>\n",
              "      <td>1981</td>\n",
              "      <td>179</td>\n",
              "      <td>1</td>\n",
              "      <td>1</td>\n",
              "    </tr>\n",
              "  </tbody>\n",
              "</table>\n",
              "</div>"
            ],
            "text/plain": [
              "   town  flat_type  block  ...  remaining_lease  resale_price  Month\n",
              "0     0          2    800  ...              180             1      1\n",
              "1     0          2    386  ...              123             1      1\n",
              "2     0          2    413  ...              144             1      1\n",
              "3     0          2    413  ...              143             1      1\n",
              "4     0          2    811  ...              179             1      1\n",
              "\n",
              "[5 rows x 11 columns]"
            ]
          },
          "metadata": {
            "tags": []
          },
          "execution_count": 6
        }
      ]
    },
    {
      "cell_type": "markdown",
      "metadata": {
        "id": "kVHsOmHVCNzG"
      },
      "source": [
        "# Split into Train and Test Datasets"
      ]
    },
    {
      "cell_type": "code",
      "metadata": {
        "id": "0cLamd6sCNzH",
        "outputId": "51a28e4b-8781-4773-b198-1f515b742989",
        "colab": {
          "base_uri": "https://localhost:8080/"
        }
      },
      "source": [
        "y = df['resale_price']\n",
        "X = df.drop(['resale_price'], axis=1)\n",
        "\n",
        "from sklearn.model_selection import train_test_split\n",
        "X_train, X_test, y_train, y_test = train_test_split(X, y, test_size=0.4, random_state=42)\n",
        "print(X_train.shape, X_test.shape, y_train.shape, y_test.shape)"
      ],
      "execution_count": 7,
      "outputs": [
        {
          "output_type": "stream",
          "text": [
            "(13311, 10) (8875, 10) (13311,) (8875,)\n"
          ],
          "name": "stdout"
        }
      ]
    },
    {
      "cell_type": "markdown",
      "metadata": {
        "id": "6lKUx_WRCNzL"
      },
      "source": [
        "# Regression Models"
      ]
    },
    {
      "cell_type": "code",
      "metadata": {
        "id": "GD-cVMRnF6oQ"
      },
      "source": [
        "from sklearn.linear_model import LogisticRegression\n",
        "from sklearn.naive_bayes import GaussianNB\n",
        "from sklearn.linear_model import SGDClassifier\n",
        "from sklearn.neighbors import KNeighborsClassifier\n",
        "from sklearn.tree import DecisionTreeClassifier\n",
        "from sklearn.ensemble import RandomForestClassifier\n",
        "from sklearn.ensemble import AdaBoostClassifier"
      ],
      "execution_count": 8,
      "outputs": []
    },
    {
      "cell_type": "code",
      "metadata": {
        "id": "U3jRe1jxI-E-"
      },
      "source": [
        "lr = LogisticRegression(random_state=5)\n",
        "nb = GaussianNB()\n",
        "sgd = SGDClassifier(loss='modified_huber',shuffle=True, random_state=5)\n",
        "knn = KNeighborsClassifier(n_neighbors=15)\n",
        "dtree = DecisionTreeClassifier(max_depth=10, random_state=5, max_features = None, min_samples_leaf = 15)\n",
        "rfm = RandomForestClassifier(n_estimators=70, oob_score=True, n_jobs=-1, random_state=5, max_features=None, min_samples_leaf=30)\n",
        "ada = AdaBoostClassifier(base_estimator=sgd, n_estimators=100, random_state=5, learning_rate=5)"
      ],
      "execution_count": 9,
      "outputs": []
    },
    {
      "cell_type": "markdown",
      "metadata": {
        "id": "qv-XoPS4CNzg"
      },
      "source": [
        "# Cross Validation"
      ]
    },
    {
      "cell_type": "code",
      "metadata": {
        "id": "-kUVaumqCNzh"
      },
      "source": [
        "from sklearn.model_selection import cross_val_score\n",
        "from sklearn.model_selection import KFold\n",
        "n_folds = 2\n",
        "kf = KFold(n_folds, shuffle=True, random_state=42).get_n_splits(X_train)\n",
        "\n",
        "def train_eval(model, scoring):\n",
        "  result = cross_val_score(model, X_train, y_train, cv=kf, scoring=scoring)\n",
        "  return result"
      ],
      "execution_count": 10,
      "outputs": []
    },
    {
      "cell_type": "markdown",
      "metadata": {
        "id": "pt97cVSwCNzl"
      },
      "source": [
        "# Evaluate Train Data with Cross Validation"
      ]
    },
    {
      "cell_type": "code",
      "metadata": {
        "id": "t3wEp8SZCNzs",
        "outputId": "a87ba6ac-7817-48c7-e20c-b9ece0fc7587",
        "colab": {
          "base_uri": "https://localhost:8080/",
          "height": 393
        }
      },
      "source": [
        "# Accuracy Evaluation\n",
        "models = [lr, nb, sgd, knn, dtree, rfm]\n",
        "names = ['lr', 'nb', 'sgd', 'knn', 'dtree', 'rfm']\n",
        "results = []\n",
        "for i in range(len(models)):\n",
        "    result = train_eval(models[i], 'accuracy').mean()\n",
        "    name = names[i]\n",
        "    results.append(result)\n",
        "    print(name + ': ' + str(result))\n",
        "sns.barplot(names, results)"
      ],
      "execution_count": 11,
      "outputs": [
        {
          "output_type": "stream",
          "text": [
            "lr: 0.7186534894599202\n",
            "nb: 0.7170011499992776\n",
            "sgd: 0.6200192321237648\n",
            "knn: 0.7438953753503728\n",
            "dtree: 0.8102321603370803\n",
            "rfm: 0.8089547445710281\n"
          ],
          "name": "stdout"
        },
        {
          "output_type": "execute_result",
          "data": {
            "text/plain": [
              "<matplotlib.axes._subplots.AxesSubplot at 0x7f5f102cf9e8>"
            ]
          },
          "metadata": {
            "tags": []
          },
          "execution_count": 11
        },
        {
          "output_type": "display_data",
          "data": {
            "image/png": "[encoded data removed]",
            "text/plain": [
              "<Figure size 432x288 with 1 Axes>"
            ]
          },
          "metadata": {
            "tags": [],
            "needs_background": "light"
          }
        }
      ]
    },
    {
      "cell_type": "code",
      "metadata": {
        "id": "Q6UW10E3CNzw",
        "outputId": "6a2c79e4-b24a-4a24-cbed-a025b14a33e2",
        "colab": {
          "base_uri": "https://localhost:8080/",
          "height": 393
        }
      },
      "source": [
        "results = []\n",
        "for i in range(len(models)):\n",
        "    result = train_eval(models[i], 'precision_weighted').mean()\n",
        "    name = names[i]\n",
        "    results.append(result)\n",
        "    print(name + ': ' + str(result))\n",
        "sns.barplot(names, results)"
      ],
      "execution_count": 12,
      "outputs": [
        {
          "output_type": "stream",
          "text": [
            "lr: 0.7348967556935533\n",
            "nb: 0.7166884800840061\n",
            "sgd: 0.6128445917670569\n",
            "knn: 0.7390210491994929\n",
            "dtree: 0.8052929838975371\n",
            "rfm: 0.8021554239355375\n"
          ],
          "name": "stdout"
        },
        {
          "output_type": "execute_result",
          "data": {
            "text/plain": [
              "<matplotlib.axes._subplots.AxesSubplot at 0x7f5f0ad3e2b0>"
            ]
          },
          "metadata": {
            "tags": []
          },
          "execution_count": 12
        },
        {
          "output_type": "display_data",
          "data": {
            "image/png": "[encoded data removed]",
            "text/plain": [
              "<Figure size 432x288 with 1 Axes>"
            ]
          },
          "metadata": {
            "tags": [],
            "needs_background": "light"
          }
        }
      ]
    },
    {
      "cell_type": "code",
      "metadata": {
        "id": "aYi5IKsdOrUk",
        "outputId": "b6c70a0e-bbf5-4fc7-e19b-f6577be43823",
        "colab": {
          "base_uri": "https://localhost:8080/",
          "height": 393
        }
      },
      "source": [
        "results = []\n",
        "for i in range(len(models)):\n",
        "    result = train_eval(models[i], 'f1_weighted').mean()\n",
        "    name = names[i]\n",
        "    results.append(result)\n",
        "    print(name + ': ' + str(result))\n",
        "sns.barplot(names, results)"
      ],
      "execution_count": 13,
      "outputs": [
        {
          "output_type": "stream",
          "text": [
            "lr: 0.6925636241298064\n",
            "nb: 0.7104307527307658\n",
            "sgd: 0.5271322635350792\n",
            "knn: 0.7320802032741246\n",
            "dtree: 0.8055169497653842\n",
            "rfm: 0.7957997325695186\n"
          ],
          "name": "stdout"
        },
        {
          "output_type": "execute_result",
          "data": {
            "text/plain": [
              "<matplotlib.axes._subplots.AxesSubplot at 0x7f5f0b9dc198>"
            ]
          },
          "metadata": {
            "tags": []
          },
          "execution_count": 13
        },
        {
          "output_type": "display_data",
          "data": {
            "image/png": "[encoded data removed]",
            "text/plain": [
              "<Figure size 432x288 with 1 Axes>"
            ]
          },
          "metadata": {
            "tags": [],
            "needs_background": "light"
          }
        }
      ]
    },
    {
      "cell_type": "code",
      "metadata": {
        "id": "cDMuc79zOrXb",
        "outputId": "710b90bc-609b-46f0-8f9c-af63d9328ff6",
        "colab": {
          "base_uri": "https://localhost:8080/",
          "height": 393
        }
      },
      "source": [
        "results = []\n",
        "for i in range(len(models)):\n",
        "    result = train_eval(models[i], 'recall_weighted').mean()\n",
        "    name = names[i]\n",
        "    results.append(result)\n",
        "    print(name + ': ' + str(result))\n",
        "sns.barplot(names, results)"
      ],
      "execution_count": 14,
      "outputs": [
        {
          "output_type": "stream",
          "text": [
            "lr: 0.7186534894599202\n",
            "nb: 0.7170011499992776\n",
            "sgd: 0.6200192321237648\n",
            "knn: 0.7438953753503728\n",
            "dtree: 0.8102321603370803\n",
            "rfm: 0.8089547445710281\n"
          ],
          "name": "stdout"
        },
        {
          "output_type": "execute_result",
          "data": {
            "text/plain": [
              "<matplotlib.axes._subplots.AxesSubplot at 0x7f5f0c9dc828>"
            ]
          },
          "metadata": {
            "tags": []
          },
          "execution_count": 14
        },
        {
          "output_type": "display_data",
          "data": {
            "image/png": "[encoded data removed]",
            "text/plain": [
              "<Figure size 432x288 with 1 Axes>"
            ]
          },
          "metadata": {
            "tags": [],
            "needs_background": "light"
          }
        }
      ]
    },
    {
      "cell_type": "markdown",
      "metadata": {
        "id": "YNuujJJACNzz"
      },
      "source": [
        "# Test data Evaluation"
      ]
    },
    {
      "cell_type": "code",
      "metadata": {
        "id": "y28AlbPgPMKf"
      },
      "source": [
        "from sklearn.metrics import accuracy_score, precision_score, f1_score, recall_score"
      ],
      "execution_count": 15,
      "outputs": []
    },
    {
      "cell_type": "code",
      "metadata": {
        "id": "KQUUqcZkCNzz"
      },
      "source": [
        "def test_eval(model):\n",
        "  model.fit(X_train, y_train)\n",
        "  y_pred = model.predict(X_test)\n",
        "  return y_pred"
      ],
      "execution_count": 16,
      "outputs": []
    },
    {
      "cell_type": "code",
      "metadata": {
        "id": "tLAX9Lw2CNz-",
        "outputId": "f826dab5-074c-47ce-f9e7-a09b30866083",
        "colab": {
          "base_uri": "https://localhost:8080/",
          "height": 393
        }
      },
      "source": [
        "acc = []\n",
        "precision = []\n",
        "f1 = []\n",
        "recall = []\n",
        "for i in range(len(models)):\n",
        "    y_pred = test_eval(models[i])\n",
        "    acc.append(accuracy_score(y_test, y_pred))\n",
        "    precision.append(precision_score(y_test, y_pred, average='weighted'))\n",
        "    f1.append(f1_score(y_test, y_pred, average='weighted'))\n",
        "    recall.append(recall_score(y_test, y_pred, average='weighted'))\n",
        "\n",
        "for i in range(len(models)):\n",
        "  name = names[i]\n",
        "  print(name + ': ' + str(acc[i]))\n",
        "sns.barplot(names, acc)"
      ],
      "execution_count": 17,
      "outputs": [
        {
          "output_type": "stream",
          "text": [
            "lr: 0.7140281690140845\n",
            "nb: 0.7125633802816902\n",
            "sgd: 0.7175211267605633\n",
            "knn: 0.7877183098591549\n",
            "dtree: 0.8233239436619718\n",
            "rfm: 0.8420281690140845\n"
          ],
          "name": "stdout"
        },
        {
          "output_type": "execute_result",
          "data": {
            "text/plain": [
              "<matplotlib.axes._subplots.AxesSubplot at 0x7f5f0c94e978>"
            ]
          },
          "metadata": {
            "tags": []
          },
          "execution_count": 17
        },
        {
          "output_type": "display_data",
          "data": {
            "image/png": "[encoded data removed]",
            "text/plain": [
              "<Figure size 432x288 with 1 Axes>"
            ]
          },
          "metadata": {
            "tags": [],
            "needs_background": "light"
          }
        }
      ]
    },
    {
      "cell_type": "code",
      "metadata": {
        "id": "0Tf5VRTTCN0D",
        "outputId": "0522ecae-239b-4e63-cf60-e53aa245567e",
        "colab": {
          "base_uri": "https://localhost:8080/",
          "height": 393
        }
      },
      "source": [
        "for i in range(len(models)):\n",
        "  name = names[i]\n",
        "  print(name + ': ' + str(precision[i]))\n",
        "sns.barplot(names, precision)"
      ],
      "execution_count": 18,
      "outputs": [
        {
          "output_type": "stream",
          "text": [
            "lr: 0.6947547290135738\n",
            "nb: 0.7146725790517445\n",
            "sgd: 0.7192406334193745\n",
            "knn: 0.782924716124253\n",
            "dtree: 0.8199268949831401\n",
            "rfm: 0.8391668298299594\n"
          ],
          "name": "stdout"
        },
        {
          "output_type": "execute_result",
          "data": {
            "text/plain": [
              "<matplotlib.axes._subplots.AxesSubplot at 0x7f5f0c953c18>"
            ]
          },
          "metadata": {
            "tags": []
          },
          "execution_count": 18
        },
        {
          "output_type": "display_data",
          "data": {
            "image/png": "[encoded data removed]",
            "text/plain": [
              "<Figure size 432x288 with 1 Axes>"
            ]
          },
          "metadata": {
            "tags": [],
            "needs_background": "light"
          }
        }
      ]
    },
    {
      "cell_type": "code",
      "metadata": {
        "id": "cD3GrXPtQuJ3",
        "outputId": "9aba8f9c-1a17-4c03-cf43-065a4964798b",
        "colab": {
          "base_uri": "https://localhost:8080/",
          "height": 393
        }
      },
      "source": [
        "for i in range(len(models)):\n",
        "  name = names[i]\n",
        "  print(name + ': ' + str(f1[i]))\n",
        "sns.barplot(names, f1)"
      ],
      "execution_count": 19,
      "outputs": [
        {
          "output_type": "stream",
          "text": [
            "lr: 0.6881953559392845\n",
            "nb: 0.7056007464835466\n",
            "sgd: 0.6975096544025468\n",
            "knn: 0.7817997597042748\n",
            "dtree: 0.8208597165369335\n",
            "rfm: 0.8386652396800607\n"
          ],
          "name": "stdout"
        },
        {
          "output_type": "execute_result",
          "data": {
            "text/plain": [
              "<matplotlib.axes._subplots.AxesSubplot at 0x7f5f0c84d6d8>"
            ]
          },
          "metadata": {
            "tags": []
          },
          "execution_count": 19
        },
        {
          "output_type": "display_data",
          "data": {
            "image/png": "[encoded data removed]",
            "text/plain": [
              "<Figure size 432x288 with 1 Axes>"
            ]
          },
          "metadata": {
            "tags": [],
            "needs_background": "light"
          }
        }
      ]
    },
    {
      "cell_type": "code",
      "metadata": {
        "id": "lp2z4cgqQuMw",
        "outputId": "6467e65f-e2bb-4dcf-9f9f-6a2da9967dcb",
        "colab": {
          "base_uri": "https://localhost:8080/",
          "height": 393
        }
      },
      "source": [
        "for i in range(len(models)):\n",
        "  name = names[i]\n",
        "  print(name + ': ' + str(recall[i]))\n",
        "sns.barplot(names, recall)"
      ],
      "execution_count": 20,
      "outputs": [
        {
          "output_type": "stream",
          "text": [
            "lr: 0.7140281690140845\n",
            "nb: 0.7125633802816902\n",
            "sgd: 0.7175211267605633\n",
            "knn: 0.7877183098591549\n",
            "dtree: 0.8233239436619718\n",
            "rfm: 0.8420281690140845\n"
          ],
          "name": "stdout"
        },
        {
          "output_type": "execute_result",
          "data": {
            "text/plain": [
              "<matplotlib.axes._subplots.AxesSubplot at 0x7f5f0c83c160>"
            ]
          },
          "metadata": {
            "tags": []
          },
          "execution_count": 20
        },
        {
          "output_type": "display_data",
          "data": {
            "image/png": "[encoded data removed]",
            "text/plain": [
              "<Figure size 432x288 with 1 Axes>"
            ]
          },
          "metadata": {
            "tags": [],
            "needs_background": "light"
          }
        }
      ]
    }
  ]
}