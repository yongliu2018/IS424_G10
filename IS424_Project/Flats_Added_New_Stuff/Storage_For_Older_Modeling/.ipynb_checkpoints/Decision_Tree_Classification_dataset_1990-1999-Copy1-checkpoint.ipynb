{
 "cells": [
  {
   "cell_type": "code",
   "execution_count": 3,
   "metadata": {},
   "outputs": [],
   "source": [
    "import re\n",
    "import io\n",
    "\n",
    "#General libraries needed\n",
    "import numpy as np\n",
    "import pandas as pd\n",
    "import matplotlib.pyplot as plt\n",
    "import seaborn as sns\n",
    "\n",
    "#Libraries for data pre-processing\n",
    "from sklearn import metrics #Import scikit-learn metrics module for accuracy calculation\n",
    "from sklearn.model_selection import train_test_split # Import train_test_split function\n",
    "from sklearn.metrics import confusion_matrix\n",
    "from sklearn.metrics import accuracy_score\n",
    "from sklearn.metrics import f1_score\n",
    "from sklearn import preprocessing\n",
    "from sklearn.metrics import precision_score\n",
    "from sklearn.metrics import recall_score\n",
    "\n",
    "#For Decision Tree implementation\n",
    "from scipy.stats import entropy\n",
    "from sklearn.tree import DecisionTreeClassifier # Import Decision Tree Classifier\n",
    "from sklearn import tree\n",
    "\n",
    "#For KNN implementation\n",
    "from sklearn.neighbors import KNeighborsClassifier\n",
    "\n",
    "#For Bagging implementation\n",
    "from sklearn.ensemble import BaggingClassifier\n",
    "\n",
    "#For AdaBoost implementation\n",
    "from sklearn.ensemble import AdaBoostClassifier\n",
    "from sklearn.naive_bayes import GaussianNB\n",
    "\n",
    "#Settings\n",
    "%matplotlib inline\n",
    "pd.options.display.float_format = '{:.2f}'.format\n",
    "# np.set_printoptions(threshold=np.nan)\n",
    "sns.set()\n"
   ]
  },
  {
   "cell_type": "code",
   "execution_count": 4,
   "metadata": {},
   "outputs": [],
   "source": [
    "df = pd.read_csv('resale-flat-prices-based-on-approval-date-1990-1999.csv')"
   ]
  },
  {
   "cell_type": "code",
   "execution_count": 5,
   "metadata": {},
   "outputs": [
    {
     "name": "stdout",
     "output_type": "stream",
     "text": [
      "month                   object\n",
      "town                    object\n",
      "flat_type               object\n",
      "block                   object\n",
      "street_name             object\n",
      "storey_range            object\n",
      "floor_area_sqm         float64\n",
      "flat_model              object\n",
      "lease_commence_date      int64\n",
      "resale_price             int64\n",
      "dtype: object\n"
     ]
    }
   ],
   "source": [
    "# Check the columns using dtypes\n",
    "print(df.dtypes)"
   ]
  },
  {
   "cell_type": "code",
   "execution_count": 6,
   "metadata": {},
   "outputs": [
    {
     "data": {
      "text/html": [
       "<div>\n",
       "<style scoped>\n",
       "    .dataframe tbody tr th:only-of-type {\n",
       "        vertical-align: middle;\n",
       "    }\n",
       "\n",
       "    .dataframe tbody tr th {\n",
       "        vertical-align: top;\n",
       "    }\n",
       "\n",
       "    .dataframe thead th {\n",
       "        text-align: right;\n",
       "    }\n",
       "</style>\n",
       "<table border=\"1\" class=\"dataframe\">\n",
       "  <thead>\n",
       "    <tr style=\"text-align: right;\">\n",
       "      <th></th>\n",
       "      <th>month</th>\n",
       "      <th>town</th>\n",
       "      <th>flat_type</th>\n",
       "      <th>block</th>\n",
       "      <th>street_name</th>\n",
       "      <th>storey_range</th>\n",
       "      <th>floor_area_sqm</th>\n",
       "      <th>flat_model</th>\n",
       "      <th>lease_commence_date</th>\n",
       "      <th>resale_price</th>\n",
       "    </tr>\n",
       "  </thead>\n",
       "  <tbody>\n",
       "    <tr>\n",
       "      <th>8819</th>\n",
       "      <td>1990-09</td>\n",
       "      <td>ANG MO KIO</td>\n",
       "      <td>4 ROOM</td>\n",
       "      <td>535</td>\n",
       "      <td>ANG MO KIO AVE 5</td>\n",
       "      <td>01 TO 03</td>\n",
       "      <td>91.00</td>\n",
       "      <td>NEW GENERATION</td>\n",
       "      <td>1980</td>\n",
       "      <td>70500</td>\n",
       "    </tr>\n",
       "    <tr>\n",
       "      <th>202826</th>\n",
       "      <td>1998-07</td>\n",
       "      <td>PASIR RIS</td>\n",
       "      <td>5 ROOM</td>\n",
       "      <td>553</td>\n",
       "      <td>PASIR RIS ST 51</td>\n",
       "      <td>07 TO 09</td>\n",
       "      <td>123.00</td>\n",
       "      <td>IMPROVED</td>\n",
       "      <td>1992</td>\n",
       "      <td>370000</td>\n",
       "    </tr>\n",
       "    <tr>\n",
       "      <th>14535</th>\n",
       "      <td>1991-02</td>\n",
       "      <td>YISHUN</td>\n",
       "      <td>3 ROOM</td>\n",
       "      <td>778</td>\n",
       "      <td>YISHUN AVE 2</td>\n",
       "      <td>10 TO 12</td>\n",
       "      <td>74.00</td>\n",
       "      <td>MODEL A</td>\n",
       "      <td>1989</td>\n",
       "      <td>56000</td>\n",
       "    </tr>\n",
       "    <tr>\n",
       "      <th>104379</th>\n",
       "      <td>1995-10</td>\n",
       "      <td>SERANGOON</td>\n",
       "      <td>3 ROOM</td>\n",
       "      <td>124</td>\n",
       "      <td>SERANGOON NTH AVE 1</td>\n",
       "      <td>01 TO 03</td>\n",
       "      <td>73.00</td>\n",
       "      <td>NEW GENERATION</td>\n",
       "      <td>1985</td>\n",
       "      <td>131000</td>\n",
       "    </tr>\n",
       "    <tr>\n",
       "      <th>83879</th>\n",
       "      <td>1994-12</td>\n",
       "      <td>TAMPINES</td>\n",
       "      <td>5 ROOM</td>\n",
       "      <td>298</td>\n",
       "      <td>TAMPINES ST 22</td>\n",
       "      <td>10 TO 12</td>\n",
       "      <td>130.00</td>\n",
       "      <td>IMPROVED</td>\n",
       "      <td>1985</td>\n",
       "      <td>265000</td>\n",
       "    </tr>\n",
       "  </tbody>\n",
       "</table>\n",
       "</div>"
      ],
      "text/plain": [
       "          month        town flat_type block          street_name storey_range  \\\n",
       "8819    1990-09  ANG MO KIO    4 ROOM   535     ANG MO KIO AVE 5     01 TO 03   \n",
       "202826  1998-07   PASIR RIS    5 ROOM   553      PASIR RIS ST 51     07 TO 09   \n",
       "14535   1991-02      YISHUN    3 ROOM   778         YISHUN AVE 2     10 TO 12   \n",
       "104379  1995-10   SERANGOON    3 ROOM   124  SERANGOON NTH AVE 1     01 TO 03   \n",
       "83879   1994-12    TAMPINES    5 ROOM   298       TAMPINES ST 22     10 TO 12   \n",
       "\n",
       "        floor_area_sqm      flat_model  lease_commence_date  resale_price  \n",
       "8819             91.00  NEW GENERATION                 1980         70500  \n",
       "202826          123.00        IMPROVED                 1992        370000  \n",
       "14535            74.00         MODEL A                 1989         56000  \n",
       "104379           73.00  NEW GENERATION                 1985        131000  \n",
       "83879           130.00        IMPROVED                 1985        265000  "
      ]
     },
     "execution_count": 6,
     "metadata": {},
     "output_type": "execute_result"
    }
   ],
   "source": [
    "# Randomly sample 5 records with .sample(5)\n",
    "df.sample(5)"
   ]
  },
  {
   "cell_type": "markdown",
   "metadata": {},
   "source": [
    "# 2. Baseline Model (Decision Tree)\n",
    "A simple/initial model that you compare your later/more complex models against. It is basically the benchmark for your problem statement."
   ]
  },
  {
   "cell_type": "code",
   "execution_count": 7,
   "metadata": {},
   "outputs": [],
   "source": [
    "#Decision Tree in SKLearn don't take in string well. So we use a label encoder to change that string to a numeric value\n",
    "for column in df.columns:\n",
    "    if df[column].dtype == type(object):\n",
    "        #Create the label encoder\n",
    "        le = preprocessing.LabelEncoder()\n",
    "        #Convert the non numeric data to numeric\n",
    "        df[column] = le.fit_transform(df[column])"
   ]
  },
  {
   "cell_type": "code",
   "execution_count": 8,
   "metadata": {},
   "outputs": [
    {
     "data": {
      "text/html": [
       "<div>\n",
       "<style scoped>\n",
       "    .dataframe tbody tr th:only-of-type {\n",
       "        vertical-align: middle;\n",
       "    }\n",
       "\n",
       "    .dataframe tbody tr th {\n",
       "        vertical-align: top;\n",
       "    }\n",
       "\n",
       "    .dataframe thead th {\n",
       "        text-align: right;\n",
       "    }\n",
       "</style>\n",
       "<table border=\"1\" class=\"dataframe\">\n",
       "  <thead>\n",
       "    <tr style=\"text-align: right;\">\n",
       "      <th></th>\n",
       "      <th>month</th>\n",
       "      <th>town</th>\n",
       "      <th>flat_type</th>\n",
       "      <th>block</th>\n",
       "      <th>street_name</th>\n",
       "      <th>storey_range</th>\n",
       "      <th>floor_area_sqm</th>\n",
       "      <th>flat_model</th>\n",
       "      <th>lease_commence_date</th>\n",
       "      <th>resale_price</th>\n",
       "    </tr>\n",
       "  </thead>\n",
       "  <tbody>\n",
       "    <tr>\n",
       "      <th>193830</th>\n",
       "      <td>100</td>\n",
       "      <td>10</td>\n",
       "      <td>4</td>\n",
       "      <td>42</td>\n",
       "      <td>121</td>\n",
       "      <td>1</td>\n",
       "      <td>117.00</td>\n",
       "      <td>11</td>\n",
       "      <td>1977</td>\n",
       "      <td>330000</td>\n",
       "    </tr>\n",
       "    <tr>\n",
       "      <th>183301</th>\n",
       "      <td>97</td>\n",
       "      <td>17</td>\n",
       "      <td>3</td>\n",
       "      <td>460</td>\n",
       "      <td>261</td>\n",
       "      <td>2</td>\n",
       "      <td>105.00</td>\n",
       "      <td>5</td>\n",
       "      <td>1990</td>\n",
       "      <td>305000</td>\n",
       "    </tr>\n",
       "    <tr>\n",
       "      <th>266599</th>\n",
       "      <td>114</td>\n",
       "      <td>21</td>\n",
       "      <td>3</td>\n",
       "      <td>581</td>\n",
       "      <td>303</td>\n",
       "      <td>0</td>\n",
       "      <td>104.00</td>\n",
       "      <td>5</td>\n",
       "      <td>1992</td>\n",
       "      <td>248000</td>\n",
       "    </tr>\n",
       "    <tr>\n",
       "      <th>137866</th>\n",
       "      <td>81</td>\n",
       "      <td>1</td>\n",
       "      <td>2</td>\n",
       "      <td>581</td>\n",
       "      <td>27</td>\n",
       "      <td>0</td>\n",
       "      <td>68.00</td>\n",
       "      <td>8</td>\n",
       "      <td>1980</td>\n",
       "      <td>195000</td>\n",
       "    </tr>\n",
       "    <tr>\n",
       "      <th>140697</th>\n",
       "      <td>81</td>\n",
       "      <td>25</td>\n",
       "      <td>2</td>\n",
       "      <td>24</td>\n",
       "      <td>404</td>\n",
       "      <td>1</td>\n",
       "      <td>64.00</td>\n",
       "      <td>10</td>\n",
       "      <td>1986</td>\n",
       "      <td>165000</td>\n",
       "    </tr>\n",
       "  </tbody>\n",
       "</table>\n",
       "</div>"
      ],
      "text/plain": [
       "        month  town  flat_type  block  street_name  storey_range  \\\n",
       "193830    100    10          4     42          121             1   \n",
       "183301     97    17          3    460          261             2   \n",
       "266599    114    21          3    581          303             0   \n",
       "137866     81     1          2    581           27             0   \n",
       "140697     81    25          2     24          404             1   \n",
       "\n",
       "        floor_area_sqm  flat_model  lease_commence_date  resale_price  \n",
       "193830          117.00          11                 1977        330000  \n",
       "183301          105.00           5                 1990        305000  \n",
       "266599          104.00           5                 1992        248000  \n",
       "137866           68.00           8                 1980        195000  \n",
       "140697           64.00          10                 1986        165000  "
      ]
     },
     "execution_count": 8,
     "metadata": {},
     "output_type": "execute_result"
    }
   ],
   "source": [
    "# Randomly sample 5 records with .sample(5)\n",
    "df.sample(5)"
   ]
  },
  {
   "cell_type": "markdown",
   "metadata": {},
   "source": [
    "### Building Decision Tree Model"
   ]
  },
  {
   "cell_type": "code",
   "execution_count": 9,
   "metadata": {},
   "outputs": [
    {
     "data": {
      "text/plain": [
       "array([0, 2, 3, 4, 1, 5, 6])"
      ]
     },
     "execution_count": 9,
     "metadata": {},
     "output_type": "execute_result"
    }
   ],
   "source": [
    "df['flat_type'].unique()"
   ]
  },
  {
   "cell_type": "code",
   "execution_count": 10,
   "metadata": {},
   "outputs": [],
   "source": [
    "#split dataset in features and target variable\n",
    "feature_cols = ['month','town','block','street_name','storey_range','floor_area_sqm','flat_model','lease_commence_date','resale_price']\n",
    "X = df[feature_cols]\n",
    "#y = df[['flat_type']]\n",
    "y = df['flat_type']"
   ]
  },
  {
   "cell_type": "code",
   "execution_count": 11,
   "metadata": {},
   "outputs": [],
   "source": [
    "# Split dataset into training set and test set\n",
    "X_train, X_test, y_train, y_test = train_test_split(X, y, test_size=0.2, random_state=1) # 80% training and 20% test"
   ]
  },
  {
   "cell_type": "code",
   "execution_count": 12,
   "metadata": {},
   "outputs": [
    {
     "data": {
      "text/plain": [
       "DecisionTreeClassifier(random_state=0)"
      ]
     },
     "execution_count": 12,
     "metadata": {},
     "output_type": "execute_result"
    }
   ],
   "source": [
    "# initialise Decision Tree\n",
    "#Using gini currently, can also use entropy or miclassification error.\n",
    "clf = DecisionTreeClassifier(criterion='gini',random_state=0) \n",
    "\n",
    "# train model\n",
    "clf.fit(X_train, y_train)"
   ]
  },
  {
   "cell_type": "code",
   "execution_count": 13,
   "metadata": {},
   "outputs": [
    {
     "data": {
      "text/html": [
       "<div>\n",
       "<style scoped>\n",
       "    .dataframe tbody tr th:only-of-type {\n",
       "        vertical-align: middle;\n",
       "    }\n",
       "\n",
       "    .dataframe tbody tr th {\n",
       "        vertical-align: top;\n",
       "    }\n",
       "\n",
       "    .dataframe thead th {\n",
       "        text-align: right;\n",
       "    }\n",
       "</style>\n",
       "<table border=\"1\" class=\"dataframe\">\n",
       "  <thead>\n",
       "    <tr style=\"text-align: right;\">\n",
       "      <th></th>\n",
       "      <th>Actual</th>\n",
       "      <th>Predicted</th>\n",
       "    </tr>\n",
       "  </thead>\n",
       "  <tbody>\n",
       "    <tr>\n",
       "      <th>64597</th>\n",
       "      <td>3</td>\n",
       "      <td>3</td>\n",
       "    </tr>\n",
       "    <tr>\n",
       "      <th>184883</th>\n",
       "      <td>3</td>\n",
       "      <td>3</td>\n",
       "    </tr>\n",
       "    <tr>\n",
       "      <th>138980</th>\n",
       "      <td>2</td>\n",
       "      <td>2</td>\n",
       "    </tr>\n",
       "    <tr>\n",
       "      <th>129604</th>\n",
       "      <td>3</td>\n",
       "      <td>3</td>\n",
       "    </tr>\n",
       "    <tr>\n",
       "      <th>208612</th>\n",
       "      <td>2</td>\n",
       "      <td>2</td>\n",
       "    </tr>\n",
       "    <tr>\n",
       "      <th>176715</th>\n",
       "      <td>4</td>\n",
       "      <td>4</td>\n",
       "    </tr>\n",
       "    <tr>\n",
       "      <th>79660</th>\n",
       "      <td>4</td>\n",
       "      <td>4</td>\n",
       "    </tr>\n",
       "    <tr>\n",
       "      <th>270961</th>\n",
       "      <td>5</td>\n",
       "      <td>5</td>\n",
       "    </tr>\n",
       "    <tr>\n",
       "      <th>65428</th>\n",
       "      <td>4</td>\n",
       "      <td>4</td>\n",
       "    </tr>\n",
       "    <tr>\n",
       "      <th>268763</th>\n",
       "      <td>3</td>\n",
       "      <td>3</td>\n",
       "    </tr>\n",
       "  </tbody>\n",
       "</table>\n",
       "</div>"
      ],
      "text/plain": [
       "        Actual  Predicted\n",
       "64597        3          3\n",
       "184883       3          3\n",
       "138980       2          2\n",
       "129604       3          3\n",
       "208612       2          2\n",
       "176715       4          4\n",
       "79660        4          4\n",
       "270961       5          5\n",
       "65428        4          4\n",
       "268763       3          3"
      ]
     },
     "execution_count": 13,
     "metadata": {},
     "output_type": "execute_result"
    }
   ],
   "source": [
    "# get predictions and compare results\n",
    "predictions = clf.predict(X_test)\n",
    "results_df = pd.DataFrame({'Actual': y_test, 'Predicted': predictions})\n",
    "results_df.sample(10)"
   ]
  },
  {
   "cell_type": "code",
   "execution_count": 35,
   "metadata": {},
   "outputs": [
    {
     "name": "stdout",
     "output_type": "stream",
     "text": [
      "Accuracy: 0.9993036211699164\n"
     ]
    }
   ],
   "source": [
    "# Accuracy\n",
    "accuracy = accuracy_score(y_test,predictions)\n",
    "print(\"Accuracy:\",accuracy)"
   ]
  },
  {
   "cell_type": "code",
   "execution_count": 36,
   "metadata": {},
   "outputs": [
    {
     "name": "stdout",
     "output_type": "stream",
     "text": [
      "Precision: 0.9993036211699164\n",
      "Recall: 0.9993036211699164\n",
      "F-measure: 0.9993036211699164\n",
      "Precision1: 0.9945692936025551\n",
      "Recall1: 0.9990440600463923\n",
      "F-measure1: 0.9967700896889797\n",
      "Precision2: 0.9993047478626799\n",
      "Recall2: 0.9993036211699164\n",
      "F-measure2: 0.9993038938254236\n"
     ]
    }
   ],
   "source": [
    "# Precision = (True Positive)/(Total Predicted Positive)\n",
    "# To determine if costs of False Positive is high.\n",
    "precision = metrics.precision_score(y_test, predictions, average='micro')\n",
    "precision1 = metrics.precision_score(y_test, predictions, average='macro')\n",
    "precision2 = metrics.precision_score(y_test, predictions, average='weighted')\n",
    "\n",
    "#Recall = (True Positive)/(Total Actual Positive)\n",
    "# calculates the no. of Actual Positives our model capture through labeling it as Positive\n",
    "recall = metrics.recall_score(y_test, predictions, average='micro')\n",
    "recall1 = metrics.recall_score(y_test, predictions, average='macro')\n",
    "recall2 = metrics.recall_score(y_test, predictions, average='weighted')\n",
    "\n",
    "#F1-score = 2* (precision*recall)/(precision + recall)\n",
    "# F1 Score is needed when you want to seek a balance between Precision and Recall.\n",
    "f_measure = metrics.f1_score(y_test, predictions, average='micro')\n",
    "f_measure1 = metrics.f1_score(y_test, predictions, average='macro')\n",
    "f_measure2 = metrics.f1_score(y_test, predictions, average='weighted')\n",
    "\n",
    "# https://towardsdatascience.com/accuracy-precision-recall-or-f1-331fb37c5cb9\n",
    "print(\"Precision_micro:\",precision)\n",
    "print(\"Recall_micro:\",recall)\n",
    "print(\"F-measure_micro:\",f_measure)\n",
    "\n",
    "print(\"Precision1_macro:\",precision1)\n",
    "print(\"Recall1_macro:\",recall1)\n",
    "print(\"F-measure1_macro:\",f_measure1)\n",
    "\n",
    "print(\"Precision2_weighted:\",precision2)\n",
    "print(\"Recall2_weighted:\",recall2)\n",
    "print(\"F-measure2_weighted:\",f_measure2)"
   ]
  },
  {
   "cell_type": "code",
   "execution_count": null,
   "metadata": {},
   "outputs": [],
   "source": []
  },
  {
   "cell_type": "code",
   "execution_count": 38,
   "metadata": {},
   "outputs": [],
   "source": [
    "###################################################################################################################################\n"
   ]
  },
  {
   "cell_type": "code",
   "execution_count": 39,
   "metadata": {},
   "outputs": [],
   "source": [
    "X_train, X_test, y_train, y_test = train_test_split(X, y, test_size=0.50, random_state=0)\n"
   ]
  },
  {
   "cell_type": "code",
   "execution_count": 40,
   "metadata": {},
   "outputs": [
    {
     "data": {
      "text/plain": [
       "KNeighborsClassifier(n_neighbors=3)"
      ]
     },
     "execution_count": 40,
     "metadata": {},
     "output_type": "execute_result"
    }
   ],
   "source": [
    "#Create the kNN classifier and set the number of neighbors to be 3. Note that you can tune this number of neighbors\n",
    "model = KNeighborsClassifier(n_neighbors=3)\n",
    "\n",
    "#Fit the training feature Xs and training label Ys\n",
    "model.fit(X_train,y_train)"
   ]
  },
  {
   "cell_type": "code",
   "execution_count": 44,
   "metadata": {},
   "outputs": [],
   "source": [
    "y_pred = model.predict(X_test)"
   ]
  },
  {
   "cell_type": "code",
   "execution_count": 33,
   "metadata": {},
   "outputs": [
    {
     "ename": "ModuleNotFoundError",
     "evalue": "No module named 'sklearn.externals.six'",
     "output_type": "error",
     "traceback": [
      "\u001b[1;31m---------------------------------------------------------------------------\u001b[0m",
      "\u001b[1;31mModuleNotFoundError\u001b[0m                       Traceback (most recent call last)",
      "\u001b[1;32m<ipython-input-33-aba0929350ba>\u001b[0m in \u001b[0;36m<module>\u001b[1;34m\u001b[0m\n\u001b[0;32m      2\u001b[0m \u001b[1;32mfrom\u001b[0m \u001b[0msklearn\u001b[0m\u001b[1;33m.\u001b[0m\u001b[0mtree\u001b[0m \u001b[1;32mimport\u001b[0m \u001b[0mexport_graphviz\u001b[0m\u001b[1;33m\u001b[0m\u001b[1;33m\u001b[0m\u001b[0m\n\u001b[0;32m      3\u001b[0m \u001b[1;32mimport\u001b[0m \u001b[0mpydotplus\u001b[0m\u001b[1;33m\u001b[0m\u001b[1;33m\u001b[0m\u001b[0m\n\u001b[1;32m----> 4\u001b[1;33m \u001b[1;32mfrom\u001b[0m \u001b[0msklearn\u001b[0m\u001b[1;33m.\u001b[0m\u001b[0mexternals\u001b[0m\u001b[1;33m.\u001b[0m\u001b[0msix\u001b[0m \u001b[1;32mimport\u001b[0m \u001b[0mStringIO\u001b[0m\u001b[1;33m\u001b[0m\u001b[1;33m\u001b[0m\u001b[0m\n\u001b[0m\u001b[0;32m      5\u001b[0m \u001b[1;32mfrom\u001b[0m \u001b[0mIPython\u001b[0m\u001b[1;33m.\u001b[0m\u001b[0mdisplay\u001b[0m \u001b[1;32mimport\u001b[0m \u001b[0mImage\u001b[0m\u001b[1;33m\u001b[0m\u001b[1;33m\u001b[0m\u001b[0m\n\u001b[0;32m      6\u001b[0m \u001b[1;33m\u001b[0m\u001b[0m\n",
      "\u001b[1;31mModuleNotFoundError\u001b[0m: No module named 'sklearn.externals.six'"
     ]
    }
   ],
   "source": [
    "#installed graphviz & pydotplus\n",
    "from sklearn.tree import export_graphviz\n",
    "import pydotplus\n",
    "from sklearn.externals.six import StringIO\n",
    "from IPython.display import Image\n",
    "\n",
    "feature_cols = ['month','town','block','street_name','storey_range','floor_area_sqm','flat_model','lease_commence_date','resale_price']\n"
   ]
  },
  {
   "cell_type": "code",
   "execution_count": 37,
   "metadata": {},
   "outputs": [
    {
     "name": "stdout",
     "output_type": "stream",
     "text": [
      "[[  165     0     0     0     0     0     0]\n",
      " [    0   857     4     0     0     0     0]\n",
      " [    0     2 22711     6     0     0     0]\n",
      " [    0     0    16 19806     0     0     0]\n",
      " [    0     0     0     0  9478     0     0]\n",
      " [    0     0     0     0     0  4332     0]\n",
      " [    0     0     0     0     0     2    61]]\n",
      "accuracy:  0.9994777158774373\n",
      "f1-Score:  0.9994777158774373\n",
      "precision:  0.9994325059089217\n",
      "recall:  0.9994777158774373\n"
     ]
    },
    {
     "name": "stderr",
     "output_type": "stream",
     "text": [
      "C:\\ProgramData\\Anaconda3\\lib\\site-packages\\sklearn\\metrics\\_classification.py:1267: UserWarning: Note that pos_label (set to 'positive') is ignored when average != 'binary' (got 'macro'). You may use labels=[pos_label] to specify a single positive class.\n",
      "  warnings.warn(\"Note that pos_label (set to %r) is ignored when \"\n",
      "C:\\ProgramData\\Anaconda3\\lib\\site-packages\\sklearn\\metrics\\_classification.py:1267: UserWarning: Note that pos_label (set to 'positive') is ignored when average != 'binary' (got 'weighted'). You may use labels=[pos_label] to specify a single positive class.\n",
      "  warnings.warn(\"Note that pos_label (set to %r) is ignored when \"\n"
     ]
    }
   ],
   "source": [
    "# Find the confusion matrix of the result\n",
    "cm = confusion_matrix(y_pred, y_test)\n",
    "print(cm)\n",
    "\n",
    "# Find the accuracy and F1 score of the result\n",
    "asr = accuracy_score(y_pred, y_test)\n",
    "f1 = f1_score(y_pred, y_test,average='micro')\n",
    "\n",
    "# testing out different scores.\n",
    "f2 = precision_score(y_pred, y_test,pos_label='positive',average='macro')\n",
    "f3 = recall_score(y_pred, y_test,pos_label='positive',average='weighted')\n",
    "\n",
    "# testing out differet form of accuracy.\n",
    "# https://scikit-learn.org/stable/modules/generated/sklearn.metrics.precision_score.html\n",
    "# f2 = f1_score(y_pred, y_test,average='macro')\n",
    "# f3 = f1_score(y_pred, y_test,average='weighted')\n",
    "\n",
    "#The best f1_score is 1 and the worst value is 0.\n",
    "\n",
    "print('accuracy: ',asr)\n",
    "print('f1-Score: ',f1)\n",
    "print('precision: ',f2)\n",
    "print('recall: ',f3)"
   ]
  },
  {
   "cell_type": "markdown",
   "metadata": {},
   "source": [
    "## Bagging (with Decision Tree)\n",
    "\n",
    "Refer to the following links on for detail explanation on the implementation:"
   ]
  },
  {
   "cell_type": "code",
   "execution_count": 25,
   "metadata": {},
   "outputs": [
    {
     "data": {
      "text/plain": [
       "BaggingClassifier(n_estimators=50)"
      ]
     },
     "execution_count": 25,
     "metadata": {},
     "output_type": "execute_result"
    }
   ],
   "source": [
    "#Create the Bagging classifier. Default base classifiers is Decision Tree. \n",
    "# - n_estimator is the number of base classifiers (i.e. weak learners)\n",
    "model = BaggingClassifier(n_estimators=50)\n",
    "\n",
    "#Fit the training feature Xs and training label Ys\n",
    "model.fit(X_train, y_train)"
   ]
  },
  {
   "cell_type": "code",
   "execution_count": 26,
   "metadata": {},
   "outputs": [],
   "source": [
    "#Use the trained model to predict the test data\n",
    "y_pred = model.predict(X_test)"
   ]
  },
  {
   "cell_type": "code",
   "execution_count": 43,
   "metadata": {},
   "outputs": [
    {
     "name": "stdout",
     "output_type": "stream",
     "text": [
      "[[  165     0     0     0     0     0     0]\n",
      " [    0   857     4     0     0     0     0]\n",
      " [    0     2 22711     6     0     0     0]\n",
      " [    0     0    16 19806     0     0     0]\n",
      " [    0     0     0     0  9478     0     0]\n",
      " [    0     0     0     0     0  4332     0]\n",
      " [    0     0     0     0     0     2    61]]\n",
      "accuracy:  0.9994777158774373\n",
      "f1-Score:  0.9994777158774373\n",
      "precision:  0.9994777158774373\n",
      "recall:  0.9994777158774373\n"
     ]
    }
   ],
   "source": [
    "# Find the confusion matrix of the result\n",
    "cm = confusion_matrix(y_pred, y_test)\n",
    "print(cm)\n",
    "\n",
    "# Find the accuracy and F1 score of the result\n",
    "asr = accuracy_score(y_pred, y_test)\n",
    "f1 = f1_score(y_pred, y_test,average='micro')\n",
    "\n",
    "# testing out differet form of accuracy.\n",
    "# https://scikit-learn.org/stable/modules/generated/sklearn.metrics.precision_score.html\n",
    "# f2 = f1_score(y_pred, y_test,average='macro')\n",
    "# f3 = f1_score(y_pred, y_test,average='weighted')\n",
    "f2 = precision_score(y_pred, y_test,pos_label='positive',average='micro')\n",
    "f3 = recall_score(y_pred, y_test,pos_label='positive',average='micro')\n",
    "#The best f1_score is 1 and the worst value is 0.\n",
    "\n",
    "print('accuracy: ',asr)\n",
    "print('f1-Score: ',f1)\n",
    "print('precision: ',f2)\n",
    "print('recall: ',f3)"
   ]
  },
  {
   "cell_type": "code",
   "execution_count": 28,
   "metadata": {},
   "outputs": [
    {
     "data": {
      "text/html": [
       "<div>\n",
       "<style scoped>\n",
       "    .dataframe tbody tr th:only-of-type {\n",
       "        vertical-align: middle;\n",
       "    }\n",
       "\n",
       "    .dataframe tbody tr th {\n",
       "        vertical-align: top;\n",
       "    }\n",
       "\n",
       "    .dataframe thead th {\n",
       "        text-align: right;\n",
       "    }\n",
       "</style>\n",
       "<table border=\"1\" class=\"dataframe\">\n",
       "  <thead>\n",
       "    <tr style=\"text-align: right;\">\n",
       "      <th></th>\n",
       "      <th>Actual</th>\n",
       "      <th>Predicted</th>\n",
       "    </tr>\n",
       "  </thead>\n",
       "  <tbody>\n",
       "    <tr>\n",
       "      <th>205536</th>\n",
       "      <td>5</td>\n",
       "      <td>5</td>\n",
       "    </tr>\n",
       "    <tr>\n",
       "      <th>6638</th>\n",
       "      <td>0</td>\n",
       "      <td>0</td>\n",
       "    </tr>\n",
       "    <tr>\n",
       "      <th>90530</th>\n",
       "      <td>2</td>\n",
       "      <td>2</td>\n",
       "    </tr>\n",
       "    <tr>\n",
       "      <th>106084</th>\n",
       "      <td>2</td>\n",
       "      <td>2</td>\n",
       "    </tr>\n",
       "    <tr>\n",
       "      <th>52036</th>\n",
       "      <td>2</td>\n",
       "      <td>2</td>\n",
       "    </tr>\n",
       "    <tr>\n",
       "      <th>212010</th>\n",
       "      <td>5</td>\n",
       "      <td>5</td>\n",
       "    </tr>\n",
       "    <tr>\n",
       "      <th>26219</th>\n",
       "      <td>1</td>\n",
       "      <td>1</td>\n",
       "    </tr>\n",
       "    <tr>\n",
       "      <th>54762</th>\n",
       "      <td>4</td>\n",
       "      <td>4</td>\n",
       "    </tr>\n",
       "    <tr>\n",
       "      <th>119423</th>\n",
       "      <td>2</td>\n",
       "      <td>2</td>\n",
       "    </tr>\n",
       "    <tr>\n",
       "      <th>160095</th>\n",
       "      <td>2</td>\n",
       "      <td>2</td>\n",
       "    </tr>\n",
       "  </tbody>\n",
       "</table>\n",
       "</div>"
      ],
      "text/plain": [
       "        Actual  Predicted\n",
       "205536       5          5\n",
       "6638         0          0\n",
       "90530        2          2\n",
       "106084       2          2\n",
       "52036        2          2\n",
       "212010       5          5\n",
       "26219        1          1\n",
       "54762        4          4\n",
       "119423       2          2\n",
       "160095       2          2"
      ]
     },
     "execution_count": 28,
     "metadata": {},
     "output_type": "execute_result"
    }
   ],
   "source": [
    "# get predictions and compare results\n",
    "predictions = model.predict(X_test)\n",
    "results_df = pd.DataFrame({'Actual': y_test, 'Predicted': predictions})\n",
    "results_df.sample(10)"
   ]
  },
  {
   "cell_type": "markdown",
   "metadata": {},
   "source": [
    "## Bagging (with kNN)"
   ]
  },
  {
   "cell_type": "code",
   "execution_count": null,
   "metadata": {},
   "outputs": [],
   "source": [
    "#Create the kNN base classifier\n",
    "knn = KNeighborsClassifier(n_neighbors=5)\n",
    "\n",
    "#Create the Bagging classifier. Default base classifiers is Decision Tree. \n",
    "# - n_estimator is the number of base classifiers (i.e. weak learners)\n",
    "model = BaggingClassifier(n_estimators=50, base_estimator=knn)\n",
    "\n",
    "#Fit the training feature Xs and training label Ys\n",
    "model.fit(X_train, y_train)"
   ]
  },
  {
   "cell_type": "code",
   "execution_count": 42,
   "metadata": {},
   "outputs": [
    {
     "name": "stdout",
     "output_type": "stream",
     "text": [
      "[[  165     0     0     0     0     0     0]\n",
      " [    0   857     4     0     0     0     0]\n",
      " [    0     2 22711     6     0     0     0]\n",
      " [    0     0    16 19806     0     0     0]\n",
      " [    0     0     0     0  9478     0     0]\n",
      " [    0     0     0     0     0  4332     0]\n",
      " [    0     0     0     0     0     2    61]]\n",
      "accuracy:  0.9994777158774373\n",
      "f1-Score:  0.9994777158774373\n",
      "precision:  0.9994777158774373\n",
      "recall:  0.9994777158774373\n"
     ]
    }
   ],
   "source": [
    "# Find the confusion matrix of the result\n",
    "cm = confusion_matrix(y_pred, y_test)\n",
    "print(cm)\n",
    "\n",
    "# Find the accuracy and F1 score of the result\n",
    "asr = accuracy_score(y_pred, y_test)\n",
    "f1 = f1_score(y_pred, y_test,average='micro')\n",
    "\n",
    "# testing out differet form of accuracy.\n",
    "# https://scikit-learn.org/stable/modules/generated/sklearn.metrics.precision_score.html\n",
    "# f2 = f1_score(y_pred, y_test,average='macro')\n",
    "# f3 = f1_score(y_pred, y_test,average='weighted')\n",
    "f2 = precision_score(y_pred, y_test,pos_label='positive',average='micro')\n",
    "f3 = recall_score(y_pred, y_test,pos_label='positive',average='micro')\n",
    "#The best f1_score is 1 and the worst value is 0.\n",
    "\n",
    "print('accuracy: ',asr)\n",
    "print('f1-Score: ',f1)\n",
    "print('precision: ',f2)\n",
    "print('recall: ',f3)"
   ]
  },
  {
   "cell_type": "markdown",
   "metadata": {},
   "source": [
    "## AdaBoost (with Decision Tree)\n"
   ]
  },
  {
   "cell_type": "code",
   "execution_count": 34,
   "metadata": {},
   "outputs": [
    {
     "data": {
      "text/plain": [
       "AdaBoostClassifier(learning_rate=0.1)"
      ]
     },
     "execution_count": 34,
     "metadata": {},
     "output_type": "execute_result"
    }
   ],
   "source": [
    "#Create the AdaBoost classifier. Default base classifiers is Decision Tree. \n",
    "# - n_estimator is the number of base classifiers (i.e. weak learners)\n",
    "# - learning_rate controls the weight adjustments of each base classifiers. Default is 1\n",
    "model = AdaBoostClassifier(n_estimators=50,learning_rate=0.1)\n",
    "\n",
    "#Fit the training feature Xs and training label Ys\n",
    "model.fit(X_train, y_train)"
   ]
  },
  {
   "cell_type": "code",
   "execution_count": 41,
   "metadata": {},
   "outputs": [
    {
     "name": "stdout",
     "output_type": "stream",
     "text": [
      "[[  165     0     0     0     0     0     0]\n",
      " [    0   857     4     0     0     0     0]\n",
      " [    0     2 22711     6     0     0     0]\n",
      " [    0     0    16 19806     0     0     0]\n",
      " [    0     0     0     0  9478     0     0]\n",
      " [    0     0     0     0     0  4332     0]\n",
      " [    0     0     0     0     0     2    61]]\n",
      "accuracy:  0.9994777158774373\n",
      "f1-Score:  0.9994777158774373\n",
      "precision:  0.9994777158774373\n",
      "recall:  0.9994777158774373\n"
     ]
    },
    {
     "name": "stderr",
     "output_type": "stream",
     "text": [
      "C:\\ProgramData\\Anaconda3\\lib\\site-packages\\sklearn\\metrics\\_classification.py:1267: UserWarning: Note that pos_label (set to 'positive') is ignored when average != 'binary' (got 'micro'). You may use labels=[pos_label] to specify a single positive class.\n",
      "  warnings.warn(\"Note that pos_label (set to %r) is ignored when \"\n"
     ]
    }
   ],
   "source": [
    "# Find the confusion matrix of the result\n",
    "cm = confusion_matrix(y_pred, y_test)\n",
    "print(cm)\n",
    "\n",
    "# Find the accuracy and F1 score of the result\n",
    "# Find the accuracy and F1 score of the result\n",
    "asr = accuracy_score(y_pred, y_test)\n",
    "f1 = f1_score(y_pred, y_test,average='micro')\n",
    "\n",
    "# testing out differet form of accuracy.\n",
    "# https://scikit-learn.org/stable/modules/generated/sklearn.metrics.precision_score.html\n",
    "# f2 = f1_score(y_pred, y_test,average='macro')\n",
    "# f3 = f1_score(y_pred, y_test,average='weighted')\n",
    "f2 = precision_score(y_pred, y_test,pos_label='positive',average='micro')\n",
    "f3 = recall_score(y_pred, y_test,pos_label='positive',average='micro')\n",
    "#The best f1_score is 1 and the worst value is 0.\n",
    "\n",
    "print('accuracy: ',asr)\n",
    "print('f1-Score: ',f1)\n",
    "print('precision: ',f2)\n",
    "print('recall: ',f3)"
   ]
  },
  {
   "cell_type": "markdown",
   "metadata": {},
   "source": [
    "## AdaBoost (with Gaussian Navie Bayes)\n",
    "Refer to the following links on for detail explanation on the implementation:"
   ]
  },
  {
   "cell_type": "code",
   "execution_count": 114,
   "metadata": {},
   "outputs": [
    {
     "data": {
      "text/plain": [
       "GaussianNB()"
      ]
     },
     "execution_count": 114,
     "metadata": {},
     "output_type": "execute_result"
    }
   ],
   "source": [
    "model = GaussianNB()\n",
    "#Fit the training feature Xs and training label Ys\n",
    "model.fit(X_train, y_train)"
   ]
  },
  {
   "cell_type": "code",
   "execution_count": 119,
   "metadata": {},
   "outputs": [
    {
     "name": "stdout",
     "output_type": "stream",
     "text": [
      "[[  403     0     0     0     0     0     0]\n",
      " [    2  1784   317     0     0     0     0]\n",
      " [    0   256 54464  2713     0     0     0]\n",
      " [    0     0  1795 45692   686     0     0]\n",
      " [    0     0    24   743 22577    37    15]\n",
      " [    0     0     9     0   945 10859    94]\n",
      " [    0     0    19     0     0   131    35]]\n",
      "asr:  0.9457799442896936\n",
      "f1:  0.9457799442896936\n",
      "f2:  0.8372868390668112\n",
      "f3:  0.945701144101097\n"
     ]
    }
   ],
   "source": [
    "#Use the trained model to predict the test data\n",
    "y_pred = model.predict(X_test)\n",
    "# Find the confusion matrix of the result\n",
    "cm = confusion_matrix(y_pred, y_test)\n",
    "print(cm)\n",
    "\n",
    "# Find the accuracy and F1 score of the result\n",
    "asr = accuracy_score(y_pred, y_test)\n",
    "f1 = f1_score(y_pred, y_test,average='micro')\n",
    "\n",
    "# testing out differet form of accuracy.\n",
    "# https://scikit-learn.org/stable/modules/generated/sklearn.metrics.precision_score.html\n",
    "f2 = f1_score(y_pred, y_test,average='macro')\n",
    "f3 = f1_score(y_pred, y_test,average='weighted')\n",
    "\n",
    "#The best f1_score is 1 and the worst value is 0.\n",
    "\n",
    "print('accuracy: ',asr)\n",
    "print('f1-Score: ',f1)\n",
    "print('precision: ',f2)\n",
    "print('recall: ',f3)"
   ]
  },
  {
   "cell_type": "code",
   "execution_count": 120,
   "metadata": {},
   "outputs": [
    {
     "data": {
      "text/plain": [
       "AdaBoostClassifier(base_estimator=GaussianNB(), learning_rate=1)"
      ]
     },
     "execution_count": 120,
     "metadata": {},
     "output_type": "execute_result"
    }
   ],
   "source": [
    "nb = GaussianNB()\n",
    "\n",
    "model = AdaBoostClassifier(n_estimators=50,learning_rate=1, base_estimator=nb)\n",
    "#model = BaggingClassifier(n_estimators=50, base_estimator=knn)\n",
    "\n",
    "\n",
    "#Fit the training feature Xs and training label Ys\n",
    "model.fit(X_train, y_train)"
   ]
  },
  {
   "cell_type": "code",
   "execution_count": 124,
   "metadata": {},
   "outputs": [
    {
     "name": "stdout",
     "output_type": "stream",
     "text": [
      "[[  336     0     0     0     0     0     0]\n",
      " [   51  1340   883     0     0     0     0]\n",
      " [   18   700 54470 14346   154     0     0]\n",
      " [    0     0  1256 30205  3582     0     0]\n",
      " [    0     0    14  4591 17629  1430    17]\n",
      " [    0     0     5     6  2843  9588   106]\n",
      " [    0     0     0     0     0     9    21]]\n",
      "asr:  0.7910097493036212\n",
      "f1:  0.7910097493036212\n",
      "f2:  0.6998741020796836\n",
      "f3:  0.7981375336134957\n"
     ]
    }
   ],
   "source": [
    "#Use the trained model to predict the test data\n",
    "y_pred = model.predict(X_test)\n",
    "# Find the confusion matrix of the result\n",
    "cm = confusion_matrix(y_pred, y_test)\n",
    "print(cm)\n",
    "\n",
    "# Find the accuracy and F1 score of the result\n",
    "asr = accuracy_score(y_pred, y_test)\n",
    "f1 = f1_score(y_pred, y_test,average='micro')\n",
    "\n",
    "# testing out differet form of accuracy.\n",
    "# https://scikit-learn.org/stable/modules/generated/sklearn.metrics.precision_score.html\n",
    "f2 = f1_score(y_pred, y_test,average='macro')\n",
    "f3 = f1_score(y_pred, y_test,average='weighted')\n",
    "\n",
    "#The best f1_score is 1 and the worst value is 0.\n",
    "\n",
    "print('asr: ',asr)\n",
    "print('f1: ',f1)\n",
    "print('f2: ',f2)\n",
    "print('f3: ',f3)"
   ]
  },
  {
   "cell_type": "code",
   "execution_count": null,
   "metadata": {},
   "outputs": [],
   "source": []
  }
 ],
 "metadata": {
  "kernelspec": {
   "display_name": "Python 3",
   "language": "python",
   "name": "python3"
  },
  "language_info": {
   "codemirror_mode": {
    "name": "ipython",
    "version": 3
   },
   "file_extension": ".py",
   "mimetype": "text/x-python",
   "name": "python",
   "nbconvert_exporter": "python",
   "pygments_lexer": "ipython3",
   "version": "3.8.3"
  }
 },
 "nbformat": 4,
 "nbformat_minor": 4
}
