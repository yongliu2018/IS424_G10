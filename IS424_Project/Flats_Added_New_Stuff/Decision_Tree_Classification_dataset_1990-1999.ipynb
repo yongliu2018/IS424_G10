{
 "cells": [
  {
   "cell_type": "code",
   "execution_count": 105,
   "metadata": {},
   "outputs": [],
   "source": [
    "import re\n",
    "import io\n",
    "\n",
    "#General libraries needed\n",
    "import numpy as np\n",
    "import pandas as pd\n",
    "import matplotlib.pyplot as plt\n",
    "import seaborn as sns\n",
    "\n",
    "#Libraries for data pre-processing\n",
    "from sklearn import metrics #Import scikit-learn metrics module for accuracy calculation\n",
    "from sklearn.model_selection import train_test_split # Import train_test_split function\n",
    "from sklearn.metrics import confusion_matrix\n",
    "from sklearn.metrics import accuracy_score\n",
    "from sklearn.metrics import f1_score\n",
    "from sklearn import preprocessing\n",
    "from sklearn.metrics import precision_score\n",
    "from sklearn.metrics import recall_score\n",
    "\n",
    "#For Decision Tree implementation\n",
    "from scipy.stats import entropy\n",
    "from sklearn.tree import DecisionTreeClassifier # Import Decision Tree Classifier\n",
    "from sklearn import tree\n",
    "\n",
    "#For KNN implementation\n",
    "from sklearn.neighbors import KNeighborsClassifier\n",
    "\n",
    "#For Bagging implementation\n",
    "from sklearn.ensemble import BaggingClassifier\n",
    "\n",
    "#For AdaBoost implementation\n",
    "from sklearn.ensemble import AdaBoostClassifier\n",
    "from sklearn.naive_bayes import GaussianNB\n",
    "\n",
    "#Settings\n",
    "%matplotlib inline\n",
    "pd.options.display.float_format = '{:.2f}'.format\n",
    "# np.set_printoptions(threshold=np.nan)\n",
    "sns.set()\n"
   ]
  },
  {
   "cell_type": "code",
   "execution_count": 72,
   "metadata": {},
   "outputs": [],
   "source": [
    "df = pd.read_csv('resale-flat-prices-based-on-approval-date-1990-1999.csv')"
   ]
  },
  {
   "cell_type": "code",
   "execution_count": 73,
   "metadata": {},
   "outputs": [
    {
     "name": "stdout",
     "output_type": "stream",
     "text": [
      "month                   object\n",
      "town                    object\n",
      "flat_type               object\n",
      "block                   object\n",
      "street_name             object\n",
      "storey_range            object\n",
      "floor_area_sqm         float64\n",
      "flat_model              object\n",
      "lease_commence_date      int64\n",
      "resale_price             int64\n",
      "dtype: object\n"
     ]
    }
   ],
   "source": [
    "# Check the columns using dtypes\n",
    "print(df.dtypes)"
   ]
  },
  {
   "cell_type": "code",
   "execution_count": 74,
   "metadata": {},
   "outputs": [
    {
     "data": {
      "text/html": [
       "<div>\n",
       "<style scoped>\n",
       "    .dataframe tbody tr th:only-of-type {\n",
       "        vertical-align: middle;\n",
       "    }\n",
       "\n",
       "    .dataframe tbody tr th {\n",
       "        vertical-align: top;\n",
       "    }\n",
       "\n",
       "    .dataframe thead th {\n",
       "        text-align: right;\n",
       "    }\n",
       "</style>\n",
       "<table border=\"1\" class=\"dataframe\">\n",
       "  <thead>\n",
       "    <tr style=\"text-align: right;\">\n",
       "      <th></th>\n",
       "      <th>month</th>\n",
       "      <th>town</th>\n",
       "      <th>flat_type</th>\n",
       "      <th>block</th>\n",
       "      <th>street_name</th>\n",
       "      <th>storey_range</th>\n",
       "      <th>floor_area_sqm</th>\n",
       "      <th>flat_model</th>\n",
       "      <th>lease_commence_date</th>\n",
       "      <th>resale_price</th>\n",
       "    </tr>\n",
       "  </thead>\n",
       "  <tbody>\n",
       "    <tr>\n",
       "      <th>120430</th>\n",
       "      <td>1996-04</td>\n",
       "      <td>BEDOK</td>\n",
       "      <td>3 ROOM</td>\n",
       "      <td>135</td>\n",
       "      <td>BEDOK NTH ST 2</td>\n",
       "      <td>01 TO 03</td>\n",
       "      <td>67.00</td>\n",
       "      <td>NEW GENERATION</td>\n",
       "      <td>1978</td>\n",
       "      <td>162000</td>\n",
       "    </tr>\n",
       "    <tr>\n",
       "      <th>236196</th>\n",
       "      <td>1999-02</td>\n",
       "      <td>GEYLANG</td>\n",
       "      <td>4 ROOM</td>\n",
       "      <td>348</td>\n",
       "      <td>UBI AVE 1</td>\n",
       "      <td>10 TO 12</td>\n",
       "      <td>84.00</td>\n",
       "      <td>SIMPLIFIED</td>\n",
       "      <td>1986</td>\n",
       "      <td>191000</td>\n",
       "    </tr>\n",
       "    <tr>\n",
       "      <th>253888</th>\n",
       "      <td>1999-05</td>\n",
       "      <td>JURONG EAST</td>\n",
       "      <td>4 ROOM</td>\n",
       "      <td>319</td>\n",
       "      <td>JURONG EAST ST 31</td>\n",
       "      <td>10 TO 12</td>\n",
       "      <td>104.00</td>\n",
       "      <td>MODEL A</td>\n",
       "      <td>1984</td>\n",
       "      <td>250000</td>\n",
       "    </tr>\n",
       "    <tr>\n",
       "      <th>273928</th>\n",
       "      <td>1999-09</td>\n",
       "      <td>BEDOK</td>\n",
       "      <td>5 ROOM</td>\n",
       "      <td>146</td>\n",
       "      <td>BEDOK RESERVOIR RD</td>\n",
       "      <td>13 TO 15</td>\n",
       "      <td>122.00</td>\n",
       "      <td>IMPROVED</td>\n",
       "      <td>1986</td>\n",
       "      <td>313000</td>\n",
       "    </tr>\n",
       "    <tr>\n",
       "      <th>161239</th>\n",
       "      <td>1997-06</td>\n",
       "      <td>HOUGANG</td>\n",
       "      <td>4 ROOM</td>\n",
       "      <td>461</td>\n",
       "      <td>HOUGANG AVE 10</td>\n",
       "      <td>10 TO 12</td>\n",
       "      <td>105.00</td>\n",
       "      <td>MODEL A</td>\n",
       "      <td>1992</td>\n",
       "      <td>380000</td>\n",
       "    </tr>\n",
       "  </tbody>\n",
       "</table>\n",
       "</div>"
      ],
      "text/plain": [
       "          month         town flat_type block         street_name storey_range  \\\n",
       "120430  1996-04        BEDOK    3 ROOM   135      BEDOK NTH ST 2     01 TO 03   \n",
       "236196  1999-02      GEYLANG    4 ROOM   348           UBI AVE 1     10 TO 12   \n",
       "253888  1999-05  JURONG EAST    4 ROOM   319   JURONG EAST ST 31     10 TO 12   \n",
       "273928  1999-09        BEDOK    5 ROOM   146  BEDOK RESERVOIR RD     13 TO 15   \n",
       "161239  1997-06      HOUGANG    4 ROOM   461      HOUGANG AVE 10     10 TO 12   \n",
       "\n",
       "        floor_area_sqm      flat_model  lease_commence_date  resale_price  \n",
       "120430           67.00  NEW GENERATION                 1978        162000  \n",
       "236196           84.00      SIMPLIFIED                 1986        191000  \n",
       "253888          104.00         MODEL A                 1984        250000  \n",
       "273928          122.00        IMPROVED                 1986        313000  \n",
       "161239          105.00         MODEL A                 1992        380000  "
      ]
     },
     "execution_count": 74,
     "metadata": {},
     "output_type": "execute_result"
    }
   ],
   "source": [
    "# Randomly sample 5 records with .sample(5)\n",
    "df.sample(5)"
   ]
  },
  {
   "cell_type": "markdown",
   "metadata": {},
   "source": [
    "# 2. Baseline Model (Decision Tree)\n",
    "A simple/initial model that you compare your later/more complex models against. It is basically the benchmark for your problem statement."
   ]
  },
  {
   "cell_type": "code",
   "execution_count": 75,
   "metadata": {},
   "outputs": [],
   "source": [
    "#Decision Tree in SKLearn don't take in string well. So we use a label encoder to change that string to a numeric value\n",
    "for column in df.columns:\n",
    "    if df[column].dtype == type(object):\n",
    "        #Create the label encoder\n",
    "        le = preprocessing.LabelEncoder()\n",
    "        #Convert the non numeric data to numeric\n",
    "        df[column] = le.fit_transform(df[column])"
   ]
  },
  {
   "cell_type": "code",
   "execution_count": 76,
   "metadata": {},
   "outputs": [
    {
     "data": {
      "text/html": [
       "<div>\n",
       "<style scoped>\n",
       "    .dataframe tbody tr th:only-of-type {\n",
       "        vertical-align: middle;\n",
       "    }\n",
       "\n",
       "    .dataframe tbody tr th {\n",
       "        vertical-align: top;\n",
       "    }\n",
       "\n",
       "    .dataframe thead th {\n",
       "        text-align: right;\n",
       "    }\n",
       "</style>\n",
       "<table border=\"1\" class=\"dataframe\">\n",
       "  <thead>\n",
       "    <tr style=\"text-align: right;\">\n",
       "      <th></th>\n",
       "      <th>month</th>\n",
       "      <th>town</th>\n",
       "      <th>flat_type</th>\n",
       "      <th>block</th>\n",
       "      <th>street_name</th>\n",
       "      <th>storey_range</th>\n",
       "      <th>floor_area_sqm</th>\n",
       "      <th>flat_model</th>\n",
       "      <th>lease_commence_date</th>\n",
       "      <th>resale_price</th>\n",
       "    </tr>\n",
       "  </thead>\n",
       "  <tbody>\n",
       "    <tr>\n",
       "      <th>218219</th>\n",
       "      <td>105</td>\n",
       "      <td>22</td>\n",
       "      <td>3</td>\n",
       "      <td>935</td>\n",
       "      <td>346</td>\n",
       "      <td>2</td>\n",
       "      <td>84.00</td>\n",
       "      <td>10</td>\n",
       "      <td>1987</td>\n",
       "      <td>227000</td>\n",
       "    </tr>\n",
       "    <tr>\n",
       "      <th>148253</th>\n",
       "      <td>84</td>\n",
       "      <td>18</td>\n",
       "      <td>4</td>\n",
       "      <td>225</td>\n",
       "      <td>116</td>\n",
       "      <td>6</td>\n",
       "      <td>123.00</td>\n",
       "      <td>11</td>\n",
       "      <td>1976</td>\n",
       "      <td>500000</td>\n",
       "    </tr>\n",
       "    <tr>\n",
       "      <th>3220</th>\n",
       "      <td>2</td>\n",
       "      <td>16</td>\n",
       "      <td>2</td>\n",
       "      <td>694</td>\n",
       "      <td>237</td>\n",
       "      <td>1</td>\n",
       "      <td>65.00</td>\n",
       "      <td>2</td>\n",
       "      <td>1976</td>\n",
       "      <td>38000</td>\n",
       "    </tr>\n",
       "    <tr>\n",
       "      <th>236811</th>\n",
       "      <td>109</td>\n",
       "      <td>13</td>\n",
       "      <td>3</td>\n",
       "      <td>413</td>\n",
       "      <td>191</td>\n",
       "      <td>2</td>\n",
       "      <td>103.00</td>\n",
       "      <td>5</td>\n",
       "      <td>1985</td>\n",
       "      <td>216000</td>\n",
       "    </tr>\n",
       "    <tr>\n",
       "      <th>111939</th>\n",
       "      <td>72</td>\n",
       "      <td>1</td>\n",
       "      <td>2</td>\n",
       "      <td>48</td>\n",
       "      <td>26</td>\n",
       "      <td>0</td>\n",
       "      <td>67.00</td>\n",
       "      <td>8</td>\n",
       "      <td>1978</td>\n",
       "      <td>133500</td>\n",
       "    </tr>\n",
       "  </tbody>\n",
       "</table>\n",
       "</div>"
      ],
      "text/plain": [
       "        month  town  flat_type  block  street_name  storey_range  \\\n",
       "218219    105    22          3    935          346             2   \n",
       "148253     84    18          4    225          116             6   \n",
       "3220        2    16          2    694          237             1   \n",
       "236811    109    13          3    413          191             2   \n",
       "111939     72     1          2     48           26             0   \n",
       "\n",
       "        floor_area_sqm  flat_model  lease_commence_date  resale_price  \n",
       "218219           84.00          10                 1987        227000  \n",
       "148253          123.00          11                 1976        500000  \n",
       "3220             65.00           2                 1976         38000  \n",
       "236811          103.00           5                 1985        216000  \n",
       "111939           67.00           8                 1978        133500  "
      ]
     },
     "execution_count": 76,
     "metadata": {},
     "output_type": "execute_result"
    }
   ],
   "source": [
    "# Randomly sample 5 records with .sample(5)\n",
    "df.sample(5)"
   ]
  },
  {
   "cell_type": "markdown",
   "metadata": {},
   "source": [
    "### Building Decision Tree Model\n",
    "Let's create a Decision Tree Model using Scikit-learn."
   ]
  },
  {
   "cell_type": "code",
   "execution_count": 77,
   "metadata": {},
   "outputs": [
    {
     "data": {
      "text/plain": [
       "array([0, 2, 3, 4, 1, 5, 6])"
      ]
     },
     "execution_count": 77,
     "metadata": {},
     "output_type": "execute_result"
    }
   ],
   "source": [
    "df['flat_type'].unique()"
   ]
  },
  {
   "cell_type": "code",
   "execution_count": 84,
   "metadata": {},
   "outputs": [],
   "source": [
    "#split dataset in features and target variable\n",
    "feature_cols = ['month','town','block','street_name','storey_range','floor_area_sqm','flat_model','lease_commence_date','resale_price']\n",
    "X = df[feature_cols]\n",
    "#y = df[['flat_type']]\n",
    "y = df['flat_type']"
   ]
  },
  {
   "cell_type": "code",
   "execution_count": 89,
   "metadata": {},
   "outputs": [],
   "source": [
    "# Split dataset into training set and test set\n",
    "#X_train, X_test, y_train, y_test = train_test_split(X, y, test_size=0.3, random_state=1) # 70% training and 30% test\n",
    "\n",
    "###################################################################################################################################\n",
    "\n",
    "\n",
    "X_train, X_test, y_train, y_test = train_test_split(X, y, test_size=0.50, random_state=0)\n"
   ]
  },
  {
   "cell_type": "code",
   "execution_count": 90,
   "metadata": {},
   "outputs": [
    {
     "data": {
      "text/plain": [
       "KNeighborsClassifier(n_neighbors=3)"
      ]
     },
     "execution_count": 90,
     "metadata": {},
     "output_type": "execute_result"
    }
   ],
   "source": [
    "# # Create Decision Tree classifer object\n",
    "# clf = DecisionTreeClassifier()\n",
    "\n",
    "# # Train Decision Tree Classifer\n",
    "# clf = clf.fit(X_train,y_train)\n",
    "\n",
    "# #Predict the response for test dataset\n",
    "# y_pred = clf.predict(X_test)\n",
    "\n",
    "###################################################################################################################################\n",
    "\n",
    "#Create the kNN classifier and set the number of neighbors to be 3. Note that you can tune this number of neighbors\n",
    "model = KNeighborsClassifier(n_neighbors=3)\n",
    "\n",
    "#Fit the training feature Xs and training label Ys\n",
    "model.fit(X_train,y_train)"
   ]
  },
  {
   "cell_type": "code",
   "execution_count": 87,
   "metadata": {},
   "outputs": [
    {
     "name": "stdout",
     "output_type": "stream",
     "text": [
      "Accuracy: 0.9993964716805942\n"
     ]
    }
   ],
   "source": [
    "# Model Accuracy, how often is the classifier correct?\n",
    "print(\"Accuracy:\",metrics.accuracy_score(y_test, y_pred))"
   ]
  },
  {
   "cell_type": "code",
   "execution_count": 88,
   "metadata": {},
   "outputs": [],
   "source": [
    "#installed graphviz & pydotplus"
   ]
  },
  {
   "cell_type": "code",
   "execution_count": 91,
   "metadata": {},
   "outputs": [],
   "source": [
    "#Use the trained model to predict the test data\n",
    "y_pred = model.predict(X_test)"
   ]
  },
  {
   "cell_type": "code",
   "execution_count": 108,
   "metadata": {},
   "outputs": [
    {
     "name": "stdout",
     "output_type": "stream",
     "text": [
      "[[  256    48    53    14     0     0     0]\n",
      " [   29   753   426    45     2     0     0]\n",
      " [  116  1204 52148  6056   609    76     1]\n",
      " [    4    35  3881 40186  5817   746    28]\n",
      " [    0     0    86  2810 15479  3001    35]\n",
      " [    0     0    34    37  2296  7192    76]\n",
      " [    0     0     0     0     5    12     4]]\n",
      "asr:  0.807924791086351\n",
      "f1:  0.807924791086351\n",
      "f2:  0.5798811706072399\n",
      "f3:  0.807924791086351\n"
     ]
    },
    {
     "name": "stderr",
     "output_type": "stream",
     "text": [
      "C:\\ProgramData\\Anaconda3\\lib\\site-packages\\sklearn\\metrics\\_classification.py:1267: UserWarning: Note that pos_label (set to 'positive') is ignored when average != 'binary' (got 'weighted'). You may use labels=[pos_label] to specify a single positive class.\n",
      "  warnings.warn(\"Note that pos_label (set to %r) is ignored when \"\n"
     ]
    }
   ],
   "source": [
    "# Find the confusion matrix of the result\n",
    "cm = confusion_matrix(y_pred, y_test)\n",
    "print(cm)\n",
    "\n",
    "# Find the accuracy and F1 score of the result\n",
    "asr = accuracy_score(y_pred, y_test)\n",
    "f1 = f1_score(y_pred, y_test,average='micro')\n",
    "\n",
    "# testing out different scores.\n",
    "f2 = precision_score(y_pred, y_test,pos_label='positive',average='macro')\n",
    "f3 = recall_score(y_pred, y_test,pos_label='positive',average='weighted')\n",
    "\n",
    "# testing out differet form of accuracy.\n",
    "# https://scikit-learn.org/stable/modules/generated/sklearn.metrics.precision_score.html\n",
    "# f2 = f1_score(y_pred, y_test,average='macro')\n",
    "# f3 = f1_score(y_pred, y_test,average='weighted')\n",
    "\n",
    "#The best f1_score is 1 and the worst value is 0.\n",
    "\n",
    "print('asr: ',asr)\n",
    "print('f1: ',f1)\n",
    "print('f2: ',f2)\n",
    "print('f3: ',f3)"
   ]
  },
  {
   "cell_type": "markdown",
   "metadata": {},
   "source": [
    "## Bagging (with Decision Tree)\n",
    "\n",
    "Refer to the following links on for detail explanation on the implementation:"
   ]
  },
  {
   "cell_type": "code",
   "execution_count": 109,
   "metadata": {},
   "outputs": [
    {
     "data": {
      "text/plain": [
       "BaggingClassifier(n_estimators=50)"
      ]
     },
     "execution_count": 109,
     "metadata": {},
     "output_type": "execute_result"
    }
   ],
   "source": [
    "#Create the Bagging classifier. Default base classifiers is Decision Tree. \n",
    "# - n_estimator is the number of base classifiers (i.e. weak learners)\n",
    "model = BaggingClassifier(n_estimators=50)\n",
    "\n",
    "#Fit the training feature Xs and training label Ys\n",
    "model.fit(X_train, y_train)"
   ]
  },
  {
   "cell_type": "code",
   "execution_count": 110,
   "metadata": {},
   "outputs": [],
   "source": [
    "#Use the trained model to predict the test data\n",
    "y_pred = model.predict(X_test)"
   ]
  },
  {
   "cell_type": "code",
   "execution_count": 118,
   "metadata": {},
   "outputs": [
    {
     "name": "stdout",
     "output_type": "stream",
     "text": [
      "[[  403     0     0     0     0     0     0]\n",
      " [    2  1784   317     0     0     0     0]\n",
      " [    0   256 54464  2713     0     0     0]\n",
      " [    0     0  1795 45692   686     0     0]\n",
      " [    0     0    24   743 22577    37    15]\n",
      " [    0     0     9     0   945 10859    94]\n",
      " [    0     0    19     0     0   131    35]]\n",
      "asr:  0.9457799442896936\n",
      "f1:  0.9457799442896936\n",
      "f2:  0.8372868390668112\n",
      "f3:  0.945701144101097\n"
     ]
    }
   ],
   "source": [
    "# Find the confusion matrix of the result\n",
    "cm = confusion_matrix(y_pred, y_test)\n",
    "print(cm)\n",
    "\n",
    "# Find the accuracy and F1 score of the result\n",
    "asr = accuracy_score(y_pred, y_test)\n",
    "f1 = f1_score(y_pred, y_test,average='micro')\n",
    "\n",
    "# testing out differet form of accuracy.\n",
    "# https://scikit-learn.org/stable/modules/generated/sklearn.metrics.precision_score.html\n",
    "f2 = f1_score(y_pred, y_test,average='macro')\n",
    "f3 = f1_score(y_pred, y_test,average='weighted')\n",
    "\n",
    "#The best f1_score is 1 and the worst value is 0.\n",
    "\n",
    "print('asr: ',asr)\n",
    "print('f1: ',f1)\n",
    "print('f2: ',f2)\n",
    "print('f3: ',f3)"
   ]
  },
  {
   "cell_type": "markdown",
   "metadata": {},
   "source": [
    "## AdaBoost (with Gaussian Navie Bayes)\n",
    "Refer to the following links on for detail explanation on the implementation:"
   ]
  },
  {
   "cell_type": "code",
   "execution_count": 114,
   "metadata": {},
   "outputs": [
    {
     "data": {
      "text/plain": [
       "GaussianNB()"
      ]
     },
     "execution_count": 114,
     "metadata": {},
     "output_type": "execute_result"
    }
   ],
   "source": [
    "model = GaussianNB()\n",
    "#Fit the training feature Xs and training label Ys\n",
    "model.fit(X_train, y_train)"
   ]
  },
  {
   "cell_type": "code",
   "execution_count": 119,
   "metadata": {},
   "outputs": [
    {
     "name": "stdout",
     "output_type": "stream",
     "text": [
      "[[  403     0     0     0     0     0     0]\n",
      " [    2  1784   317     0     0     0     0]\n",
      " [    0   256 54464  2713     0     0     0]\n",
      " [    0     0  1795 45692   686     0     0]\n",
      " [    0     0    24   743 22577    37    15]\n",
      " [    0     0     9     0   945 10859    94]\n",
      " [    0     0    19     0     0   131    35]]\n",
      "asr:  0.9457799442896936\n",
      "f1:  0.9457799442896936\n",
      "f2:  0.8372868390668112\n",
      "f3:  0.945701144101097\n"
     ]
    }
   ],
   "source": [
    "#Use the trained model to predict the test data\n",
    "y_pred = model.predict(X_test)\n",
    "# Find the confusion matrix of the result\n",
    "cm = confusion_matrix(y_pred, y_test)\n",
    "print(cm)\n",
    "\n",
    "# Find the accuracy and F1 score of the result\n",
    "asr = accuracy_score(y_pred, y_test)\n",
    "f1 = f1_score(y_pred, y_test,average='micro')\n",
    "\n",
    "# testing out differet form of accuracy.\n",
    "# https://scikit-learn.org/stable/modules/generated/sklearn.metrics.precision_score.html\n",
    "f2 = f1_score(y_pred, y_test,average='macro')\n",
    "f3 = f1_score(y_pred, y_test,average='weighted')\n",
    "\n",
    "#The best f1_score is 1 and the worst value is 0.\n",
    "\n",
    "print('asr: ',asr)\n",
    "print('f1: ',f1)\n",
    "print('f2: ',f2)\n",
    "print('f3: ',f3)"
   ]
  },
  {
   "cell_type": "code",
   "execution_count": 120,
   "metadata": {},
   "outputs": [
    {
     "data": {
      "text/plain": [
       "AdaBoostClassifier(base_estimator=GaussianNB(), learning_rate=1)"
      ]
     },
     "execution_count": 120,
     "metadata": {},
     "output_type": "execute_result"
    }
   ],
   "source": [
    "nb = GaussianNB()\n",
    "\n",
    "model = AdaBoostClassifier(n_estimators=50,learning_rate=1, base_estimator=nb)\n",
    "#model = BaggingClassifier(n_estimators=50, base_estimator=knn)\n",
    "\n",
    "\n",
    "#Fit the training feature Xs and training label Ys\n",
    "model.fit(X_train, y_train)"
   ]
  },
  {
   "cell_type": "code",
   "execution_count": 124,
   "metadata": {},
   "outputs": [
    {
     "name": "stdout",
     "output_type": "stream",
     "text": [
      "[[  336     0     0     0     0     0     0]\n",
      " [   51  1340   883     0     0     0     0]\n",
      " [   18   700 54470 14346   154     0     0]\n",
      " [    0     0  1256 30205  3582     0     0]\n",
      " [    0     0    14  4591 17629  1430    17]\n",
      " [    0     0     5     6  2843  9588   106]\n",
      " [    0     0     0     0     0     9    21]]\n",
      "asr:  0.7910097493036212\n",
      "f1:  0.7910097493036212\n",
      "f2:  0.6998741020796836\n",
      "f3:  0.7981375336134957\n"
     ]
    }
   ],
   "source": [
    "#Use the trained model to predict the test data\n",
    "y_pred = model.predict(X_test)\n",
    "# Find the confusion matrix of the result\n",
    "cm = confusion_matrix(y_pred, y_test)\n",
    "print(cm)\n",
    "\n",
    "# Find the accuracy and F1 score of the result\n",
    "asr = accuracy_score(y_pred, y_test)\n",
    "f1 = f1_score(y_pred, y_test,average='micro')\n",
    "\n",
    "# testing out differet form of accuracy.\n",
    "# https://scikit-learn.org/stable/modules/generated/sklearn.metrics.precision_score.html\n",
    "f2 = f1_score(y_pred, y_test,average='macro')\n",
    "f3 = f1_score(y_pred, y_test,average='weighted')\n",
    "\n",
    "#The best f1_score is 1 and the worst value is 0.\n",
    "\n",
    "print('asr: ',asr)\n",
    "print('f1: ',f1)\n",
    "print('f2: ',f2)\n",
    "print('f3: ',f3)"
   ]
  },
  {
   "cell_type": "code",
   "execution_count": null,
   "metadata": {},
   "outputs": [],
   "source": []
  }
 ],
 "metadata": {
  "kernelspec": {
   "display_name": "Python 3",
   "language": "python",
   "name": "python3"
  },
  "language_info": {
   "codemirror_mode": {
    "name": "ipython",
    "version": 3
   },
   "file_extension": ".py",
   "mimetype": "text/x-python",
   "name": "python",
   "nbconvert_exporter": "python",
   "pygments_lexer": "ipython3",
   "version": "3.8.3"
  }
 },
 "nbformat": 4,
 "nbformat_minor": 4
}
