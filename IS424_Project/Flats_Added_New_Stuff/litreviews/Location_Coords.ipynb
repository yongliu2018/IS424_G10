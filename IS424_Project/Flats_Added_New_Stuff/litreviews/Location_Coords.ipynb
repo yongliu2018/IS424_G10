{
 "cells": [
  {
   "cell_type": "code",
   "execution_count": 1,
   "metadata": {
    "id": "IexjjZhsZ5aa"
   },
   "outputs": [],
   "source": [
    "import json\n",
    "import pandas as pd\n",
    "import requests"
   ]
  },
  {
   "cell_type": "code",
   "execution_count": 7,
   "metadata": {
    "id": "z7qs3SVNVvPq"
   },
   "outputs": [],
   "source": [
    "df = pd.read_csv('resale-flat-prices-based-on-approval-date-1990-2012.csv')"
   ]
  },
  {
   "cell_type": "code",
   "execution_count": 8,
   "metadata": {
    "colab": {
     "base_uri": "https://localhost:8080/",
     "height": 608
    },
    "id": "ZXRoTNeMV02P",
    "outputId": "f7ce5a68-4da7-48cc-b0e7-fe40e6f14b2e"
   },
   "outputs": [
    {
     "data": {
      "text/html": [
       "<div>\n",
       "<style scoped>\n",
       "    .dataframe tbody tr th:only-of-type {\n",
       "        vertical-align: middle;\n",
       "    }\n",
       "\n",
       "    .dataframe tbody tr th {\n",
       "        vertical-align: top;\n",
       "    }\n",
       "\n",
       "    .dataframe thead th {\n",
       "        text-align: right;\n",
       "    }\n",
       "</style>\n",
       "<table border=\"1\" class=\"dataframe\">\n",
       "  <thead>\n",
       "    <tr style=\"text-align: right;\">\n",
       "      <th></th>\n",
       "      <th>month</th>\n",
       "      <th>town</th>\n",
       "      <th>flat_type</th>\n",
       "      <th>block</th>\n",
       "      <th>street_name</th>\n",
       "      <th>storey_range</th>\n",
       "      <th>floor_area_sqm</th>\n",
       "      <th>flat_model</th>\n",
       "      <th>lease_commence_date</th>\n",
       "      <th>resale_price</th>\n",
       "    </tr>\n",
       "  </thead>\n",
       "  <tbody>\n",
       "    <tr>\n",
       "      <th>0</th>\n",
       "      <td>1990-01</td>\n",
       "      <td>ANG MO KIO</td>\n",
       "      <td>1 ROOM</td>\n",
       "      <td>309</td>\n",
       "      <td>ANG MO KIO AVE 1</td>\n",
       "      <td>10 TO 12</td>\n",
       "      <td>31.0</td>\n",
       "      <td>IMPROVED</td>\n",
       "      <td>1977</td>\n",
       "      <td>9000.0</td>\n",
       "    </tr>\n",
       "    <tr>\n",
       "      <th>1</th>\n",
       "      <td>1990-01</td>\n",
       "      <td>ANG MO KIO</td>\n",
       "      <td>1 ROOM</td>\n",
       "      <td>309</td>\n",
       "      <td>ANG MO KIO AVE 1</td>\n",
       "      <td>04 TO 06</td>\n",
       "      <td>31.0</td>\n",
       "      <td>IMPROVED</td>\n",
       "      <td>1977</td>\n",
       "      <td>6000.0</td>\n",
       "    </tr>\n",
       "    <tr>\n",
       "      <th>2</th>\n",
       "      <td>1990-01</td>\n",
       "      <td>ANG MO KIO</td>\n",
       "      <td>1 ROOM</td>\n",
       "      <td>309</td>\n",
       "      <td>ANG MO KIO AVE 1</td>\n",
       "      <td>10 TO 12</td>\n",
       "      <td>31.0</td>\n",
       "      <td>IMPROVED</td>\n",
       "      <td>1977</td>\n",
       "      <td>8000.0</td>\n",
       "    </tr>\n",
       "    <tr>\n",
       "      <th>3</th>\n",
       "      <td>1990-01</td>\n",
       "      <td>ANG MO KIO</td>\n",
       "      <td>1 ROOM</td>\n",
       "      <td>309</td>\n",
       "      <td>ANG MO KIO AVE 1</td>\n",
       "      <td>07 TO 09</td>\n",
       "      <td>31.0</td>\n",
       "      <td>IMPROVED</td>\n",
       "      <td>1977</td>\n",
       "      <td>6000.0</td>\n",
       "    </tr>\n",
       "    <tr>\n",
       "      <th>4</th>\n",
       "      <td>1990-01</td>\n",
       "      <td>ANG MO KIO</td>\n",
       "      <td>3 ROOM</td>\n",
       "      <td>216</td>\n",
       "      <td>ANG MO KIO AVE 1</td>\n",
       "      <td>04 TO 06</td>\n",
       "      <td>73.0</td>\n",
       "      <td>NEW GENERATION</td>\n",
       "      <td>1976</td>\n",
       "      <td>47200.0</td>\n",
       "    </tr>\n",
       "    <tr>\n",
       "      <th>...</th>\n",
       "      <td>...</td>\n",
       "      <td>...</td>\n",
       "      <td>...</td>\n",
       "      <td>...</td>\n",
       "      <td>...</td>\n",
       "      <td>...</td>\n",
       "      <td>...</td>\n",
       "      <td>...</td>\n",
       "      <td>...</td>\n",
       "      <td>...</td>\n",
       "    </tr>\n",
       "    <tr>\n",
       "      <th>656846</th>\n",
       "      <td>2012-02</td>\n",
       "      <td>YISHUN</td>\n",
       "      <td>5 ROOM</td>\n",
       "      <td>212</td>\n",
       "      <td>YISHUN ST 21</td>\n",
       "      <td>10 TO 12</td>\n",
       "      <td>121.0</td>\n",
       "      <td>Improved</td>\n",
       "      <td>1985</td>\n",
       "      <td>476888.0</td>\n",
       "    </tr>\n",
       "    <tr>\n",
       "      <th>656847</th>\n",
       "      <td>2012-02</td>\n",
       "      <td>YISHUN</td>\n",
       "      <td>5 ROOM</td>\n",
       "      <td>758</td>\n",
       "      <td>YISHUN ST 72</td>\n",
       "      <td>01 TO 03</td>\n",
       "      <td>122.0</td>\n",
       "      <td>Improved</td>\n",
       "      <td>1986</td>\n",
       "      <td>490000.0</td>\n",
       "    </tr>\n",
       "    <tr>\n",
       "      <th>656848</th>\n",
       "      <td>2012-02</td>\n",
       "      <td>YISHUN</td>\n",
       "      <td>5 ROOM</td>\n",
       "      <td>873</td>\n",
       "      <td>YISHUN ST 81</td>\n",
       "      <td>01 TO 03</td>\n",
       "      <td>122.0</td>\n",
       "      <td>Improved</td>\n",
       "      <td>1988</td>\n",
       "      <td>488000.0</td>\n",
       "    </tr>\n",
       "    <tr>\n",
       "      <th>656849</th>\n",
       "      <td>2012-02</td>\n",
       "      <td>YISHUN</td>\n",
       "      <td>EXECUTIVE</td>\n",
       "      <td>664</td>\n",
       "      <td>YISHUN AVE 4</td>\n",
       "      <td>07 TO 09</td>\n",
       "      <td>181.0</td>\n",
       "      <td>Apartment</td>\n",
       "      <td>1992</td>\n",
       "      <td>705000.0</td>\n",
       "    </tr>\n",
       "    <tr>\n",
       "      <th>656850</th>\n",
       "      <td>2012-02</td>\n",
       "      <td>YISHUN</td>\n",
       "      <td>EXECUTIVE</td>\n",
       "      <td>293</td>\n",
       "      <td>YISHUN ST 22</td>\n",
       "      <td>04 TO 06</td>\n",
       "      <td>163.0</td>\n",
       "      <td>Apartment</td>\n",
       "      <td>1992</td>\n",
       "      <td>630000.0</td>\n",
       "    </tr>\n",
       "  </tbody>\n",
       "</table>\n",
       "<p>656851 rows × 10 columns</p>\n",
       "</div>"
      ],
      "text/plain": [
       "          month        town  ... lease_commence_date resale_price\n",
       "0       1990-01  ANG MO KIO  ...                1977       9000.0\n",
       "1       1990-01  ANG MO KIO  ...                1977       6000.0\n",
       "2       1990-01  ANG MO KIO  ...                1977       8000.0\n",
       "3       1990-01  ANG MO KIO  ...                1977       6000.0\n",
       "4       1990-01  ANG MO KIO  ...                1976      47200.0\n",
       "...         ...         ...  ...                 ...          ...\n",
       "656846  2012-02      YISHUN  ...                1985     476888.0\n",
       "656847  2012-02      YISHUN  ...                1986     490000.0\n",
       "656848  2012-02      YISHUN  ...                1988     488000.0\n",
       "656849  2012-02      YISHUN  ...                1992     705000.0\n",
       "656850  2012-02      YISHUN  ...                1992     630000.0\n",
       "\n",
       "[656851 rows x 10 columns]"
      ]
     },
     "execution_count": 8,
     "metadata": {
      "tags": []
     },
     "output_type": "execute_result"
    }
   ],
   "source": [
    "df"
   ]
  },
  {
   "cell_type": "code",
   "execution_count": 9,
   "metadata": {
    "colab": {
     "base_uri": "https://localhost:8080/",
     "height": 34
    },
    "id": "y3cbtRc5WwqJ",
    "outputId": "cfee6940-4a06-4dcf-a5ea-dfb51f9fa2cd"
   },
   "outputs": [
    {
     "data": {
      "text/plain": [
       "8416"
      ]
     },
     "execution_count": 9,
     "metadata": {
      "tags": []
     },
     "output_type": "execute_result"
    }
   ],
   "source": [
    "df_address = df['block'] + \" \" + df['street_name']\n",
    "\n",
    "df_unique_address = df_address.drop_duplicates()\n",
    "df_unique_address.reset_index(drop=True, inplace=True)\n",
    "len(df_unique_address)"
   ]
  },
  {
   "cell_type": "code",
   "execution_count": 10,
   "metadata": {
    "colab": {
     "base_uri": "https://localhost:8080/",
     "height": 223
    },
    "id": "d-xKB4tGWzEY",
    "outputId": "e109227a-8709-4526-94ce-6b2f846aed7e"
   },
   "outputs": [
    {
     "data": {
      "text/plain": [
       "0         309 ANG MO KIO AVE 1\n",
       "1         216 ANG MO KIO AVE 1\n",
       "2         211 ANG MO KIO AVE 3\n",
       "3         202 ANG MO KIO AVE 3\n",
       "4         235 ANG MO KIO AVE 3\n",
       "                 ...          \n",
       "8411        79A TOA PAYOH CTRL\n",
       "8412      25 NEW UPP CHANGI RD\n",
       "8413    677A JURONG WEST ST 64\n",
       "8414           633A PUNGGOL DR\n",
       "8415           636A PUNGGOL DR\n",
       "Length: 8416, dtype: object"
      ]
     },
     "execution_count": 10,
     "metadata": {
      "tags": []
     },
     "output_type": "execute_result"
    }
   ],
   "source": [
    "df_unique_address"
   ]
  },
  {
   "cell_type": "code",
   "execution_count": 19,
   "metadata": {
    "id": "AGDnzcH8WmTK"
   },
   "outputs": [],
   "source": [
    "# This cell ran for >30 min to retrieve 8k+ records\n",
    "\n",
    "latitude = []\n",
    "longitude = []\n",
    "postal_code = []\n",
    "full_address = []\n",
    "missing = []\n",
    "\n",
    "for row in range(len(df_unique_address)):\n",
    "    query_address = df_unique_address[row]\n",
    "    query_string = 'https://developers.onemap.sg/commonapi/search?searchVal=' + str(query_address) + '&returnGeom=Y&getAddrDetails=Y'\n",
    "    resp = requests.get(query_string)\n",
    "\n",
    "    # Convert JSON into Python Object\n",
    "    data_geo_location = json.loads(resp.content)\n",
    "    if data_geo_location['found'] != 0:\n",
    "        latitude.append(data_geo_location['results'][0]['LATITUDE'])\n",
    "        longitude.append(data_geo_location['results'][0]['LONGITUDE'])\n",
    "        postal_code.append(data_geo_location['results'][0]['POSTAL'])\n",
    "        full_address.append(data_geo_location['results'][0]['ADDRESS'])\n",
    "    else:\n",
    "        missing.append(query_address)"
   ]
  },
  {
   "cell_type": "code",
   "execution_count": 23,
   "metadata": {
    "colab": {
     "base_uri": "https://localhost:8080/",
     "height": 1000
    },
    "id": "CKb33_SDW2n1",
    "outputId": "1376e2cc-9595-42c1-be93-cd3acb94e73f"
   },
   "outputs": [
    {
     "data": {
      "text/plain": [
       "['309 ANG MO KIO AVE 1',\n",
       " '247 ANG MO KIO AVE 3',\n",
       " '252 ANG MO KIO AVE 4',\n",
       " '455 ANG MO KIO AVE 10',\n",
       " '4 HILLVIEW AVE',\n",
       " '6 HILLVIEW AVE',\n",
       " '2 HILLVIEW AVE',\n",
       " '33 TAMAN HO SWEE',\n",
       " '114 BT MERAH VIEW',\n",
       " '18 KG BAHRU HILL',\n",
       " '29 HAVELOCK RD',\n",
       " '111 BT MERAH VIEW',\n",
       " '22 OUTRAM PK',\n",
       " '12 SHORT ST',\n",
       " '13 SHORT ST',\n",
       " '314 CLEMENTI AVE 4',\n",
       " '313 CLEMENTI AVE 4',\n",
       " '401 CLEMENTI AVE 1',\n",
       " '1 JLN PASAR BARU',\n",
       " '59 SIMS DR',\n",
       " '3 TEBAN GDNS RD',\n",
       " '5 TEBAN GDNS RD',\n",
       " '10 TEBAN GDNS RD',\n",
       " '8 YUNG KUANG RD',\n",
       " '10 YUNG KUANG RD',\n",
       " '145 HU CHING RD',\n",
       " '167 BOON LAY DR',\n",
       " '168 BOON LAY DR',\n",
       " '169 BOON LAY DR',\n",
       " '170 BOON LAY DR',\n",
       " '172 BOON LAY DR',\n",
       " '220 BOON LAY AVE',\n",
       " \"2 ST. GEORGE'S RD\",\n",
       " '20 UPP BOON KENG RD',\n",
       " \"20 ST. GEORGE'S RD\",\n",
       " \"23 ST. GEORGE'S RD\",\n",
       " '53 TANGLIN HALT RD',\n",
       " '54 TANGLIN HALT RD',\n",
       " '96 MARGARET DR',\n",
       " '24 DOVER CRES',\n",
       " '173 STIRLING RD',\n",
       " '172 STIRLING RD',\n",
       " '52 TANGLIN HALT RD',\n",
       " \"74 C'WEALTH DR\",\n",
       " \"77 C'WEALTH DR\",\n",
       " \"79 C'WEALTH DR\",\n",
       " \"78 C'WEALTH DR\",\n",
       " '5 SELETAR WEST FARMWAY 6',\n",
       " '166 LOR 1 TOA PAYOH',\n",
       " '30 LOR 5 TOA PAYOH',\n",
       " '1A WOODLANDS CTR RD',\n",
       " '248 ANG MO KIO AVE 2',\n",
       " '454 ANG MO KIO AVE 10',\n",
       " '83 BEDOK NTH RD',\n",
       " '31 TAMAN HO SWEE',\n",
       " '107 DEPOT RD',\n",
       " '407 CLEMENTI AVE 1',\n",
       " '409 CLEMENTI AVE 1',\n",
       " '403 CLEMENTI AVE 1',\n",
       " '402 CLEMENTI AVE 1',\n",
       " '54 SIMS DR',\n",
       " '62 SIMS DR',\n",
       " '14 TEBAN GDNS RD',\n",
       " '5 YUNG PING RD',\n",
       " '6 YUNG PING RD',\n",
       " '142 HU CHING RD',\n",
       " '171 BOON LAY DR',\n",
       " '6 UPP BOON KENG RD',\n",
       " \"21 ST. GEORGE'S RD\",\n",
       " \"22 ST. GEORGE'S RD\",\n",
       " \"76 C'WEALTH DR\",\n",
       " '316 ANG MO KIO AVE 1',\n",
       " '110 BT MERAH VIEW',\n",
       " '22 KG BAHRU HILL',\n",
       " '11 SHORT ST',\n",
       " '7 TEBAN GDNS RD',\n",
       " '13 TEBAN GDNS RD',\n",
       " \"3 ST. GEORGE'S RD\",\n",
       " \"5 ST. GEORGE'S LANE\",\n",
       " \"8 ST. GEORGE'S LANE\",\n",
       " \"1 ST. GEORGE'S RD\",\n",
       " \"13 ST. GEORGE'S RD\",\n",
       " '3 LIM CHU KANG RD',\n",
       " '10 GHIM MOH RD',\n",
       " \"27A C'WEALTH AVE\",\n",
       " \"80 C'WEALTH DR\",\n",
       " '7 HILLVIEW AVE',\n",
       " '8 HILLVIEW AVE',\n",
       " '32 LOWER DELTA RD',\n",
       " '88 ZION RD',\n",
       " '90 ZION RD',\n",
       " '51 NILE RD',\n",
       " '54 NILE RD',\n",
       " '24 JLN MEMBINA BARAT',\n",
       " '6 TEBAN GDNS RD',\n",
       " \"6 ST. GEORGE'S LANE\",\n",
       " \"11 ST. GEORGE'S RD\",\n",
       " '5 BUANGKOK STH FARMWAY 1',\n",
       " '1 SELETAR WEST FARMWAY 6',\n",
       " '2 SELETAR WEST FARMWAY 6',\n",
       " '2A WOODLANDS CTR RD',\n",
       " '138 ALEXANDRA RD',\n",
       " '142 TIONG BAHRU RD',\n",
       " '91 ZION RD',\n",
       " '21 OUTRAM PK',\n",
       " '4 ROCHOR RD',\n",
       " '3 ROCHOR RD',\n",
       " \"14 ST. GEORGE'S RD\",\n",
       " \"9 ST. GEORGE'S RD\",\n",
       " \"18 ST. GEORGE'S RD\",\n",
       " \"39A C'WEALTH AVE\",\n",
       " '89 LOR 2 TOA PAYOH',\n",
       " '7 YUNG KUANG RD',\n",
       " \"75 C'WEALTH DR\",\n",
       " '167 LOR 1 TOA PAYOH',\n",
       " \"7 ST. GEORGE'S LANE\",\n",
       " '10 UPP BOON KENG RD',\n",
       " \"19 ST. GEORGE'S RD\",\n",
       " '113 BT MERAH VIEW',\n",
       " '23 KG BAHRU HILL',\n",
       " \"10 ST. GEORGE'S RD\",\n",
       " '51 TANGLIN HALT RD',\n",
       " \"17 ST. GEORGE'S RD\",\n",
       " \"16 ST. GEORGE'S RD\",\n",
       " '89 ZION RD',\n",
       " '137 ALEXANDRA RD',\n",
       " '24 KG BAHRU HILL',\n",
       " '68 DAKOTA CRES',\n",
       " \"15 ST. GEORGE'S RD\",\n",
       " '7 SELETAR WEST FARMWAY 6',\n",
       " \"12 ST. GEORGE'S RD\",\n",
       " '19 KG BAHRU HILL',\n",
       " '6 SELETAR WEST FARMWAY 6',\n",
       " \"4B ST. GEORGE'S LANE\"]"
      ]
     },
     "execution_count": 23,
     "metadata": {
      "tags": []
     },
     "output_type": "execute_result"
    }
   ],
   "source": [
    "missing"
   ]
  },
  {
   "cell_type": "code",
   "execution_count": 24,
   "metadata": {
    "colab": {
     "base_uri": "https://localhost:8080/",
     "height": 34
    },
    "id": "x-214MEFiGhK",
    "outputId": "5ac1d747-71bc-4ec2-e984-6fb64482fd46"
   },
   "outputs": [
    {
     "name": "stdout",
     "output_type": "stream",
     "text": [
      "8282 8282 8282 8282\n"
     ]
    }
   ],
   "source": [
    "print(len(latitude), len(longitude), len(postal_code), len(full_address))"
   ]
  },
  {
   "cell_type": "code",
   "execution_count": 25,
   "metadata": {
    "id": "TYGrGffbi8TM"
   },
   "outputs": [],
   "source": [
    "df_results = pd.DataFrame(list(zip(latitude, longitude, postal_code, full_address)), columns =['Latitude', 'Longitude', 'Postal Code', 'Full Address'])"
   ]
  },
  {
   "cell_type": "code",
   "execution_count": 26,
   "metadata": {
    "colab": {
     "base_uri": "https://localhost:8080/",
     "height": 588
    },
    "id": "AWCzkk9OjaAd",
    "outputId": "a8e5e273-8d49-47a0-f87c-f6b2b4ae6435"
   },
   "outputs": [
    {
     "data": {
      "text/html": [
       "<div>\n",
       "<style scoped>\n",
       "    .dataframe tbody tr th:only-of-type {\n",
       "        vertical-align: middle;\n",
       "    }\n",
       "\n",
       "    .dataframe tbody tr th {\n",
       "        vertical-align: top;\n",
       "    }\n",
       "\n",
       "    .dataframe thead th {\n",
       "        text-align: right;\n",
       "    }\n",
       "</style>\n",
       "<table border=\"1\" class=\"dataframe\">\n",
       "  <thead>\n",
       "    <tr style=\"text-align: right;\">\n",
       "      <th></th>\n",
       "      <th>Latitude</th>\n",
       "      <th>Longitude</th>\n",
       "      <th>Postal Code</th>\n",
       "      <th>Full Address</th>\n",
       "    </tr>\n",
       "  </thead>\n",
       "  <tbody>\n",
       "    <tr>\n",
       "      <th>0</th>\n",
       "      <td>1.366196788</td>\n",
       "      <td>103.841505</td>\n",
       "      <td>560216</td>\n",
       "      <td>216 ANG MO KIO AVENUE 1 ANG MO KIO 22 SINGAPOR...</td>\n",
       "    </tr>\n",
       "    <tr>\n",
       "      <th>1</th>\n",
       "      <td>1.3691969659999998</td>\n",
       "      <td>103.8416666</td>\n",
       "      <td>560211</td>\n",
       "      <td>211 ANG MO KIO AVENUE 3 HDB-ANG MO KIO SINGAPO...</td>\n",
       "    </tr>\n",
       "    <tr>\n",
       "      <th>2</th>\n",
       "      <td>1.36844644</td>\n",
       "      <td>103.8445163</td>\n",
       "      <td>560202</td>\n",
       "      <td>202 ANG MO KIO AVENUE 3 ANG MO KIO VIEW SINGAP...</td>\n",
       "    </tr>\n",
       "    <tr>\n",
       "      <th>3</th>\n",
       "      <td>1.366823609</td>\n",
       "      <td>103.8364912</td>\n",
       "      <td>560235</td>\n",
       "      <td>235 ANG MO KIO AVENUE 3 KEBUN BARU PALM VIEW S...</td>\n",
       "    </tr>\n",
       "    <tr>\n",
       "      <th>4</th>\n",
       "      <td>1.3683460680000001</td>\n",
       "      <td>103.83719599999999</td>\n",
       "      <td>560232</td>\n",
       "      <td>232 ANG MO KIO AVENUE 3 KEBUN BARU PALM VIEW S...</td>\n",
       "    </tr>\n",
       "    <tr>\n",
       "      <th>...</th>\n",
       "      <td>...</td>\n",
       "      <td>...</td>\n",
       "      <td>...</td>\n",
       "      <td>...</td>\n",
       "    </tr>\n",
       "    <tr>\n",
       "      <th>8277</th>\n",
       "      <td>1.334531295</td>\n",
       "      <td>103.8475657</td>\n",
       "      <td>311079</td>\n",
       "      <td>79A TOA PAYOH CENTRAL CENTRAL HORIZON SINGAPOR...</td>\n",
       "    </tr>\n",
       "    <tr>\n",
       "      <th>8278</th>\n",
       "      <td>1.323250133</td>\n",
       "      <td>103.9338356</td>\n",
       "      <td>462025</td>\n",
       "      <td>25 NEW UPPER CHANGI ROAD SINGAPORE 462025</td>\n",
       "    </tr>\n",
       "    <tr>\n",
       "      <th>8279</th>\n",
       "      <td>1.345630476</td>\n",
       "      <td>103.705038</td>\n",
       "      <td>641677</td>\n",
       "      <td>677A JURONG WEST STREET 64 EDELWEISS@JURONG SI...</td>\n",
       "    </tr>\n",
       "    <tr>\n",
       "      <th>8280</th>\n",
       "      <td>1.401369675</td>\n",
       "      <td>103.91319159999999</td>\n",
       "      <td>821633</td>\n",
       "      <td>633A PUNGGOL DRIVE EDGEDALE GREEN SINGAPORE 82...</td>\n",
       "    </tr>\n",
       "    <tr>\n",
       "      <th>8281</th>\n",
       "      <td>1.4002542130000002</td>\n",
       "      <td>103.91395379999999</td>\n",
       "      <td>821636</td>\n",
       "      <td>636A PUNGGOL DRIVE EDGEDALE GREEN SINGAPORE 82...</td>\n",
       "    </tr>\n",
       "  </tbody>\n",
       "</table>\n",
       "<p>8282 rows × 4 columns</p>\n",
       "</div>"
      ],
      "text/plain": [
       "                Latitude  ...                                       Full Address\n",
       "0            1.366196788  ...  216 ANG MO KIO AVENUE 1 ANG MO KIO 22 SINGAPOR...\n",
       "1     1.3691969659999998  ...  211 ANG MO KIO AVENUE 3 HDB-ANG MO KIO SINGAPO...\n",
       "2             1.36844644  ...  202 ANG MO KIO AVENUE 3 ANG MO KIO VIEW SINGAP...\n",
       "3            1.366823609  ...  235 ANG MO KIO AVENUE 3 KEBUN BARU PALM VIEW S...\n",
       "4     1.3683460680000001  ...  232 ANG MO KIO AVENUE 3 KEBUN BARU PALM VIEW S...\n",
       "...                  ...  ...                                                ...\n",
       "8277         1.334531295  ...  79A TOA PAYOH CENTRAL CENTRAL HORIZON SINGAPOR...\n",
       "8278         1.323250133  ...          25 NEW UPPER CHANGI ROAD SINGAPORE 462025\n",
       "8279         1.345630476  ...  677A JURONG WEST STREET 64 EDELWEISS@JURONG SI...\n",
       "8280         1.401369675  ...  633A PUNGGOL DRIVE EDGEDALE GREEN SINGAPORE 82...\n",
       "8281  1.4002542130000002  ...  636A PUNGGOL DRIVE EDGEDALE GREEN SINGAPORE 82...\n",
       "\n",
       "[8282 rows x 4 columns]"
      ]
     },
     "execution_count": 26,
     "metadata": {
      "tags": []
     },
     "output_type": "execute_result"
    }
   ],
   "source": [
    "df_results"
   ]
  },
  {
   "cell_type": "code",
   "execution_count": 28,
   "metadata": {
    "id": "6-GbAWoejsOr"
   },
   "outputs": [],
   "source": [
    "df_results.to_csv('address_details.csv', index=False)"
   ]
  }
 ],
 "metadata": {
  "colab": {
   "name": "Location Coords",
   "provenance": []
  },
  "kernelspec": {
   "display_name": "Python 3",
   "language": "python",
   "name": "python3"
  },
  "language_info": {
   "codemirror_mode": {
    "name": "ipython",
    "version": 3
   },
   "file_extension": ".py",
   "mimetype": "text/x-python",
   "name": "python",
   "nbconvert_exporter": "python",
   "pygments_lexer": "ipython3",
   "version": "3.8.3"
  }
 },
 "nbformat": 4,
 "nbformat_minor": 1
}
