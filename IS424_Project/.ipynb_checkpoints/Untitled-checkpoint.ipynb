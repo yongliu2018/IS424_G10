{
 "cells": [
  {
   "cell_type": "code",
   "execution_count": 2,
   "metadata": {},
   "outputs": [],
   "source": [
    "import numpy as np\n",
    "import pandas as pd\n",
    "import matplotlib.pyplot as plt"
   ]
  },
  {
   "cell_type": "code",
   "execution_count": 7,
   "metadata": {},
   "outputs": [
    {
     "data": {
      "text/html": [
       "<div>\n",
       "<style scoped>\n",
       "    .dataframe tbody tr th:only-of-type {\n",
       "        vertical-align: middle;\n",
       "    }\n",
       "\n",
       "    .dataframe tbody tr th {\n",
       "        vertical-align: top;\n",
       "    }\n",
       "\n",
       "    .dataframe thead th {\n",
       "        text-align: right;\n",
       "    }\n",
       "</style>\n",
       "<table border=\"1\" class=\"dataframe\">\n",
       "  <thead>\n",
       "    <tr style=\"text-align: right;\">\n",
       "      <th></th>\n",
       "      <th>Monthly_income_range</th>\n",
       "      <th>count1</th>\n",
       "      <th>Count2</th>\n",
       "      <th>Gender</th>\n",
       "      <th>Job_Type</th>\n",
       "    </tr>\n",
       "  </thead>\n",
       "  <tbody>\n",
       "    <tr>\n",
       "      <th>0</th>\n",
       "      <td>Under  $500</td>\n",
       "      <td>1.8</td>\n",
       "      <td>1800</td>\n",
       "      <td>Males</td>\n",
       "      <td>FullTime</td>\n",
       "    </tr>\n",
       "    <tr>\n",
       "      <th>1</th>\n",
       "      <td>Under  $500</td>\n",
       "      <td>2.2</td>\n",
       "      <td>2200</td>\n",
       "      <td>Females</td>\n",
       "      <td>FullTime</td>\n",
       "    </tr>\n",
       "    <tr>\n",
       "      <th>2</th>\n",
       "      <td>Under  $500</td>\n",
       "      <td>11.8</td>\n",
       "      <td>11800</td>\n",
       "      <td>Males</td>\n",
       "      <td>PartTime</td>\n",
       "    </tr>\n",
       "    <tr>\n",
       "      <th>3</th>\n",
       "      <td>Under  $500</td>\n",
       "      <td>23.8</td>\n",
       "      <td>23800</td>\n",
       "      <td>Females</td>\n",
       "      <td>PartTime</td>\n",
       "    </tr>\n",
       "    <tr>\n",
       "      <th>4</th>\n",
       "      <td>$     500    -    $    999</td>\n",
       "      <td>11.8</td>\n",
       "      <td>11800</td>\n",
       "      <td>Males</td>\n",
       "      <td>FullTime</td>\n",
       "    </tr>\n",
       "    <tr>\n",
       "      <th>...</th>\n",
       "      <td>...</td>\n",
       "      <td>...</td>\n",
       "      <td>...</td>\n",
       "      <td>...</td>\n",
       "      <td>...</td>\n",
       "    </tr>\n",
       "    <tr>\n",
       "      <th>59</th>\n",
       "      <td>$11,000    -    $11,999</td>\n",
       "      <td>0.1</td>\n",
       "      <td>100</td>\n",
       "      <td>Females</td>\n",
       "      <td>PartTime</td>\n",
       "    </tr>\n",
       "    <tr>\n",
       "      <th>60</th>\n",
       "      <td>$12,000    &amp;    Over</td>\n",
       "      <td>52.3</td>\n",
       "      <td>52300</td>\n",
       "      <td>Males</td>\n",
       "      <td>FullTime</td>\n",
       "    </tr>\n",
       "    <tr>\n",
       "      <th>61</th>\n",
       "      <td>$12,000    &amp;    Over</td>\n",
       "      <td>51.2</td>\n",
       "      <td>51200</td>\n",
       "      <td>Females</td>\n",
       "      <td>FullTime</td>\n",
       "    </tr>\n",
       "    <tr>\n",
       "      <th>62</th>\n",
       "      <td>$12,000    &amp;    Over</td>\n",
       "      <td>0.9</td>\n",
       "      <td>900</td>\n",
       "      <td>Males</td>\n",
       "      <td>PartTime</td>\n",
       "    </tr>\n",
       "    <tr>\n",
       "      <th>63</th>\n",
       "      <td>$12,000    &amp;    Over</td>\n",
       "      <td>1.1</td>\n",
       "      <td>1100</td>\n",
       "      <td>Females</td>\n",
       "      <td>PartTime</td>\n",
       "    </tr>\n",
       "  </tbody>\n",
       "</table>\n",
       "<p>64 rows × 5 columns</p>\n",
       "</div>"
      ],
      "text/plain": [
       "          Monthly_income_range  count1  Count2   Gender  Job_Type\n",
       "0                  Under  $500     1.8    1800    Males  FullTime\n",
       "1                  Under  $500     2.2    2200  Females  FullTime\n",
       "2                  Under  $500    11.8   11800    Males  PartTime\n",
       "3                  Under  $500    23.8   23800  Females  PartTime\n",
       "4   $     500    -    $    999    11.8   11800    Males  FullTime\n",
       "..                         ...     ...     ...      ...       ...\n",
       "59     $11,000    -    $11,999     0.1     100  Females  PartTime\n",
       "60        $12,000    &    Over    52.3   52300    Males  FullTime\n",
       "61        $12,000    &    Over    51.2   51200  Females  FullTime\n",
       "62        $12,000    &    Over     0.9     900    Males  PartTime\n",
       "63        $12,000    &    Over     1.1    1100  Females  PartTime\n",
       "\n",
       "[64 rows x 5 columns]"
      ]
     },
     "execution_count": 7,
     "metadata": {},
     "output_type": "execute_result"
    }
   ],
   "source": [
    "data = pd.read_csv('Income_by_job_gender_jobKind.csv')\n",
    "data"
   ]
  },
  {
   "cell_type": "code",
   "execution_count": 23,
   "metadata": {},
   "outputs": [
    {
     "data": {
      "text/plain": [
       "<matplotlib.axes._subplots.AxesSubplot at 0x1e5cffe9130>"
      ]
     },
     "execution_count": 23,
     "metadata": {},
     "output_type": "execute_result"
    },
    {
     "data": {
      "image/png": "[encoded data removed]",
      "text/plain": [
       "<Figure size 432x288 with 1 Axes>"
      ]
     },
     "metadata": {
      "needs_background": "light"
     },
     "output_type": "display_data"
    }
   ],
   "source": [
    "import seaborn as sns\n",
    "\n",
    "data.plot()"
   ]
  }
 ],
 "metadata": {
  "kernelspec": {
   "display_name": "Python 3",
   "language": "python",
   "name": "python3"
  },
  "language_info": {
   "codemirror_mode": {
    "name": "ipython",
    "version": 3
   },
   "file_extension": ".py",
   "mimetype": "text/x-python",
   "name": "python",
   "nbconvert_exporter": "python",
   "pygments_lexer": "ipython3",
   "version": "3.8.3"
  }
 },
 "nbformat": 4,
 "nbformat_minor": 4
}
