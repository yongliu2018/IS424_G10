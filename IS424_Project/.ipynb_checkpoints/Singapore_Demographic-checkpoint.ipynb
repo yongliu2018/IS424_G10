{
 "cells": [
  {
   "cell_type": "code",
   "execution_count": 50,
   "metadata": {},
   "outputs": [],
   "source": [
    "import numpy as np\n",
    "import pandas as pd"
   ]
  },
  {
   "cell_type": "code",
   "execution_count": 51,
   "metadata": {},
   "outputs": [],
   "source": [
    "df = pd.read_csv('Singapore Demographics Survey 2017.csv')"
   ]
  },
  {
   "cell_type": "code",
   "execution_count": 52,
   "metadata": {},
   "outputs": [
    {
     "data": {
      "text/plain": [
       "0             Below $20,000\n",
       "1             Below $20,000\n",
       "2             Below $20,000\n",
       "3             Below $20,000\n",
       "4       $120,000 - $139,999\n",
       "               ...         \n",
       "1174                    NaN\n",
       "1175                    NaN\n",
       "1176      $60,000 - $79,999\n",
       "1177                    NaN\n",
       "1178          Below $20,000\n",
       "Name: Income per annum (including bonuses, gross), Length: 1179, dtype: object"
      ]
     },
     "execution_count": 52,
     "metadata": {},
     "output_type": "execute_result"
    }
   ],
   "source": [
    "df['Income per annum (including bonuses, gross)']"
   ]
  },
  {
   "cell_type": "code",
   "execution_count": 53,
   "metadata": {
    "scrolled": true
   },
   "outputs": [
    {
     "data": {
      "text/plain": [
       "Bachelor's Degree                               268\n",
       "A level                                         261\n",
       "O level                                         228\n",
       "Diploma                                         204\n",
       "PSLE                                             88\n",
       "Master's Degree                                  66\n",
       "NITEC (including Higher and Master)              21\n",
       "PhD                                              16\n",
       "IB                                                3\n",
       "IB Diploma                                        2\n",
       "International Baccalaureate                       2\n",
       "High School Diploma                               2\n",
       "N Level                                           2\n",
       "None, came from overseas                          1\n",
       "IGCSE                                             1\n",
       "Studied in Australia [Completed VCE]              1\n",
       "computer science & engineering + mba finance      1\n",
       "PFP Cert                                          1\n",
       "IB Year 2                                         1\n",
       "A-Level Equivalent Overseas                       1\n",
       "International Baccalaureate                       1\n",
       "N Leveld                                          1\n",
       "IB diploma                                        1\n",
       "Kindergarten                                      1\n",
       "JD                                                1\n",
       "IB diploma                                        1\n",
       "Integrated Programme                              1\n",
       "IB                                                1\n",
       "N level                                           1\n",
       "Name: Present Highest Education Level, dtype: int64"
      ]
     },
     "execution_count": 53,
     "metadata": {},
     "output_type": "execute_result"
    }
   ],
   "source": [
    "df['Present Highest Education Level'].value_counts()"
   ]
  },
  {
   "cell_type": "code",
   "execution_count": 74,
   "metadata": {},
   "outputs": [
    {
     "data": {
      "text/plain": [
       "Bachelor's Degree                               531\n",
       "Master's Degree                                 381\n",
       "PhD                                             134\n",
       "Diploma                                          82\n",
       "A level                                           8\n",
       "NITEC (including Higher and Master)               7\n",
       "PSLE                                              6\n",
       "idk man                                           1\n",
       "computer science & engineering + mba finance      1\n",
       "Deciding in 2 years.                              1\n",
       "O level                                           1\n",
       "Unsure                                            1\n",
       "PharmD                                            1\n",
       "MBBS or MD                                        1\n",
       "Depends on life but preferrably uni               1\n",
       "Degree                                            1\n",
       "Same as above                                     1\n",
       "meh                                               1\n",
       "Medical Degree                                    1\n",
       "Kindergarden                                      1\n",
       "Househusband                                      1\n",
       "Name: Intended Highest Education Level, dtype: int64"
      ]
     },
     "execution_count": 74,
     "metadata": {},
     "output_type": "execute_result"
    }
   ],
   "source": [
    "df['Intended Highest Education Level'].value_counts()"
   ]
  },
  {
   "cell_type": "code",
   "execution_count": 100,
   "metadata": {},
   "outputs": [
    {
     "data": {
      "text/html": [
       "<div>\n",
       "<style scoped>\n",
       "    .dataframe tbody tr th:only-of-type {\n",
       "        vertical-align: middle;\n",
       "    }\n",
       "\n",
       "    .dataframe tbody tr th {\n",
       "        vertical-align: top;\n",
       "    }\n",
       "\n",
       "    .dataframe thead th {\n",
       "        text-align: right;\n",
       "    }\n",
       "</style>\n",
       "<table border=\"1\" class=\"dataframe\">\n",
       "  <thead>\n",
       "    <tr style=\"text-align: right;\">\n",
       "      <th></th>\n",
       "      <th>Present Highest Education Level</th>\n",
       "      <th>Intended Highest Education Level</th>\n",
       "      <th>Income per annum (including bonuses, gross)</th>\n",
       "    </tr>\n",
       "  </thead>\n",
       "  <tbody>\n",
       "    <tr>\n",
       "      <th>4</th>\n",
       "      <td>NITEC (including Higher and Master)</td>\n",
       "      <td>NITEC (including Higher and Master)</td>\n",
       "      <td>$120,000 - $139,999</td>\n",
       "    </tr>\n",
       "    <tr>\n",
       "      <th>20</th>\n",
       "      <td>Master's Degree</td>\n",
       "      <td>Master's Degree</td>\n",
       "      <td>$140,000 - $159,999</td>\n",
       "    </tr>\n",
       "    <tr>\n",
       "      <th>28</th>\n",
       "      <td>Bachelor's Degree</td>\n",
       "      <td>Bachelor's Degree</td>\n",
       "      <td>$120,000 - $139,999</td>\n",
       "    </tr>\n",
       "    <tr>\n",
       "      <th>29</th>\n",
       "      <td>Master's Degree</td>\n",
       "      <td>Master's Degree</td>\n",
       "      <td>$60,000 - $79,999</td>\n",
       "    </tr>\n",
       "    <tr>\n",
       "      <th>42</th>\n",
       "      <td>Bachelor's Degree</td>\n",
       "      <td>Bachelor's Degree</td>\n",
       "      <td>Below $20,000</td>\n",
       "    </tr>\n",
       "    <tr>\n",
       "      <th>...</th>\n",
       "      <td>...</td>\n",
       "      <td>...</td>\n",
       "      <td>...</td>\n",
       "    </tr>\n",
       "    <tr>\n",
       "      <th>1161</th>\n",
       "      <td>Diploma</td>\n",
       "      <td>Diploma</td>\n",
       "      <td>$20,000 - $39,999</td>\n",
       "    </tr>\n",
       "    <tr>\n",
       "      <th>1166</th>\n",
       "      <td>Master's Degree</td>\n",
       "      <td>Master's Degree</td>\n",
       "      <td>$60,000 - $79,999</td>\n",
       "    </tr>\n",
       "    <tr>\n",
       "      <th>1168</th>\n",
       "      <td>Bachelor's Degree</td>\n",
       "      <td>Bachelor's Degree</td>\n",
       "      <td>$40,000 - $59,999</td>\n",
       "    </tr>\n",
       "    <tr>\n",
       "      <th>1169</th>\n",
       "      <td>Bachelor's Degree</td>\n",
       "      <td>Bachelor's Degree</td>\n",
       "      <td>$20,000 - $39,999</td>\n",
       "    </tr>\n",
       "    <tr>\n",
       "      <th>1174</th>\n",
       "      <td>Bachelor's Degree</td>\n",
       "      <td>Bachelor's Degree</td>\n",
       "      <td>NaN</td>\n",
       "    </tr>\n",
       "  </tbody>\n",
       "</table>\n",
       "<p>218 rows × 3 columns</p>\n",
       "</div>"
      ],
      "text/plain": [
       "          Present Highest Education Level  \\\n",
       "4     NITEC (including Higher and Master)   \n",
       "20                        Master's Degree   \n",
       "28                      Bachelor's Degree   \n",
       "29                        Master's Degree   \n",
       "42                      Bachelor's Degree   \n",
       "...                                   ...   \n",
       "1161                              Diploma   \n",
       "1166                      Master's Degree   \n",
       "1168                    Bachelor's Degree   \n",
       "1169                    Bachelor's Degree   \n",
       "1174                    Bachelor's Degree   \n",
       "\n",
       "         Intended Highest Education Level  \\\n",
       "4     NITEC (including Higher and Master)   \n",
       "20                        Master's Degree   \n",
       "28                      Bachelor's Degree   \n",
       "29                        Master's Degree   \n",
       "42                      Bachelor's Degree   \n",
       "...                                   ...   \n",
       "1161                              Diploma   \n",
       "1166                      Master's Degree   \n",
       "1168                    Bachelor's Degree   \n",
       "1169                    Bachelor's Degree   \n",
       "1174                    Bachelor's Degree   \n",
       "\n",
       "     Income per annum (including bonuses, gross)  \n",
       "4                            $120,000 - $139,999  \n",
       "20                           $140,000 - $159,999  \n",
       "28                           $120,000 - $139,999  \n",
       "29                             $60,000 - $79,999  \n",
       "42                                 Below $20,000  \n",
       "...                                          ...  \n",
       "1161                           $20,000 - $39,999  \n",
       "1166                           $60,000 - $79,999  \n",
       "1168                           $40,000 - $59,999  \n",
       "1169                           $20,000 - $39,999  \n",
       "1174                                         NaN  \n",
       "\n",
       "[218 rows x 3 columns]"
      ]
     },
     "execution_count": 100,
     "metadata": {},
     "output_type": "execute_result"
    }
   ],
   "source": [
    "pd.set_option('display.max_columns', None)\n",
    "a = df['Present Highest Education Level'] == df['Intended Highest Education Level']\n",
    "df[a][['Present Highest Education Level','Intended Highest Education Level','Income per annum (including bonuses, gross)']]"
   ]
  },
  {
   "cell_type": "code",
   "execution_count": 56,
   "metadata": {},
   "outputs": [
    {
     "data": {
      "text/plain": [
       "Other: Student                       385\n",
       "Other: NSF                           155\n",
       "Other/Not Applicable                 150\n",
       "Information Technology               100\n",
       "Engineering                           54\n",
       "Banking & Finance                     43\n",
       "Advertising / Media                   40\n",
       "Healthcare / Pharmaceutrical          29\n",
       "Education & Training                  27\n",
       "Sciences / Laboratory / R&D           26\n",
       "Accounting / Auditing / Taxation      20\n",
       "Legal                                 19\n",
       "Marketing / Public Relations          13\n",
       "Sales / Retail                        11\n",
       "Consulting                            11\n",
       "Travel / Tourism                       9\n",
       "Architecture / Interior Design         8\n",
       "Manufacturing                          8\n",
       "Administrative / Secretarial           8\n",
       "Building & Construction                7\n",
       "Security & Investigation               6\n",
       "Customer Service                       6\n",
       "Human Resources                        6\n",
       "Real Estate / Property Management      5\n",
       "Food and Beverage                      5\n",
       "Events / Promotion                     4\n",
       "Logistics / Supply Chain               4\n",
       "Social Services                        4\n",
       "Environment / Health                   3\n",
       "Telecommunications                     2\n",
       "General Management / Work              2\n",
       "Purchasing / Merchandising             2\n",
       "Hospitality                            2\n",
       "Insurance                              2\n",
       "Repair & Maintenance                   2\n",
       "Personal Care / Beauty                 1\n",
       "Name: Industry, dtype: int64"
      ]
     },
     "execution_count": 56,
     "metadata": {},
     "output_type": "execute_result"
    }
   ],
   "source": [
    "df['Industry'].value_counts()"
   ]
  },
  {
   "cell_type": "code",
   "execution_count": 57,
   "metadata": {},
   "outputs": [],
   "source": [
    "import matplotlib.pyplot as plt\n",
    "import seaborn as sns #basically provides better/niceer graphs library to matplotlib\n",
    "%matplotlib inline"
   ]
  },
  {
   "cell_type": "code",
   "execution_count": 58,
   "metadata": {},
   "outputs": [
    {
     "data": {
      "text/plain": [
       "<matplotlib.axes._subplots.AxesSubplot at 0x2d33292b3d0>"
      ]
     },
     "execution_count": 58,
     "metadata": {},
     "output_type": "execute_result"
    },
    {
     "data": {
      "image/png": "[encoded data removed]",
      "text/plain": [
       "<Figure size 432x288 with 1 Axes>"
      ]
     },
     "metadata": {
      "needs_background": "light"
     },
     "output_type": "display_data"
    }
   ],
   "source": [
    "sns.distplot(df['Age'].dropna())"
   ]
  },
  {
   "cell_type": "code",
   "execution_count": 60,
   "metadata": {},
   "outputs": [
    {
     "data": {
      "text/plain": [
       "<matplotlib.axes._subplots.AxesSubplot at 0x2d3315fcb80>"
      ]
     },
     "execution_count": 60,
     "metadata": {},
     "output_type": "execute_result"
    },
    {
     "data": {
      "image/png": "[encoded data removed]",
      "text/plain": [
       "<Figure size 432x288 with 1 Axes>"
      ]
     },
     "metadata": {
      "needs_background": "light"
     },
     "output_type": "display_data"
    }
   ],
   "source": [
    "sns.boxplot(y = df['Age'])\n"
   ]
  },
  {
   "cell_type": "code",
   "execution_count": null,
   "metadata": {},
   "outputs": [],
   "source": []
  }
 ],
 "metadata": {
  "kernelspec": {
   "display_name": "Python 3",
   "language": "python",
   "name": "python3"
  },
  "language_info": {
   "codemirror_mode": {
    "name": "ipython",
    "version": 3
   },
   "file_extension": ".py",
   "mimetype": "text/x-python",
   "name": "python",
   "nbconvert_exporter": "python",
   "pygments_lexer": "ipython3",
   "version": "3.8.3"
  }
 },
 "nbformat": 4,
 "nbformat_minor": 4
}
